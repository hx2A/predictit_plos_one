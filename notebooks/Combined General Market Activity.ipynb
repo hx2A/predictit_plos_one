{
 "cells": [
  {
   "cell_type": "markdown",
   "metadata": {},
   "source": [
    "# Combined General Market Activity\n",
    "\n",
    "This notebook makes tables 3, 4, and 5."
   ]
  },
  {
   "cell_type": "code",
   "execution_count": null,
   "metadata": {},
   "outputs": [],
   "source": [
    "import os\n",
    "import sys\n",
    "import re\n",
    "\n",
    "from itertools import *\n",
    "from operator import mul\n",
    "from functools import reduce\n",
    "import pickle\n",
    "\n",
    "import numpy as np\n",
    "import pandas as pd\n",
    "%matplotlib inline\n",
    "import matplotlib as mpl\n",
    "import matplotlib.pyplot as plt\n",
    "\n",
    "idx = pd.IndexSlice\n",
    "\n",
    "from research_tools import storage\n",
    "\n",
    "pd.options.display.float_format = lambda x: '{:,.4f}'.format(x) if abs(x) < 1 else '{:,.2f}'.format(x)"
   ]
  },
  {
   "cell_type": "code",
   "execution_count": null,
   "metadata": {},
   "outputs": [],
   "source": [
    "os.chdir('..')\n",
    "\n",
    "basename = 'dem'\n",
    "\n",
    "dem_orders, dem_behavior_analysis, dem_trader_analysis, dem_quotes_dict = storage.retrieve_all(\n",
    "    [basename + '.orders',\n",
    "     basename + '.behavior_analysis',\n",
    "     basename + '.trader_analysis',\n",
    "     basename + '.reconstructed_quotes'])\n",
    "\n",
    "basename = 'gop'\n",
    "\n",
    "rep_orders, rep_behavior_analysis, rep_trader_analysis, rep_quotes_dict = storage.retrieve_all(\n",
    "    [basename + '.orders',\n",
    "     basename + '.behavior_analysis',\n",
    "     basename + '.trader_analysis',\n",
    "     basename + '.reconstructed_quotes'])"
   ]
  },
  {
   "cell_type": "code",
   "execution_count": null,
   "metadata": {},
   "outputs": [],
   "source": [
    "combined_behavior_analysis = dem_behavior_analysis.add(rep_behavior_analysis, fill_value=0)\n",
    "combined_trader_analysis = pd.concat([rep_trader_analysis, dem_trader_analysis])"
   ]
  },
  {
   "cell_type": "markdown",
   "metadata": {},
   "source": [
    "# Total Market Activity\n",
    "\n",
    "The following table is for Table 3."
   ]
  },
  {
   "cell_type": "code",
   "execution_count": null,
   "metadata": {},
   "outputs": [],
   "source": [
    "market_activity = pd.concat([dem_trader_analysis[['quantity', 'notional', 'fee']].sum(),\n",
    "                             rep_trader_analysis[['quantity', 'notional', 'fee']].sum()], axis=1)\n",
    "\n",
    "market_activity.columns = ['Democrat', 'Republican']"
   ]
  },
  {
   "cell_type": "code",
   "execution_count": null,
   "metadata": {},
   "outputs": [],
   "source": [
    "market_activity.T"
   ]
  },
  {
   "cell_type": "code",
   "execution_count": null,
   "metadata": {},
   "outputs": [],
   "source": [
    "print(market_activity.T.to_latex())"
   ]
  },
  {
   "cell_type": "markdown",
   "metadata": {},
   "source": [
    "The next table is Table 4."
   ]
  },
  {
   "cell_type": "code",
   "execution_count": null,
   "metadata": {},
   "outputs": [],
   "source": [
    "dem_trader_analysis['day_of_trade'] = dem_trader_analysis.date_executed.dt.date\n",
    "\n",
    "dem_daily_activity = dem_trader_analysis.groupby('day_of_trade')[['quantity', 'notional']].sum()\n",
    "dem_daily_activity.index = pd.to_datetime(dem_daily_activity.index)\n",
    "\n",
    "rep_trader_analysis['day_of_trade'] = rep_trader_analysis.date_executed.dt.date\n",
    "\n",
    "rep_daily_activity = rep_trader_analysis.groupby('day_of_trade')[['quantity', 'notional']].sum()\n",
    "rep_daily_activity.index = pd.to_datetime(rep_daily_activity.index)"
   ]
  },
  {
   "cell_type": "code",
   "execution_count": null,
   "metadata": {},
   "outputs": [],
   "source": [
    "percentile_activity = pd.concat([dem_daily_activity['quantity'],\n",
    "                                 (dem_daily_activity.cumsum() / dem_daily_activity.sum(axis=0))['quantity'],\n",
    "                                 rep_daily_activity['quantity'],\n",
    "                                 (rep_daily_activity.cumsum() / rep_daily_activity.sum(axis=0))['quantity'],\n",
    "                                 ],\n",
    "                                axis=1)\n",
    "percentile_activity.columns = pd.MultiIndex.from_tuples(\n",
    "    [('Democrat', 'Volume'),\n",
    "     ('Democrat', 'Cum. Volume (%)'),\n",
    "     ('Republican', 'Volume'),\n",
    "     ('Republican', 'Cum. Volume (%)')\n",
    "    ])\n",
    "percentile_activity.index.name = None\n",
    "\n",
    "percentile_activity[('Democrat', 'Cum. Volume (%)')] *= 100\n",
    "percentile_activity[('Republican', 'Cum. Volume (%)')] *= 100\n",
    "\n",
    "out = percentile_activity[percentile_activity.index.isin(\n",
    "    ['2015-07-01', '2015-09-01',\n",
    "     '2016-01-01', '2016-01-13', '2016-01-20',\n",
    "     '2016-01-27', '2016-01-28', '2016-01-29', '2016-01-30', '2016-01-31', '2016-02-01', '2016-02-02'])].copy()\n",
    "\n",
    "out[('Democrat', 'Volume')] = out[('Democrat', 'Volume')].astype(int)\n",
    "out[('Republican', 'Volume')] = out[('Republican', 'Volume')].astype(int)\n",
    "\n",
    "out"
   ]
  },
  {
   "cell_type": "code",
   "execution_count": null,
   "metadata": {},
   "outputs": [],
   "source": [
    "print(out.to_latex())"
   ]
  },
  {
   "cell_type": "markdown",
   "metadata": {},
   "source": [
    "# Trader Behavior Summary\n",
    "\n",
    "The below table is for Table 5.\n",
    "\n",
    "The Holding Times values are calculated separately, in the Miscellaneous Measurements notebooks."
   ]
  },
  {
   "cell_type": "code",
   "execution_count": null,
   "metadata": {},
   "outputs": [],
   "source": [
    "dem_summary = Series()\n",
    "rep_summary = Series()\n",
    "combined_summary = Series()\n",
    "\n",
    "dem_summary['Traders'] = len(dem_behavior_analysis.index)\n",
    "rep_summary['Traders'] = len(rep_behavior_analysis.index)\n",
    "combined_summary['Traders'] = len(combined_behavior_analysis.index)\n",
    "\n",
    "dem_summary['Orders Sent'] = dem_orders[dem_orders.user_guid.isin(dem_behavior_analysis.index)].shape[0]\n",
    "rep_summary['Orders Sent'] = rep_orders[rep_orders.user_guid.isin(rep_behavior_analysis.index)].shape[0]\n",
    "combined_summary['Orders Sent'] = dem_summary['Orders Sent'] + rep_summary['Orders Sent']\n",
    "\n",
    "dem_summary['Money Risked (cumulative exposure, $)'] = dem_behavior_analysis.max_in_pool.sum()\n",
    "rep_summary['Money Risked (cumulative exposure, $)'] = rep_behavior_analysis.max_in_pool.sum()\n",
    "combined_summary['Money Risked (cumulative exposure, $)'] = combined_behavior_analysis.max_in_pool.sum()\n",
    "\n",
    "dem_summary['Average Money Risked (cumulative exposure, $)'] = dem_behavior_analysis.max_in_pool.mean()\n",
    "rep_summary['Average Money Risked (cumulative exposure, $)'] = rep_behavior_analysis.max_in_pool.mean()\n",
    "combined_summary['Average Money Risked (cumulative exposure, $)'] = combined_behavior_analysis.max_in_pool.mean()\n",
    "\n",
    "dem_summary['Average (pre-fee) Profit ($)'] = 0\n",
    "rep_summary['Average (pre-fee) Profit ($)'] = 0\n",
    "combined_summary['Average (pre-fee) Profit ($)'] = 0\n",
    "\n",
    "dem_summary['Average (net-fee) Profit ($)'] = dem_trader_analysis.groupby('user_guid')['pnl_net_fee'].sum().mean()\n",
    "rep_summary['Average (net-fee) Profit ($)'] = rep_trader_analysis.groupby('user_guid')['pnl_net_fee'].sum().mean()\n",
    "combined_summary['Average (net-fee) Profit ($)'] = combined_trader_analysis.groupby('user_guid')['pnl_net_fee'].sum().mean()\n",
    "\n",
    "dem_summary['Min (net-fee) Profit ($)'] = dem_trader_analysis.groupby('user_guid')['pnl_net_fee'].sum().min()\n",
    "rep_summary['Min (net-fee) Profit ($)'] = rep_trader_analysis.groupby('user_guid')['pnl_net_fee'].sum().min()\n",
    "combined_summary['Min (net-fee) Profit ($)'] = combined_trader_analysis.groupby('user_guid')['pnl_net_fee'].sum().min()\n",
    "\n",
    "dem_summary['Max (net-fee) Profit ($)'] = dem_trader_analysis.groupby('user_guid')['pnl_net_fee'].sum().max()\n",
    "rep_summary['Max (net-fee) Profit ($)'] = rep_trader_analysis.groupby('user_guid')['pnl_net_fee'].sum().max()\n",
    "combined_summary['Max (net-fee) Profit ($)'] = combined_trader_analysis.groupby('user_guid')['pnl_net_fee'].sum().max()\n",
    "\n",
    "summary = pd.concat([dem_summary, rep_summary, combined_summary], axis=1)\n",
    "\n",
    "summary.columns = ['Democrat', 'Republican', 'Combined']\n",
    "\n",
    "summary"
   ]
  },
  {
   "cell_type": "code",
   "execution_count": null,
   "metadata": {},
   "outputs": [],
   "source": [
    "print(summary.to_latex())"
   ]
  },
  {
   "cell_type": "code",
   "execution_count": null,
   "metadata": {},
   "outputs": [],
   "source": []
  }
 ],
 "metadata": {
  "language_info": {
   "name": "python",
   "pygments_lexer": "ipython3"
  }
 },
 "nbformat": 4,
 "nbformat_minor": 2
}
