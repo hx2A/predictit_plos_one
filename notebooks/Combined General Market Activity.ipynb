{
 "cells": [
  {
   "cell_type": "markdown",
   "metadata": {},
   "source": [
    "# Combined General Market Activity\n",
    "\n",
    "This notebook makes tables 3, 4, and 5."
   ]
  },
  {
   "cell_type": "code",
   "execution_count": 1,
   "metadata": {},
   "outputs": [],
   "source": [
    "import os\n",
    "import sys\n",
    "import re\n",
    "\n",
    "from itertools import *\n",
    "from operator import mul\n",
    "from functools import reduce\n",
    "import pickle\n",
    "\n",
    "import numpy as np\n",
    "import pandas as pd\n",
    "%matplotlib inline\n",
    "import matplotlib as mpl\n",
    "import matplotlib.pyplot as plt\n",
    "\n",
    "idx = pd.IndexSlice\n",
    "\n",
    "from research_tools import storage\n",
    "\n",
    "pd.options.display.float_format = lambda x: '{:,.4f}'.format(x) if abs(x) < 1 else '{:,.2f}'.format(x)"
   ]
  },
  {
   "cell_type": "code",
   "execution_count": 2,
   "metadata": {},
   "outputs": [
    {
     "name": "stdout",
     "output_type": "stream",
     "text": [
      "Reading data from data/dem.orders.p\n",
      "Reading data from data/dem.behavior_analysis.p\n",
      "Reading data from data/dem.trader_analysis.p\n",
      "Reading data from data/dem.reconstructed_quotes.p\n",
      "Reading data from data/gop.orders.p\n",
      "Reading data from data/gop.behavior_analysis.p\n",
      "Reading data from data/gop.trader_analysis.p\n",
      "Reading data from data/gop.reconstructed_quotes.p\n"
     ]
    }
   ],
   "source": [
    "os.chdir('..')\n",
    "\n",
    "basename = 'dem'\n",
    "\n",
    "dem_orders, dem_behavior_analysis, dem_trader_analysis, dem_quotes_dict = storage.retrieve_all(\n",
    "    [basename + '.orders',\n",
    "     basename + '.behavior_analysis',\n",
    "     basename + '.trader_analysis',\n",
    "     basename + '.reconstructed_quotes'])\n",
    "\n",
    "basename = 'gop'\n",
    "\n",
    "rep_orders, rep_behavior_analysis, rep_trader_analysis, rep_quotes_dict = storage.retrieve_all(\n",
    "    [basename + '.orders',\n",
    "     basename + '.behavior_analysis',\n",
    "     basename + '.trader_analysis',\n",
    "     basename + '.reconstructed_quotes'])"
   ]
  },
  {
   "cell_type": "code",
   "execution_count": 3,
   "metadata": {},
   "outputs": [],
   "source": [
    "combined_behavior_analysis = dem_behavior_analysis.add(rep_behavior_analysis, fill_value=0)\n",
    "combined_trader_analysis = pd.concat([rep_trader_analysis, dem_trader_analysis])"
   ]
  },
  {
   "cell_type": "markdown",
   "metadata": {},
   "source": [
    "# Total Market Activity\n",
    "\n",
    "The following table is for Table 3."
   ]
  },
  {
   "cell_type": "code",
   "execution_count": 4,
   "metadata": {},
   "outputs": [],
   "source": [
    "market_activity = pd.concat([dem_trader_analysis[['quantity', 'notional', 'fee']].sum(),\n",
    "                             rep_trader_analysis[['quantity', 'notional', 'fee']].sum()], axis=1)\n",
    "\n",
    "market_activity.columns = ['Democrat', 'Republican']"
   ]
  },
  {
   "cell_type": "code",
   "execution_count": 5,
   "metadata": {},
   "outputs": [
    {
     "data": {
      "text/html": [
       "<div>\n",
       "<table border=\"1\" class=\"dataframe\">\n",
       "  <thead>\n",
       "    <tr style=\"text-align: right;\">\n",
       "      <th></th>\n",
       "      <th>quantity</th>\n",
       "      <th>notional</th>\n",
       "      <th>fee</th>\n",
       "    </tr>\n",
       "  </thead>\n",
       "  <tbody>\n",
       "    <tr>\n",
       "      <th>Democrat</th>\n",
       "      <td>2,642,398.00</td>\n",
       "      <td>1,271,811.34</td>\n",
       "      <td>11,718.86</td>\n",
       "    </tr>\n",
       "    <tr>\n",
       "      <th>Republican</th>\n",
       "      <td>6,016,470.00</td>\n",
       "      <td>2,892,290.36</td>\n",
       "      <td>23,096.63</td>\n",
       "    </tr>\n",
       "  </tbody>\n",
       "</table>\n",
       "</div>"
      ],
      "text/plain": [
       "               quantity     notional       fee\n",
       "Democrat   2,642,398.00 1,271,811.34 11,718.86\n",
       "Republican 6,016,470.00 2,892,290.36 23,096.63"
      ]
     },
     "execution_count": 5,
     "metadata": {},
     "output_type": "execute_result"
    }
   ],
   "source": [
    "market_activity.T"
   ]
  },
  {
   "cell_type": "code",
   "execution_count": 6,
   "metadata": {},
   "outputs": [
    {
     "name": "stdout",
     "output_type": "stream",
     "text": [
      "\\begin{tabular}{lrrr}\n",
      "\\toprule\n",
      "{} &     quantity &     notional &       fee \\\\\n",
      "\\midrule\n",
      "Democrat   & 2,642,398.00 & 1,271,811.34 & 11,718.86 \\\\\n",
      "Republican & 6,016,470.00 & 2,892,290.36 & 23,096.63 \\\\\n",
      "\\bottomrule\n",
      "\\end{tabular}\n",
      "\n"
     ]
    }
   ],
   "source": [
    "print(market_activity.T.to_latex())"
   ]
  },
  {
   "cell_type": "markdown",
   "metadata": {},
   "source": [
    "The next table is Table 4."
   ]
  },
  {
   "cell_type": "code",
   "execution_count": 7,
   "metadata": {},
   "outputs": [],
   "source": [
    "dem_trader_analysis['day_of_trade'] = dem_trader_analysis.date_executed.dt.date\n",
    "\n",
    "dem_daily_activity = dem_trader_analysis.groupby('day_of_trade')[['quantity', 'notional']].sum()\n",
    "dem_daily_activity.index = pd.to_datetime(dem_daily_activity.index)\n",
    "\n",
    "rep_trader_analysis['day_of_trade'] = rep_trader_analysis.date_executed.dt.date\n",
    "\n",
    "rep_daily_activity = rep_trader_analysis.groupby('day_of_trade')[['quantity', 'notional']].sum()\n",
    "rep_daily_activity.index = pd.to_datetime(rep_daily_activity.index)"
   ]
  },
  {
   "cell_type": "code",
   "execution_count": 8,
   "metadata": {},
   "outputs": [
    {
     "data": {
      "text/html": [
       "<div>\n",
       "<table border=\"1\" class=\"dataframe\">\n",
       "  <thead>\n",
       "    <tr>\n",
       "      <th></th>\n",
       "      <th colspan=\"2\" halign=\"left\">Democrat</th>\n",
       "      <th colspan=\"2\" halign=\"left\">Republican</th>\n",
       "    </tr>\n",
       "    <tr>\n",
       "      <th></th>\n",
       "      <th>Volume</th>\n",
       "      <th>Cum. Volume (%)</th>\n",
       "      <th>Volume</th>\n",
       "      <th>Cum. Volume (%)</th>\n",
       "    </tr>\n",
       "  </thead>\n",
       "  <tbody>\n",
       "    <tr>\n",
       "      <th>2015-07-01</th>\n",
       "      <td>736</td>\n",
       "      <td>0.1711</td>\n",
       "      <td>430</td>\n",
       "      <td>0.1914</td>\n",
       "    </tr>\n",
       "    <tr>\n",
       "      <th>2015-09-01</th>\n",
       "      <td>512</td>\n",
       "      <td>2.32</td>\n",
       "      <td>1894</td>\n",
       "      <td>0.9952</td>\n",
       "    </tr>\n",
       "    <tr>\n",
       "      <th>2016-01-01</th>\n",
       "      <td>8312</td>\n",
       "      <td>12.75</td>\n",
       "      <td>20496</td>\n",
       "      <td>23.76</td>\n",
       "    </tr>\n",
       "    <tr>\n",
       "      <th>2016-01-13</th>\n",
       "      <td>14494</td>\n",
       "      <td>18.00</td>\n",
       "      <td>62560</td>\n",
       "      <td>31.06</td>\n",
       "    </tr>\n",
       "    <tr>\n",
       "      <th>2016-01-20</th>\n",
       "      <td>21626</td>\n",
       "      <td>23.97</td>\n",
       "      <td>48224</td>\n",
       "      <td>36.37</td>\n",
       "    </tr>\n",
       "    <tr>\n",
       "      <th>2016-01-27</th>\n",
       "      <td>44000</td>\n",
       "      <td>35.55</td>\n",
       "      <td>92142</td>\n",
       "      <td>46.24</td>\n",
       "    </tr>\n",
       "    <tr>\n",
       "      <th>2016-01-28</th>\n",
       "      <td>33504</td>\n",
       "      <td>36.82</td>\n",
       "      <td>142114</td>\n",
       "      <td>48.60</td>\n",
       "    </tr>\n",
       "    <tr>\n",
       "      <th>2016-01-29</th>\n",
       "      <td>66666</td>\n",
       "      <td>39.34</td>\n",
       "      <td>200356</td>\n",
       "      <td>51.93</td>\n",
       "    </tr>\n",
       "    <tr>\n",
       "      <th>2016-01-30</th>\n",
       "      <td>75296</td>\n",
       "      <td>42.19</td>\n",
       "      <td>278388</td>\n",
       "      <td>56.56</td>\n",
       "    </tr>\n",
       "    <tr>\n",
       "      <th>2016-01-31</th>\n",
       "      <td>117420</td>\n",
       "      <td>46.64</td>\n",
       "      <td>282128</td>\n",
       "      <td>61.25</td>\n",
       "    </tr>\n",
       "    <tr>\n",
       "      <th>2016-02-01</th>\n",
       "      <td>392516</td>\n",
       "      <td>61.49</td>\n",
       "      <td>753354</td>\n",
       "      <td>73.77</td>\n",
       "    </tr>\n",
       "    <tr>\n",
       "      <th>2016-02-02</th>\n",
       "      <td>1017550</td>\n",
       "      <td>100.00</td>\n",
       "      <td>1578254</td>\n",
       "      <td>100.00</td>\n",
       "    </tr>\n",
       "  </tbody>\n",
       "</table>\n",
       "</div>"
      ],
      "text/plain": [
       "           Democrat                 Republican                \n",
       "             Volume Cum. Volume (%)     Volume Cum. Volume (%)\n",
       "2015-07-01      736          0.1711        430          0.1914\n",
       "2015-09-01      512            2.32       1894          0.9952\n",
       "2016-01-01     8312           12.75      20496           23.76\n",
       "2016-01-13    14494           18.00      62560           31.06\n",
       "2016-01-20    21626           23.97      48224           36.37\n",
       "2016-01-27    44000           35.55      92142           46.24\n",
       "2016-01-28    33504           36.82     142114           48.60\n",
       "2016-01-29    66666           39.34     200356           51.93\n",
       "2016-01-30    75296           42.19     278388           56.56\n",
       "2016-01-31   117420           46.64     282128           61.25\n",
       "2016-02-01   392516           61.49     753354           73.77\n",
       "2016-02-02  1017550          100.00    1578254          100.00"
      ]
     },
     "execution_count": 8,
     "metadata": {},
     "output_type": "execute_result"
    }
   ],
   "source": [
    "percentile_activity = pd.concat([dem_daily_activity['quantity'],\n",
    "                                 (dem_daily_activity.cumsum() / dem_daily_activity.sum(axis=0))['quantity'],\n",
    "                                 rep_daily_activity['quantity'],\n",
    "                                 (rep_daily_activity.cumsum() / rep_daily_activity.sum(axis=0))['quantity'],\n",
    "                                 ],\n",
    "                                axis=1)\n",
    "percentile_activity.columns = pd.MultiIndex.from_tuples(\n",
    "    [('Democrat', 'Volume'),\n",
    "     ('Democrat', 'Cum. Volume (%)'),\n",
    "     ('Republican', 'Volume'),\n",
    "     ('Republican', 'Cum. Volume (%)')\n",
    "    ])\n",
    "percentile_activity.index.name = None\n",
    "\n",
    "percentile_activity[('Democrat', 'Cum. Volume (%)')] *= 100\n",
    "percentile_activity[('Republican', 'Cum. Volume (%)')] *= 100\n",
    "\n",
    "out = percentile_activity[percentile_activity.index.isin(\n",
    "    ['2015-07-01', '2015-09-01',\n",
    "     '2016-01-01', '2016-01-13', '2016-01-20',\n",
    "     '2016-01-27', '2016-01-28', '2016-01-29', '2016-01-30', '2016-01-31', '2016-02-01', '2016-02-02'])].copy()\n",
    "\n",
    "out[('Democrat', 'Volume')] = out[('Democrat', 'Volume')].astype(int)\n",
    "out[('Republican', 'Volume')] = out[('Republican', 'Volume')].astype(int)\n",
    "\n",
    "out"
   ]
  },
  {
   "cell_type": "code",
   "execution_count": 9,
   "metadata": {},
   "outputs": [
    {
     "name": "stdout",
     "output_type": "stream",
     "text": [
      "\\begin{tabular}{lrrrr}\n",
      "\\toprule\n",
      "{} & Democrat &                 & Republican &                 \\\\\n",
      "{} &   Volume & Cum. Volume (\\%) &     Volume & Cum. Volume (\\%) \\\\\n",
      "\\midrule\n",
      "2015-07-01 &      736 &          0.1711 &        430 &          0.1914 \\\\\n",
      "2015-09-01 &      512 &            2.32 &       1894 &          0.9952 \\\\\n",
      "2016-01-01 &     8312 &           12.75 &      20496 &           23.76 \\\\\n",
      "2016-01-13 &    14494 &           18.00 &      62560 &           31.06 \\\\\n",
      "2016-01-20 &    21626 &           23.97 &      48224 &           36.37 \\\\\n",
      "2016-01-27 &    44000 &           35.55 &      92142 &           46.24 \\\\\n",
      "2016-01-28 &    33504 &           36.82 &     142114 &           48.60 \\\\\n",
      "2016-01-29 &    66666 &           39.34 &     200356 &           51.93 \\\\\n",
      "2016-01-30 &    75296 &           42.19 &     278388 &           56.56 \\\\\n",
      "2016-01-31 &   117420 &           46.64 &     282128 &           61.25 \\\\\n",
      "2016-02-01 &   392516 &           61.49 &     753354 &           73.77 \\\\\n",
      "2016-02-02 &  1017550 &          100.00 &    1578254 &          100.00 \\\\\n",
      "\\bottomrule\n",
      "\\end{tabular}\n",
      "\n"
     ]
    }
   ],
   "source": [
    "print(out.to_latex())"
   ]
  },
  {
   "cell_type": "markdown",
   "metadata": {},
   "source": [
    "# Trader Behavior Summary\n",
    "\n",
    "The below table is for Table 5.\n",
    "\n",
    "The Holding Times values are calculated separately, in the Miscellaneous Measurements notebooks."
   ]
  },
  {
   "cell_type": "code",
   "execution_count": 10,
   "metadata": {},
   "outputs": [
    {
     "data": {
      "text/html": [
       "<div>\n",
       "<table border=\"1\" class=\"dataframe\">\n",
       "  <thead>\n",
       "    <tr style=\"text-align: right;\">\n",
       "      <th></th>\n",
       "      <th>Democrat</th>\n",
       "      <th>Republican</th>\n",
       "      <th>Combined</th>\n",
       "    </tr>\n",
       "  </thead>\n",
       "  <tbody>\n",
       "    <tr>\n",
       "      <th>Traders</th>\n",
       "      <td>3,750.00</td>\n",
       "      <td>4,452.00</td>\n",
       "      <td>6,160.00</td>\n",
       "    </tr>\n",
       "    <tr>\n",
       "      <th>Orders Sent</th>\n",
       "      <td>33,959.00</td>\n",
       "      <td>62,551.00</td>\n",
       "      <td>96,510.00</td>\n",
       "    </tr>\n",
       "    <tr>\n",
       "      <th>Money Risked (cumulative exposure, $)</th>\n",
       "      <td>417,251.70</td>\n",
       "      <td>544,205.11</td>\n",
       "      <td>961,456.80</td>\n",
       "    </tr>\n",
       "    <tr>\n",
       "      <th>Average Money Risked (cumulative exposure, $)</th>\n",
       "      <td>111.27</td>\n",
       "      <td>122.24</td>\n",
       "      <td>156.08</td>\n",
       "    </tr>\n",
       "    <tr>\n",
       "      <th>Average (pre-fee) Profit ($)</th>\n",
       "      <td>0.0000</td>\n",
       "      <td>0.0000</td>\n",
       "      <td>0.0000</td>\n",
       "    </tr>\n",
       "    <tr>\n",
       "      <th>Average (net-fee) Profit ($)</th>\n",
       "      <td>-3.13</td>\n",
       "      <td>-5.19</td>\n",
       "      <td>-5.65</td>\n",
       "    </tr>\n",
       "    <tr>\n",
       "      <th>Min (net-fee) Profit ($)</th>\n",
       "      <td>-1,699.58</td>\n",
       "      <td>-1,701.32</td>\n",
       "      <td>-2,429.86</td>\n",
       "    </tr>\n",
       "    <tr>\n",
       "      <th>Max (net-fee) Profit ($)</th>\n",
       "      <td>1,187.54</td>\n",
       "      <td>2,882.00</td>\n",
       "      <td>3,101.20</td>\n",
       "    </tr>\n",
       "  </tbody>\n",
       "</table>\n",
       "</div>"
      ],
      "text/plain": [
       "                                                Democrat  Republican   Combined\n",
       "Traders                                         3,750.00    4,452.00   6,160.00\n",
       "Orders Sent                                    33,959.00   62,551.00  96,510.00\n",
       "Money Risked (cumulative exposure, $)         417,251.70  544,205.11 961,456.80\n",
       "Average Money Risked (cumulative exposure, $)     111.27      122.24     156.08\n",
       "Average (pre-fee) Profit ($)                      0.0000      0.0000     0.0000\n",
       "Average (net-fee) Profit ($)                       -3.13       -5.19      -5.65\n",
       "Min (net-fee) Profit ($)                       -1,699.58   -1,701.32  -2,429.86\n",
       "Max (net-fee) Profit ($)                        1,187.54    2,882.00   3,101.20"
      ]
     },
     "execution_count": 10,
     "metadata": {},
     "output_type": "execute_result"
    }
   ],
   "source": [
    "dem_summary = Series()\n",
    "rep_summary = Series()\n",
    "combined_summary = Series()\n",
    "\n",
    "dem_summary['Traders'] = len(dem_behavior_analysis.index)\n",
    "rep_summary['Traders'] = len(rep_behavior_analysis.index)\n",
    "combined_summary['Traders'] = len(combined_behavior_analysis.index)\n",
    "\n",
    "dem_summary['Orders Sent'] = dem_orders[dem_orders.user_guid.isin(dem_behavior_analysis.index)].shape[0]\n",
    "rep_summary['Orders Sent'] = rep_orders[rep_orders.user_guid.isin(rep_behavior_analysis.index)].shape[0]\n",
    "combined_summary['Orders Sent'] = dem_summary['Orders Sent'] + rep_summary['Orders Sent']\n",
    "\n",
    "dem_summary['Money Risked (cumulative exposure, $)'] = dem_behavior_analysis.max_in_pool.sum()\n",
    "rep_summary['Money Risked (cumulative exposure, $)'] = rep_behavior_analysis.max_in_pool.sum()\n",
    "combined_summary['Money Risked (cumulative exposure, $)'] = combined_behavior_analysis.max_in_pool.sum()\n",
    "\n",
    "dem_summary['Average Money Risked (cumulative exposure, $)'] = dem_behavior_analysis.max_in_pool.mean()\n",
    "rep_summary['Average Money Risked (cumulative exposure, $)'] = rep_behavior_analysis.max_in_pool.mean()\n",
    "combined_summary['Average Money Risked (cumulative exposure, $)'] = combined_behavior_analysis.max_in_pool.mean()\n",
    "\n",
    "dem_summary['Average (pre-fee) Profit ($)'] = 0\n",
    "rep_summary['Average (pre-fee) Profit ($)'] = 0\n",
    "combined_summary['Average (pre-fee) Profit ($)'] = 0\n",
    "\n",
    "dem_summary['Average (net-fee) Profit ($)'] = dem_trader_analysis.groupby('user_guid')['pnl_net_fee'].sum().mean()\n",
    "rep_summary['Average (net-fee) Profit ($)'] = rep_trader_analysis.groupby('user_guid')['pnl_net_fee'].sum().mean()\n",
    "combined_summary['Average (net-fee) Profit ($)'] = combined_trader_analysis.groupby('user_guid')['pnl_net_fee'].sum().mean()\n",
    "\n",
    "dem_summary['Min (net-fee) Profit ($)'] = dem_trader_analysis.groupby('user_guid')['pnl_net_fee'].sum().min()\n",
    "rep_summary['Min (net-fee) Profit ($)'] = rep_trader_analysis.groupby('user_guid')['pnl_net_fee'].sum().min()\n",
    "combined_summary['Min (net-fee) Profit ($)'] = combined_trader_analysis.groupby('user_guid')['pnl_net_fee'].sum().min()\n",
    "\n",
    "dem_summary['Max (net-fee) Profit ($)'] = dem_trader_analysis.groupby('user_guid')['pnl_net_fee'].sum().max()\n",
    "rep_summary['Max (net-fee) Profit ($)'] = rep_trader_analysis.groupby('user_guid')['pnl_net_fee'].sum().max()\n",
    "combined_summary['Max (net-fee) Profit ($)'] = combined_trader_analysis.groupby('user_guid')['pnl_net_fee'].sum().max()\n",
    "\n",
    "summary = pd.concat([dem_summary, rep_summary, combined_summary], axis=1)\n",
    "\n",
    "summary.columns = ['Democrat', 'Republican', 'Combined']\n",
    "\n",
    "summary"
   ]
  },
  {
   "cell_type": "code",
   "execution_count": 11,
   "metadata": {},
   "outputs": [
    {
     "name": "stdout",
     "output_type": "stream",
     "text": [
      "\\begin{tabular}{lrrr}\n",
      "\\toprule\n",
      "{} &   Democrat &  Republican &   Combined \\\\\n",
      "\\midrule\n",
      "Traders                                       &   3,750.00 &    4,452.00 &   6,160.00 \\\\\n",
      "Orders Sent                                   &  33,959.00 &   62,551.00 &  96,510.00 \\\\\n",
      "Money Risked (cumulative exposure, \\$)         & 417,251.70 &  544,205.11 & 961,456.80 \\\\\n",
      "Average Money Risked (cumulative exposure, \\$) &     111.27 &      122.24 &     156.08 \\\\\n",
      "Average (pre-fee) Profit (\\$)                  &     0.0000 &      0.0000 &     0.0000 \\\\\n",
      "Average (net-fee) Profit (\\$)                  &      -3.13 &       -5.19 &      -5.65 \\\\\n",
      "Min (net-fee) Profit (\\$)                      &  -1,699.58 &   -1,701.32 &  -2,429.86 \\\\\n",
      "Max (net-fee) Profit (\\$)                      &   1,187.54 &    2,882.00 &   3,101.20 \\\\\n",
      "\\bottomrule\n",
      "\\end{tabular}\n",
      "\n"
     ]
    }
   ],
   "source": [
    "print(summary.to_latex())"
   ]
  },
  {
   "cell_type": "code",
   "execution_count": null,
   "metadata": {},
   "outputs": [],
   "source": []
  }
 ],
 "metadata": {
  "kernelspec": {
   "display_name": "Python 3",
   "language": "python",
   "name": "python3"
  },
  "language_info": {
   "codemirror_mode": {
    "name": "ipython",
    "version": 3
   },
   "file_extension": ".py",
   "mimetype": "text/x-python",
   "name": "python",
   "nbconvert_exporter": "python",
   "pygments_lexer": "ipython3",
   "version": "3.5.2"
  }
 },
 "nbformat": 4,
 "nbformat_minor": 2
}
