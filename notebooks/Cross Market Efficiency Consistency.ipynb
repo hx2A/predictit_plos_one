{
 "cells": [
  {
   "cell_type": "markdown",
   "metadata": {},
   "source": [
    "# Cross Market Efficiency Consistency\n",
    "\n",
    "Below is the code for Table 12.\n",
    "\n",
    "To run this notebok you will first need to run both of the Trader Analysis notebooks."
   ]
  },
  {
   "cell_type": "code",
   "execution_count": null,
   "metadata": {},
   "outputs": [],
   "source": [
    "import os\n",
    "import sys\n",
    "import re\n",
    "from collections import defaultdict\n",
    "from functools import lru_cache\n",
    "\n",
    "%matplotlib inline\n",
    "import matplotlib.pyplot as plt\n",
    "import numpy as np\n",
    "import pandas as pd\n",
    "from pandas import Series, DataFrame, Panel\n",
    "\n",
    "idx = pd.IndexSlice\n",
    "\n",
    "from research_tools import storage\n",
    "\n",
    "pd.options.display.float_format = lambda x: '{:,.4f}'.format(x) if abs(x) < 1 else '{:,.2f}'.format(x)"
   ]
  },
  {
   "cell_type": "markdown",
   "metadata": {},
   "source": [
    "# Load Data\n",
    "\n",
    "First load the data we saved at the end of the Trader Analysis notebooks."
   ]
  },
  {
   "cell_type": "code",
   "execution_count": null,
   "metadata": {},
   "outputs": [],
   "source": [
    "def load_pickle(filename):\n",
    "    with open(os.path.join('data', filename), 'rb') as f:\n",
    "        return pickle.load(f)"
   ]
  },
  {
   "cell_type": "code",
   "execution_count": null,
   "metadata": {},
   "outputs": [],
   "source": [
    "os.chdir('..')\n",
    "\n",
    "dem_trader_classifications = load_pickle('dem.trader_classifications.p')\n",
    "dem_trader_stats_summary = load_pickle('dem.trader_stats_summary.p')\n",
    "\n",
    "rep_trader_classifications = load_pickle('gop.trader_classifications.p')\n",
    "rep_trader_stats_summary = load_pickle('gop.trader_stats_summary.p')"
   ]
  },
  {
   "cell_type": "code",
   "execution_count": null,
   "metadata": {},
   "outputs": [],
   "source": [
    "dem_trader_classifications.head()"
   ]
  },
  {
   "cell_type": "code",
   "execution_count": null,
   "metadata": {},
   "outputs": [],
   "source": [
    "dem_trader_stats_summary.head()"
   ]
  },
  {
   "cell_type": "markdown",
   "metadata": {},
   "source": [
    "There are 2042 traders who traded in both markets."
   ]
  },
  {
   "cell_type": "code",
   "execution_count": null,
   "metadata": {},
   "outputs": [],
   "source": [
    "common_traders = set(rep_trader_stats_summary.index & dem_trader_stats_summary.index)\n",
    "\n",
    "common_trader_count = len(common_traders)\n",
    "\n",
    "common_trader_count"
   ]
  },
  {
   "cell_type": "markdown",
   "metadata": {},
   "source": [
    "This means that about half of the traders in the DEM and REP markets traded in both markets."
   ]
  },
  {
   "cell_type": "code",
   "execution_count": null,
   "metadata": {},
   "outputs": [],
   "source": [
    "len(common_traders) / len(rep_trader_stats_summary.index)"
   ]
  },
  {
   "cell_type": "code",
   "execution_count": null,
   "metadata": {},
   "outputs": [],
   "source": [
    "len(common_traders) / len(dem_trader_stats_summary.index)"
   ]
  },
  {
   "cell_type": "markdown",
   "metadata": {},
   "source": [
    "# Compare Classifications\n",
    "\n",
    "For the traders who were in both markets, how many had the same classifications?\n",
    "\n",
    "We can merge the two dataframes together and have a look."
   ]
  },
  {
   "cell_type": "code",
   "execution_count": null,
   "metadata": {},
   "outputs": [],
   "source": [
    "joint_classifications = dem_trader_classifications.merge(rep_trader_classifications,\n",
    "                                                         how='inner',\n",
    "                                                         left_index=True,\n",
    "                                                         right_index=True,\n",
    "                                                         suffixes = ('_dem', '_rep'))"
   ]
  },
  {
   "cell_type": "markdown",
   "metadata": {},
   "source": [
    "For the 2042 traders who were in both markets, about two thirds of them were classified as efficient in both."
   ]
  },
  {
   "cell_type": "code",
   "execution_count": null,
   "metadata": {},
   "outputs": [],
   "source": [
    "val = (joint_classifications['efficiency_dem'] == joint_classifications['efficiency_rep']).sum() / common_trader_count\n",
    "\n",
    "val"
   ]
  },
  {
   "cell_type": "markdown",
   "metadata": {},
   "source": [
    "That was lower than what we see for size and activity, suggesting that efficiency classification is not as consistent as the other metrics.\n",
    "\n",
    "Here is the crosstab table (Table 12):"
   ]
  },
  {
   "cell_type": "code",
   "execution_count": null,
   "metadata": {},
   "outputs": [],
   "source": [
    "out = pd.crosstab(joint_classifications.efficiency_dem, joint_classifications.efficiency_rep)\n",
    "\n",
    "out"
   ]
  },
  {
   "cell_type": "code",
   "execution_count": null,
   "metadata": {},
   "outputs": [],
   "source": [
    "print(out.to_latex())"
   ]
  },
  {
   "cell_type": "markdown",
   "metadata": {},
   "source": [
    "Large / Small traders had the same classification 80% of the time."
   ]
  },
  {
   "cell_type": "code",
   "execution_count": null,
   "metadata": {},
   "outputs": [],
   "source": [
    "(joint_classifications['size_dem'] == joint_classifications['size_rep']).sum() / common_trader_count"
   ]
  },
  {
   "cell_type": "markdown",
   "metadata": {},
   "source": [
    "Active / Inactive traders has the same classification about 76% of the time."
   ]
  },
  {
   "cell_type": "code",
   "execution_count": null,
   "metadata": {},
   "outputs": [],
   "source": [
    "(joint_classifications['activity_dem'] == joint_classifications['activity_rep']).sum() / common_trader_count"
   ]
  },
  {
   "cell_type": "markdown",
   "metadata": {},
   "source": [
    "So, are the traders trading efficiently for random reasons or are we measuring something real? Is that 65.6% value statistically significant?\n",
    "\n",
    "In other words, if we had randomly assigned traders the designation \"efficient\" would that 65.6% value be significant?\n",
    "\n",
    "We know that in the DEM market 1/3 of the traders are efficient and in the REP market 1/4 of the traders are efficient. These proportions are also the case for the subset of traders that are in both markets."
   ]
  },
  {
   "cell_type": "code",
   "execution_count": null,
   "metadata": {},
   "outputs": [],
   "source": [
    "joint_classifications.efficiency_dem.value_counts() / common_trader_count"
   ]
  },
  {
   "cell_type": "code",
   "execution_count": null,
   "metadata": {},
   "outputs": [],
   "source": [
    "joint_classifications.efficiency_rep.value_counts() / common_trader_count"
   ]
  },
  {
   "cell_type": "markdown",
   "metadata": {},
   "source": [
    "To test the statistical significance of this we can do a monte-carlo simulation to see what the distribution would be if it were random.\n",
    "\n",
    "Randomly sample two classifications (1 or 2) in two sets. In the first the probability of getting a 1 is 1/3, in the second it is 1/4.\n",
    "\n",
    "We see that the mean is 58.3% with a standard deviation of 0.01."
   ]
  },
  {
   "cell_type": "code",
   "execution_count": null,
   "metadata": {},
   "outputs": [],
   "source": [
    "n = 10000\n",
    "a = np.random.choice([1, 2, 2], size=(common_trader_count, n))\n",
    "b = np.random.choice([1, 2, 2, 2], size=(common_trader_count, n))\n",
    "\n",
    "values = (a == b).sum(axis=0) / common_trader_count\n",
    "\n",
    "m, s = values.mean(), values.std()\n",
    "\n",
    "m, s"
   ]
  },
  {
   "cell_type": "markdown",
   "metadata": {},
   "source": [
    "This gives us a z-score of 6.7."
   ]
  },
  {
   "cell_type": "code",
   "execution_count": null,
   "metadata": {},
   "outputs": [],
   "source": [
    "(val - m) / s"
   ]
  },
  {
   "cell_type": "markdown",
   "metadata": {},
   "source": [
    "Clearly this is statistically significant."
   ]
  }
 ],
 "metadata": {
  "language_info": {
   "name": "python",
   "pygments_lexer": "ipython3"
  }
 },
 "nbformat": 4,
 "nbformat_minor": 2
}
