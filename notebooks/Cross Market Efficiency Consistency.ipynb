{
 "cells": [
  {
   "cell_type": "markdown",
   "metadata": {},
   "source": [
    "# Cross Market Efficiency Consistency\n",
    "\n",
    "Below is the code for Table 12.\n",
    "\n",
    "To run this notebok you will first need to run both of the Trader Analysis notebooks."
   ]
  },
  {
   "cell_type": "code",
   "execution_count": 1,
   "metadata": {},
   "outputs": [],
   "source": [
    "import os\n",
    "import sys\n",
    "import re\n",
    "from collections import defaultdict\n",
    "from functools import lru_cache\n",
    "\n",
    "%matplotlib inline\n",
    "import matplotlib.pyplot as plt\n",
    "import numpy as np\n",
    "import pandas as pd\n",
    "from pandas import Series, DataFrame, Panel\n",
    "\n",
    "idx = pd.IndexSlice\n",
    "\n",
    "from research_tools import storage\n",
    "\n",
    "pd.options.display.float_format = lambda x: '{:,.4f}'.format(x) if abs(x) < 1 else '{:,.2f}'.format(x)"
   ]
  },
  {
   "cell_type": "markdown",
   "metadata": {},
   "source": [
    "# Load Data\n",
    "\n",
    "First load the data we saved at the end of the Trader Analysis notebooks."
   ]
  },
  {
   "cell_type": "code",
   "execution_count": 2,
   "metadata": {},
   "outputs": [],
   "source": [
    "def load_pickle(filename):\n",
    "    with open(os.path.join('data', filename), 'rb') as f:\n",
    "        return pickle.load(f)"
   ]
  },
  {
   "cell_type": "code",
   "execution_count": 3,
   "metadata": {},
   "outputs": [],
   "source": [
    "os.chdir('..')\n",
    "\n",
    "dem_trader_classifications = load_pickle('dem.trader_classifications.p')\n",
    "dem_trader_stats_summary = load_pickle('dem.trader_stats_summary.p')\n",
    "\n",
    "rep_trader_classifications = load_pickle('gop.trader_classifications.p')\n",
    "rep_trader_stats_summary = load_pickle('gop.trader_stats_summary.p')"
   ]
  },
  {
   "cell_type": "code",
   "execution_count": 4,
   "metadata": {},
   "outputs": [
    {
     "data": {
      "text/html": [
       "<div>\n",
       "<table border=\"1\" class=\"dataframe\">\n",
       "  <thead>\n",
       "    <tr style=\"text-align: right;\">\n",
       "      <th></th>\n",
       "      <th>category</th>\n",
       "      <th>efficiency</th>\n",
       "      <th>size</th>\n",
       "      <th>activity</th>\n",
       "    </tr>\n",
       "    <tr>\n",
       "      <th>user_guid</th>\n",
       "      <th></th>\n",
       "      <th></th>\n",
       "      <th></th>\n",
       "      <th></th>\n",
       "    </tr>\n",
       "  </thead>\n",
       "  <tbody>\n",
       "    <tr>\n",
       "      <th>0022AC92-4A31-3308-BCB9-D94C6F507A31</th>\n",
       "      <td>Efficient Small Inactive</td>\n",
       "      <td>Efficient</td>\n",
       "      <td>Small</td>\n",
       "      <td>Inactive</td>\n",
       "    </tr>\n",
       "    <tr>\n",
       "      <th>00318BA5-01FC-34A4-A4A1-3523BF5485C6</th>\n",
       "      <td>Inefficient Small Inactive</td>\n",
       "      <td>Inefficient</td>\n",
       "      <td>Small</td>\n",
       "      <td>Inactive</td>\n",
       "    </tr>\n",
       "    <tr>\n",
       "      <th>0034C80D-C854-3C60-8F01-64B48B565AA5</th>\n",
       "      <td>Efficient Small Inactive</td>\n",
       "      <td>Efficient</td>\n",
       "      <td>Small</td>\n",
       "      <td>Inactive</td>\n",
       "    </tr>\n",
       "    <tr>\n",
       "      <th>005E1296-C898-3911-A4C1-0B33FAB05A29</th>\n",
       "      <td>Inefficient Large Active</td>\n",
       "      <td>Inefficient</td>\n",
       "      <td>Large</td>\n",
       "      <td>Active</td>\n",
       "    </tr>\n",
       "    <tr>\n",
       "      <th>005E56D2-76B6-39DA-9199-366D761FE63D</th>\n",
       "      <td>Inefficient Large Inactive</td>\n",
       "      <td>Inefficient</td>\n",
       "      <td>Large</td>\n",
       "      <td>Inactive</td>\n",
       "    </tr>\n",
       "  </tbody>\n",
       "</table>\n",
       "</div>"
      ],
      "text/plain": [
       "                                                        category   efficiency   size  activity\n",
       "user_guid                                                                                     \n",
       "0022AC92-4A31-3308-BCB9-D94C6F507A31    Efficient Small Inactive    Efficient  Small  Inactive\n",
       "00318BA5-01FC-34A4-A4A1-3523BF5485C6  Inefficient Small Inactive  Inefficient  Small  Inactive\n",
       "0034C80D-C854-3C60-8F01-64B48B565AA5    Efficient Small Inactive    Efficient  Small  Inactive\n",
       "005E1296-C898-3911-A4C1-0B33FAB05A29    Inefficient Large Active  Inefficient  Large    Active\n",
       "005E56D2-76B6-39DA-9199-366D761FE63D  Inefficient Large Inactive  Inefficient  Large  Inactive"
      ]
     },
     "execution_count": 4,
     "metadata": {},
     "output_type": "execute_result"
    }
   ],
   "source": [
    "dem_trader_classifications.head()"
   ]
  },
  {
   "cell_type": "code",
   "execution_count": 5,
   "metadata": {},
   "outputs": [
    {
     "data": {
      "text/html": [
       "<div>\n",
       "<table border=\"1\" class=\"dataframe\">\n",
       "  <thead>\n",
       "    <tr style=\"text-align: right;\">\n",
       "      <th></th>\n",
       "      <th>orders_sent</th>\n",
       "      <th>quantity</th>\n",
       "      <th>notional</th>\n",
       "      <th>spread_profit</th>\n",
       "      <th>bias_profit</th>\n",
       "      <th>position_profit</th>\n",
       "      <th>gross_pnl</th>\n",
       "      <th>fee</th>\n",
       "      <th>pnl_net_fee</th>\n",
       "      <th>take_pct</th>\n",
       "      <th>longshot_pct</th>\n",
       "      <th>antilongshot_pct</th>\n",
       "    </tr>\n",
       "    <tr>\n",
       "      <th>user_guid</th>\n",
       "      <th></th>\n",
       "      <th></th>\n",
       "      <th></th>\n",
       "      <th></th>\n",
       "      <th></th>\n",
       "      <th></th>\n",
       "      <th></th>\n",
       "      <th></th>\n",
       "      <th></th>\n",
       "      <th></th>\n",
       "      <th></th>\n",
       "      <th></th>\n",
       "    </tr>\n",
       "  </thead>\n",
       "  <tbody>\n",
       "    <tr>\n",
       "      <th>C4D5B846-1FD3-31DB-BA4C-9223A8633708</th>\n",
       "      <td>6</td>\n",
       "      <td>6038</td>\n",
       "      <td>4,718.51</td>\n",
       "      <td>10.47</td>\n",
       "      <td>-22.06</td>\n",
       "      <td>1,331.08</td>\n",
       "      <td>1,319.49</td>\n",
       "      <td>131.95</td>\n",
       "      <td>1,187.54</td>\n",
       "      <td>0.2136</td>\n",
       "      <td>0.0000</td>\n",
       "      <td>0.0000</td>\n",
       "    </tr>\n",
       "    <tr>\n",
       "      <th>9D326C8B-8DE3-3A23-8D20-E2B1A332FAB9</th>\n",
       "      <td>10</td>\n",
       "      <td>6034</td>\n",
       "      <td>4,716.10</td>\n",
       "      <td>36.94</td>\n",
       "      <td>-25.52</td>\n",
       "      <td>1,306.48</td>\n",
       "      <td>1,317.90</td>\n",
       "      <td>131.79</td>\n",
       "      <td>1,186.11</td>\n",
       "      <td>0.0603</td>\n",
       "      <td>0.0000</td>\n",
       "      <td>0.0000</td>\n",
       "    </tr>\n",
       "    <tr>\n",
       "      <th>A5D275E7-E1CA-3003-ABB8-00947B491947</th>\n",
       "      <td>47</td>\n",
       "      <td>7392</td>\n",
       "      <td>6,014.55</td>\n",
       "      <td>58.17</td>\n",
       "      <td>3.79</td>\n",
       "      <td>1,252.99</td>\n",
       "      <td>1,314.95</td>\n",
       "      <td>131.49</td>\n",
       "      <td>1,183.45</td>\n",
       "      <td>0.2024</td>\n",
       "      <td>0.0000</td>\n",
       "      <td>0.4470</td>\n",
       "    </tr>\n",
       "    <tr>\n",
       "      <th>738E8484-0BDA-3B96-84DC-A110B70DF314</th>\n",
       "      <td>9</td>\n",
       "      <td>5948</td>\n",
       "      <td>4,673.58</td>\n",
       "      <td>62.61</td>\n",
       "      <td>-24.13</td>\n",
       "      <td>1,235.94</td>\n",
       "      <td>1,274.42</td>\n",
       "      <td>127.44</td>\n",
       "      <td>1,146.98</td>\n",
       "      <td>0.0121</td>\n",
       "      <td>0.0000</td>\n",
       "      <td>0.0000</td>\n",
       "    </tr>\n",
       "    <tr>\n",
       "      <th>34A305EF-1ED6-3B2D-9F7D-0A90C7B7A787</th>\n",
       "      <td>75</td>\n",
       "      <td>6708</td>\n",
       "      <td>4,880.55</td>\n",
       "      <td>-5.90</td>\n",
       "      <td>38.32</td>\n",
       "      <td>1,154.81</td>\n",
       "      <td>1,187.23</td>\n",
       "      <td>120.95</td>\n",
       "      <td>1,066.28</td>\n",
       "      <td>0.7508</td>\n",
       "      <td>0.0000</td>\n",
       "      <td>0.0198</td>\n",
       "    </tr>\n",
       "  </tbody>\n",
       "</table>\n",
       "</div>"
      ],
      "text/plain": [
       "                                      orders_sent  quantity  notional  spread_profit  bias_profit  position_profit  gross_pnl    fee  pnl_net_fee  take_pct  longshot_pct  antilongshot_pct\n",
       "user_guid                                                                                                                                                                                  \n",
       "C4D5B846-1FD3-31DB-BA4C-9223A8633708            6      6038  4,718.51          10.47       -22.06         1,331.08   1,319.49 131.95     1,187.54    0.2136        0.0000            0.0000\n",
       "9D326C8B-8DE3-3A23-8D20-E2B1A332FAB9           10      6034  4,716.10          36.94       -25.52         1,306.48   1,317.90 131.79     1,186.11    0.0603        0.0000            0.0000\n",
       "A5D275E7-E1CA-3003-ABB8-00947B491947           47      7392  6,014.55          58.17         3.79         1,252.99   1,314.95 131.49     1,183.45    0.2024        0.0000            0.4470\n",
       "738E8484-0BDA-3B96-84DC-A110B70DF314            9      5948  4,673.58          62.61       -24.13         1,235.94   1,274.42 127.44     1,146.98    0.0121        0.0000            0.0000\n",
       "34A305EF-1ED6-3B2D-9F7D-0A90C7B7A787           75      6708  4,880.55          -5.90        38.32         1,154.81   1,187.23 120.95     1,066.28    0.7508        0.0000            0.0198"
      ]
     },
     "execution_count": 5,
     "metadata": {},
     "output_type": "execute_result"
    }
   ],
   "source": [
    "dem_trader_stats_summary.head()"
   ]
  },
  {
   "cell_type": "markdown",
   "metadata": {},
   "source": [
    "There are 2042 traders who traded in both markets."
   ]
  },
  {
   "cell_type": "code",
   "execution_count": 6,
   "metadata": {},
   "outputs": [
    {
     "data": {
      "text/plain": [
       "2042"
      ]
     },
     "execution_count": 6,
     "metadata": {},
     "output_type": "execute_result"
    }
   ],
   "source": [
    "common_traders = set(rep_trader_stats_summary.index & dem_trader_stats_summary.index)\n",
    "\n",
    "common_trader_count = len(common_traders)\n",
    "\n",
    "common_trader_count"
   ]
  },
  {
   "cell_type": "markdown",
   "metadata": {},
   "source": [
    "This means that about half of the traders in the DEM and REP markets traded in both markets."
   ]
  },
  {
   "cell_type": "code",
   "execution_count": 7,
   "metadata": {},
   "outputs": [
    {
     "data": {
      "text/plain": [
       "0.458670260557053"
      ]
     },
     "execution_count": 7,
     "metadata": {},
     "output_type": "execute_result"
    }
   ],
   "source": [
    "len(common_traders) / len(rep_trader_stats_summary.index)"
   ]
  },
  {
   "cell_type": "code",
   "execution_count": 8,
   "metadata": {},
   "outputs": [
    {
     "data": {
      "text/plain": [
       "0.5445333333333333"
      ]
     },
     "execution_count": 8,
     "metadata": {},
     "output_type": "execute_result"
    }
   ],
   "source": [
    "len(common_traders) / len(dem_trader_stats_summary.index)"
   ]
  },
  {
   "cell_type": "markdown",
   "metadata": {},
   "source": [
    "# Compare Classifications\n",
    "\n",
    "For the traders who were in both markets, how many had the same classifications?\n",
    "\n",
    "We can merge the two dataframes together and have a look."
   ]
  },
  {
   "cell_type": "code",
   "execution_count": 9,
   "metadata": {},
   "outputs": [],
   "source": [
    "joint_classifications = dem_trader_classifications.merge(rep_trader_classifications,\n",
    "                                                         how='inner',\n",
    "                                                         left_index=True,\n",
    "                                                         right_index=True,\n",
    "                                                         suffixes = ('_dem', '_rep'))"
   ]
  },
  {
   "cell_type": "markdown",
   "metadata": {},
   "source": [
    "For the 2042 traders who were in both markets, about two thirds of them were classified as efficient in both."
   ]
  },
  {
   "cell_type": "code",
   "execution_count": 10,
   "metadata": {},
   "outputs": [
    {
     "data": {
      "text/plain": [
       "0.65621939275220376"
      ]
     },
     "execution_count": 10,
     "metadata": {},
     "output_type": "execute_result"
    }
   ],
   "source": [
    "val = (joint_classifications['efficiency_dem'] == joint_classifications['efficiency_rep']).sum() / common_trader_count\n",
    "\n",
    "val"
   ]
  },
  {
   "cell_type": "markdown",
   "metadata": {},
   "source": [
    "That was lower than what we see for size and activity, suggesting that efficiency classification is not as consistent as the other metrics.\n",
    "\n",
    "Here is the crosstab table (Table 12):"
   ]
  },
  {
   "cell_type": "code",
   "execution_count": 11,
   "metadata": {},
   "outputs": [
    {
     "data": {
      "text/html": [
       "<div>\n",
       "<table border=\"1\" class=\"dataframe\">\n",
       "  <thead>\n",
       "    <tr style=\"text-align: right;\">\n",
       "      <th>efficiency_rep</th>\n",
       "      <th>Efficient</th>\n",
       "      <th>Inefficient</th>\n",
       "    </tr>\n",
       "    <tr>\n",
       "      <th>efficiency_dem</th>\n",
       "      <th></th>\n",
       "      <th></th>\n",
       "    </tr>\n",
       "  </thead>\n",
       "  <tbody>\n",
       "    <tr>\n",
       "      <th>Efficient</th>\n",
       "      <td>242</td>\n",
       "      <td>437</td>\n",
       "    </tr>\n",
       "    <tr>\n",
       "      <th>Inefficient</th>\n",
       "      <td>265</td>\n",
       "      <td>1098</td>\n",
       "    </tr>\n",
       "  </tbody>\n",
       "</table>\n",
       "</div>"
      ],
      "text/plain": [
       "efficiency_rep  Efficient  Inefficient\n",
       "efficiency_dem                        \n",
       "Efficient             242          437\n",
       "Inefficient           265         1098"
      ]
     },
     "execution_count": 11,
     "metadata": {},
     "output_type": "execute_result"
    }
   ],
   "source": [
    "out = pd.crosstab(joint_classifications.efficiency_dem, joint_classifications.efficiency_rep)\n",
    "\n",
    "out"
   ]
  },
  {
   "cell_type": "code",
   "execution_count": 12,
   "metadata": {},
   "outputs": [
    {
     "name": "stdout",
     "output_type": "stream",
     "text": [
      "\\begin{tabular}{lrr}\n",
      "\\toprule\n",
      "efficiency\\_rep &  Efficient &  Inefficient \\\\\n",
      "efficiency\\_dem &            &              \\\\\n",
      "\\midrule\n",
      "Efficient      &        242 &          437 \\\\\n",
      "Inefficient    &        265 &         1098 \\\\\n",
      "\\bottomrule\n",
      "\\end{tabular}\n",
      "\n"
     ]
    }
   ],
   "source": [
    "print(out.to_latex())"
   ]
  },
  {
   "cell_type": "markdown",
   "metadata": {},
   "source": [
    "Large / Small traders had the same classification 80% of the time."
   ]
  },
  {
   "cell_type": "code",
   "execution_count": 13,
   "metadata": {},
   "outputs": [
    {
     "data": {
      "text/plain": [
       "0.80019588638589623"
      ]
     },
     "execution_count": 13,
     "metadata": {},
     "output_type": "execute_result"
    }
   ],
   "source": [
    "(joint_classifications['size_dem'] == joint_classifications['size_rep']).sum() / common_trader_count"
   ]
  },
  {
   "cell_type": "markdown",
   "metadata": {},
   "source": [
    "Active / Inactive traders has the same classification about 76% of the time."
   ]
  },
  {
   "cell_type": "code",
   "execution_count": 14,
   "metadata": {},
   "outputs": [
    {
     "data": {
      "text/plain": [
       "0.75710088148873655"
      ]
     },
     "execution_count": 14,
     "metadata": {},
     "output_type": "execute_result"
    }
   ],
   "source": [
    "(joint_classifications['activity_dem'] == joint_classifications['activity_rep']).sum() / common_trader_count"
   ]
  },
  {
   "cell_type": "markdown",
   "metadata": {},
   "source": [
    "So, are the traders trading efficiently for random reasons or are we measuring something real? Is that 65.6% value statistically significant?\n",
    "\n",
    "In other words, if we had randomly assigned traders the designation \"efficient\" would that 65.6% value be significant?\n",
    "\n",
    "We know that in the DEM market 1/3 of the traders are efficient and in the REP market 1/4 of the traders are efficient. These proportions are also the case for the subset of traders that are in both markets."
   ]
  },
  {
   "cell_type": "code",
   "execution_count": 15,
   "metadata": {},
   "outputs": [
    {
     "data": {
      "text/plain": [
       "Inefficient   0.6675\n",
       "Efficient     0.3325\n",
       "Name: efficiency_dem, dtype: float64"
      ]
     },
     "execution_count": 15,
     "metadata": {},
     "output_type": "execute_result"
    }
   ],
   "source": [
    "joint_classifications.efficiency_dem.value_counts() / common_trader_count"
   ]
  },
  {
   "cell_type": "code",
   "execution_count": 16,
   "metadata": {},
   "outputs": [
    {
     "data": {
      "text/plain": [
       "Inefficient   0.7517\n",
       "Efficient     0.2483\n",
       "Name: efficiency_rep, dtype: float64"
      ]
     },
     "execution_count": 16,
     "metadata": {},
     "output_type": "execute_result"
    }
   ],
   "source": [
    "joint_classifications.efficiency_rep.value_counts() / common_trader_count"
   ]
  },
  {
   "cell_type": "markdown",
   "metadata": {},
   "source": [
    "To test the statistical significance of this we can do a monte-carlo simulation to see what the distribution would be if it were random.\n",
    "\n",
    "Randomly sample two classifications (1 or 2) in two sets. In the first the probability of getting a 1 is 1/3, in the second it is 1/4.\n",
    "\n",
    "We see that the mean is 58.3% with a standard deviation of 0.01."
   ]
  },
  {
   "cell_type": "code",
   "execution_count": 17,
   "metadata": {},
   "outputs": [
    {
     "data": {
      "text/plain": [
       "(0.58325763956904997, 0.010926909245103899)"
      ]
     },
     "execution_count": 17,
     "metadata": {},
     "output_type": "execute_result"
    }
   ],
   "source": [
    "n = 10000\n",
    "a = np.random.choice([1, 2, 2], size=(common_trader_count, n))\n",
    "b = np.random.choice([1, 2, 2, 2], size=(common_trader_count, n))\n",
    "\n",
    "values = (a == b).sum(axis=0) / common_trader_count\n",
    "\n",
    "m, s = values.mean(), values.std()\n",
    "\n",
    "m, s"
   ]
  },
  {
   "cell_type": "markdown",
   "metadata": {},
   "source": [
    "This gives us a z-score of 6.7."
   ]
  },
  {
   "cell_type": "code",
   "execution_count": 18,
   "metadata": {},
   "outputs": [
    {
     "data": {
      "text/plain": [
       "6.6772544318372828"
      ]
     },
     "execution_count": 18,
     "metadata": {},
     "output_type": "execute_result"
    }
   ],
   "source": [
    "(val - m) / s"
   ]
  },
  {
   "cell_type": "markdown",
   "metadata": {},
   "source": [
    "Clearly this is statistically significant."
   ]
  }
 ],
 "metadata": {
  "kernelspec": {
   "display_name": "Python 3",
   "language": "python",
   "name": "python3"
  },
  "language_info": {
   "codemirror_mode": {
    "name": "ipython",
    "version": 3
   },
   "file_extension": ".py",
   "mimetype": "text/x-python",
   "name": "python",
   "nbconvert_exporter": "python",
   "pygments_lexer": "ipython3",
   "version": "3.5.2"
  }
 },
 "nbformat": 4,
 "nbformat_minor": 2
}
