{
 "cells": [
  {
   "cell_type": "markdown",
   "metadata": {},
   "source": [
    "# Democratic Caucus Miscellaneous Measurements\n",
    "\n",
    "This notebook contains some miscellaneous calculations added to our paper during the review process. Among other things, it calculates the Holding Times found in Table 5.\n",
    "\n",
    "To run this notebook you'll first need to run the Trader Analysis notebooks first."
   ]
  },
  {
   "cell_type": "code",
   "execution_count": 1,
   "metadata": {},
   "outputs": [],
   "source": [
    "import os\n",
    "import sys\n",
    "import pickle\n",
    "\n",
    "from collections import defaultdict\n",
    "\n",
    "import numpy as np\n",
    "import pandas as pd\n",
    "from pandas import Series\n",
    "\n",
    "from research_tools import storage"
   ]
  },
  {
   "cell_type": "markdown",
   "metadata": {},
   "source": [
    "# Load Data"
   ]
  },
  {
   "cell_type": "code",
   "execution_count": 2,
   "metadata": {},
   "outputs": [
    {
     "name": "stdout",
     "output_type": "stream",
     "text": [
      "Reading data from data/dem.trader_analysis.p\n"
     ]
    }
   ],
   "source": [
    "os.chdir('..')\n",
    "\n",
    "basename = 'dem'\n",
    "\n",
    "trader_analysis, = storage.retrieve_all([basename + '.trader_analysis'])"
   ]
  },
  {
   "cell_type": "code",
   "execution_count": 3,
   "metadata": {},
   "outputs": [
    {
     "data": {
      "text/html": [
       "<div>\n",
       "<table border=\"1\" class=\"dataframe\">\n",
       "  <thead>\n",
       "    <tr style=\"text-align: right;\">\n",
       "      <th></th>\n",
       "      <th></th>\n",
       "      <th>index</th>\n",
       "      <th>seq</th>\n",
       "      <th>market_id</th>\n",
       "      <th>contract_id</th>\n",
       "      <th>user_guid</th>\n",
       "      <th>date_executed</th>\n",
       "      <th>trade_type</th>\n",
       "      <th>price_per_share</th>\n",
       "      <th>quantity</th>\n",
       "      <th>placed_order_id</th>\n",
       "      <th>...</th>\n",
       "      <th>corrected_side</th>\n",
       "      <th>take_provide</th>\n",
       "      <th>notional</th>\n",
       "      <th>buy_sell</th>\n",
       "      <th>cash_flow</th>\n",
       "      <th>yes_no</th>\n",
       "      <th>gross_pnl</th>\n",
       "      <th>fee</th>\n",
       "      <th>pnl_net_fee</th>\n",
       "      <th>close_trade</th>\n",
       "    </tr>\n",
       "    <tr>\n",
       "      <th>contract_id</th>\n",
       "      <th>user_guid</th>\n",
       "      <th></th>\n",
       "      <th></th>\n",
       "      <th></th>\n",
       "      <th></th>\n",
       "      <th></th>\n",
       "      <th></th>\n",
       "      <th></th>\n",
       "      <th></th>\n",
       "      <th></th>\n",
       "      <th></th>\n",
       "      <th></th>\n",
       "      <th></th>\n",
       "      <th></th>\n",
       "      <th></th>\n",
       "      <th></th>\n",
       "      <th></th>\n",
       "      <th></th>\n",
       "      <th></th>\n",
       "      <th></th>\n",
       "      <th></th>\n",
       "      <th></th>\n",
       "    </tr>\n",
       "  </thead>\n",
       "  <tbody>\n",
       "    <tr>\n",
       "      <th rowspan=\"5\" valign=\"top\">840</th>\n",
       "      <th>0034C80D-C854-3C60-8F01-64B48B565AA5</th>\n",
       "      <td>20625</td>\n",
       "      <td>1453407294297</td>\n",
       "      <td>1448</td>\n",
       "      <td>840</td>\n",
       "      <td>0034C80D-C854-3C60-8F01-64B48B565AA5</td>\n",
       "      <td>2016-01-21 15:14:54.297000-05:00</td>\n",
       "      <td>Buy No</td>\n",
       "      <td>0.39</td>\n",
       "      <td>100</td>\n",
       "      <td>1137522</td>\n",
       "      <td>...</td>\n",
       "      <td>-1</td>\n",
       "      <td>T</td>\n",
       "      <td>39.0</td>\n",
       "      <td>1</td>\n",
       "      <td>-39.0</td>\n",
       "      <td>No</td>\n",
       "      <td>0.0</td>\n",
       "      <td>0.0</td>\n",
       "      <td>0.0</td>\n",
       "      <td>False</td>\n",
       "    </tr>\n",
       "    <tr>\n",
       "      <th>0034C80D-C854-3C60-8F01-64B48B565AA5</th>\n",
       "      <td>6478</td>\n",
       "      <td>1454440788963</td>\n",
       "      <td>1448</td>\n",
       "      <td>840</td>\n",
       "      <td>0034C80D-C854-3C60-8F01-64B48B565AA5</td>\n",
       "      <td>2016-02-02 15:35:18.690000-05:00</td>\n",
       "      <td>Close</td>\n",
       "      <td>0.00</td>\n",
       "      <td>100</td>\n",
       "      <td>-1</td>\n",
       "      <td>...</td>\n",
       "      <td>-1</td>\n",
       "      <td>C</td>\n",
       "      <td>0.0</td>\n",
       "      <td>-1</td>\n",
       "      <td>0.0</td>\n",
       "      <td>No</td>\n",
       "      <td>-39.0</td>\n",
       "      <td>0.0</td>\n",
       "      <td>-39.0</td>\n",
       "      <td>True</td>\n",
       "    </tr>\n",
       "    <tr>\n",
       "      <th>005E1296-C898-3911-A4C1-0B33FAB05A29</th>\n",
       "      <td>13173</td>\n",
       "      <td>1451717188823</td>\n",
       "      <td>1448</td>\n",
       "      <td>840</td>\n",
       "      <td>005E1296-C898-3911-A4C1-0B33FAB05A29</td>\n",
       "      <td>2016-01-02 01:46:28.823000-05:00</td>\n",
       "      <td>Buy No</td>\n",
       "      <td>0.31</td>\n",
       "      <td>10</td>\n",
       "      <td>832820</td>\n",
       "      <td>...</td>\n",
       "      <td>-1</td>\n",
       "      <td>T</td>\n",
       "      <td>3.1</td>\n",
       "      <td>1</td>\n",
       "      <td>-3.1</td>\n",
       "      <td>No</td>\n",
       "      <td>0.0</td>\n",
       "      <td>0.0</td>\n",
       "      <td>0.0</td>\n",
       "      <td>False</td>\n",
       "    </tr>\n",
       "    <tr>\n",
       "      <th>005E1296-C898-3911-A4C1-0B33FAB05A29</th>\n",
       "      <td>13174</td>\n",
       "      <td>1451717189107</td>\n",
       "      <td>1448</td>\n",
       "      <td>840</td>\n",
       "      <td>005E1296-C898-3911-A4C1-0B33FAB05A29</td>\n",
       "      <td>2016-01-02 01:46:29.107000-05:00</td>\n",
       "      <td>Buy No</td>\n",
       "      <td>0.32</td>\n",
       "      <td>50</td>\n",
       "      <td>832820</td>\n",
       "      <td>...</td>\n",
       "      <td>-1</td>\n",
       "      <td>T</td>\n",
       "      <td>16.0</td>\n",
       "      <td>1</td>\n",
       "      <td>-16.0</td>\n",
       "      <td>No</td>\n",
       "      <td>0.0</td>\n",
       "      <td>0.0</td>\n",
       "      <td>0.0</td>\n",
       "      <td>False</td>\n",
       "    </tr>\n",
       "    <tr>\n",
       "      <th>005E1296-C898-3911-A4C1-0B33FAB05A29</th>\n",
       "      <td>13175</td>\n",
       "      <td>1451717189357</td>\n",
       "      <td>1448</td>\n",
       "      <td>840</td>\n",
       "      <td>005E1296-C898-3911-A4C1-0B33FAB05A29</td>\n",
       "      <td>2016-01-02 01:46:29.357000-05:00</td>\n",
       "      <td>Buy No</td>\n",
       "      <td>0.33</td>\n",
       "      <td>50</td>\n",
       "      <td>832820</td>\n",
       "      <td>...</td>\n",
       "      <td>-1</td>\n",
       "      <td>T</td>\n",
       "      <td>16.5</td>\n",
       "      <td>1</td>\n",
       "      <td>-16.5</td>\n",
       "      <td>No</td>\n",
       "      <td>0.0</td>\n",
       "      <td>0.0</td>\n",
       "      <td>0.0</td>\n",
       "      <td>False</td>\n",
       "    </tr>\n",
       "  </tbody>\n",
       "</table>\n",
       "<p>5 rows × 22 columns</p>\n",
       "</div>"
      ],
      "text/plain": [
       "                                                  index            seq  market_id  contract_id                             user_guid                    date_executed trade_type  price_per_share  \\\n",
       "contract_id user_guid                                                                                                                                                                               \n",
       "840         0034C80D-C854-3C60-8F01-64B48B565AA5  20625  1453407294297       1448          840  0034C80D-C854-3C60-8F01-64B48B565AA5 2016-01-21 15:14:54.297000-05:00     Buy No             0.39   \n",
       "            0034C80D-C854-3C60-8F01-64B48B565AA5   6478  1454440788963       1448          840  0034C80D-C854-3C60-8F01-64B48B565AA5 2016-02-02 15:35:18.690000-05:00      Close             0.00   \n",
       "            005E1296-C898-3911-A4C1-0B33FAB05A29  13173  1451717188823       1448          840  005E1296-C898-3911-A4C1-0B33FAB05A29 2016-01-02 01:46:28.823000-05:00     Buy No             0.31   \n",
       "            005E1296-C898-3911-A4C1-0B33FAB05A29  13174  1451717189107       1448          840  005E1296-C898-3911-A4C1-0B33FAB05A29 2016-01-02 01:46:29.107000-05:00     Buy No             0.32   \n",
       "            005E1296-C898-3911-A4C1-0B33FAB05A29  13175  1451717189357       1448          840  005E1296-C898-3911-A4C1-0B33FAB05A29 2016-01-02 01:46:29.357000-05:00     Buy No             0.33   \n",
       "\n",
       "                                                  quantity  placed_order_id     ...       corrected_side  take_provide  notional buy_sell  cash_flow  yes_no  gross_pnl  fee  pnl_net_fee  close_trade  \n",
       "contract_id user_guid                                                           ...                                                                                                                     \n",
       "840         0034C80D-C854-3C60-8F01-64B48B565AA5       100          1137522     ...                   -1             T      39.0        1      -39.0      No        0.0  0.0          0.0        False  \n",
       "            0034C80D-C854-3C60-8F01-64B48B565AA5       100               -1     ...                   -1             C       0.0       -1        0.0      No      -39.0  0.0        -39.0         True  \n",
       "            005E1296-C898-3911-A4C1-0B33FAB05A29        10           832820     ...                   -1             T       3.1        1       -3.1      No        0.0  0.0          0.0        False  \n",
       "            005E1296-C898-3911-A4C1-0B33FAB05A29        50           832820     ...                   -1             T      16.0        1      -16.0      No        0.0  0.0          0.0        False  \n",
       "            005E1296-C898-3911-A4C1-0B33FAB05A29        50           832820     ...                   -1             T      16.5        1      -16.5      No        0.0  0.0          0.0        False  \n",
       "\n",
       "[5 rows x 22 columns]"
      ]
     },
     "execution_count": 3,
     "metadata": {},
     "output_type": "execute_result"
    }
   ],
   "source": [
    "trader_analysis.head()"
   ]
  },
  {
   "cell_type": "markdown",
   "metadata": {},
   "source": [
    "# Traders with Positions at Market Close\n",
    "\n",
    "How many traders had a position at market close?"
   ]
  },
  {
   "cell_type": "code",
   "execution_count": 4,
   "metadata": {},
   "outputs": [
    {
     "data": {
      "text/plain": [
       "user_guid\n",
       "0022AC92-4A31-3308-BCB9-D94C6F507A31    False\n",
       "00318BA5-01FC-34A4-A4A1-3523BF5485C6     True\n",
       "0034C80D-C854-3C60-8F01-64B48B565AA5     True\n",
       "005E1296-C898-3911-A4C1-0B33FAB05A29    False\n",
       "005E56D2-76B6-39DA-9199-366D761FE63D     True\n",
       "dtype: bool"
      ]
     },
     "execution_count": 4,
     "metadata": {},
     "output_type": "execute_result"
    }
   ],
   "source": [
    "close_traders = trader_analysis.groupby('user_guid').apply(lambda x: x.close_trade.any())\n",
    "\n",
    "close_traders.head()"
   ]
  },
  {
   "cell_type": "code",
   "execution_count": 5,
   "metadata": {},
   "outputs": [
    {
     "data": {
      "text/plain": [
       "0.66826666666666668"
      ]
     },
     "execution_count": 5,
     "metadata": {},
     "output_type": "execute_result"
    }
   ],
   "source": [
    "close_traders.sum() / close_traders.count()"
   ]
  },
  {
   "cell_type": "code",
   "execution_count": 6,
   "metadata": {},
   "outputs": [
    {
     "data": {
      "text/plain": [
       "(2506, 3750)"
      ]
     },
     "execution_count": 6,
     "metadata": {},
     "output_type": "execute_result"
    }
   ],
   "source": [
    "close_traders.sum(), close_traders.count()"
   ]
  },
  {
   "cell_type": "markdown",
   "metadata": {},
   "source": [
    "# Average Holding Time\n",
    "\n",
    "What is the average holding time? And median holding time?"
   ]
  },
  {
   "cell_type": "code",
   "execution_count": 7,
   "metadata": {},
   "outputs": [],
   "source": [
    "holding_times = []\n",
    "position_open_timestamps = defaultdict(list)\n",
    "\n",
    "for trade in trader_analysis.itertuples():\n",
    "    if trade.buy_sell == 1:\n",
    "        position_open_timestamps[(trade.contract_id, trade.user_guid)].extend([trade.seq] * trade.quantity)\n",
    "    elif trade.buy_sell == -1:\n",
    "        oldest_timestamps = position_open_timestamps[(trade.contract_id, trade.user_guid)][:trade.quantity]\n",
    "        for t in oldest_timestamps:\n",
    "            holding_times.append(trade.seq - t)\n",
    "        position_open_timestamps[(trade.contract_id, trade.user_guid)] = (\n",
    "            position_open_timestamps[(trade.contract_id, trade.user_guid)][trade.quantity:]\n",
    "        )\n",
    "\n",
    "holding_times = Series(holding_times)"
   ]
  },
  {
   "cell_type": "code",
   "execution_count": 8,
   "metadata": {},
   "outputs": [
    {
     "data": {
      "text/plain": [
       "Timedelta('13 days 09:38:50.557663')"
      ]
     },
     "execution_count": 8,
     "metadata": {},
     "output_type": "execute_result"
    }
   ],
   "source": [
    "pd.Timedelta(holding_times.mean(), 'ms')"
   ]
  },
  {
   "cell_type": "code",
   "execution_count": 9,
   "metadata": {},
   "outputs": [
    {
     "data": {
      "text/plain": [
       "13.401974047027426"
      ]
     },
     "execution_count": 9,
     "metadata": {},
     "output_type": "execute_result"
    }
   ],
   "source": [
    "holding_times.mean() / (24 * 60 * 60 * 1000)"
   ]
  },
  {
   "cell_type": "code",
   "execution_count": 10,
   "metadata": {},
   "outputs": [
    {
     "data": {
      "text/plain": [
       "Timedelta('1 days 16:25:25.883000')"
      ]
     },
     "execution_count": 10,
     "metadata": {},
     "output_type": "execute_result"
    }
   ],
   "source": [
    "pd.Timedelta(holding_times.quantile(0.5), 'ms')"
   ]
  },
  {
   "cell_type": "code",
   "execution_count": 11,
   "metadata": {},
   "outputs": [
    {
     "data": {
      "text/plain": [
       "1.684327349537037"
      ]
     },
     "execution_count": 11,
     "metadata": {},
     "output_type": "execute_result"
    }
   ],
   "source": [
    "holding_times.quantile(0.5) / (24 * 60 * 60 * 1000)"
   ]
  },
  {
   "cell_type": "markdown",
   "metadata": {},
   "source": [
    "What are the combined holding times across both markets? Load the pickle file saved in the \"DEM Miscellaneous Meseasurements\" notebook and combine."
   ]
  },
  {
   "cell_type": "code",
   "execution_count": 12,
   "metadata": {},
   "outputs": [],
   "source": [
    "with open('data/dem.holding_times.p', 'wb') as f:\n",
    "    pickle.dump(holding_times, f)\n",
    "\n",
    "with open('data/gop.holding_times.p', 'rb') as f:\n",
    "    rep_holding_times = pickle.load(f)"
   ]
  },
  {
   "cell_type": "code",
   "execution_count": 13,
   "metadata": {},
   "outputs": [],
   "source": [
    "combined_holding_times = pd.concat([rep_holding_times, holding_times])"
   ]
  },
  {
   "cell_type": "code",
   "execution_count": 14,
   "metadata": {},
   "outputs": [
    {
     "data": {
      "text/plain": [
       "Timedelta('15 days 09:16:05.284847')"
      ]
     },
     "execution_count": 14,
     "metadata": {},
     "output_type": "execute_result"
    }
   ],
   "source": [
    "pd.Timedelta(combined_holding_times.mean(), 'ms')"
   ]
  },
  {
   "cell_type": "code",
   "execution_count": 15,
   "metadata": {},
   "outputs": [
    {
     "data": {
      "text/plain": [
       "15.386172278326093"
      ]
     },
     "execution_count": 15,
     "metadata": {},
     "output_type": "execute_result"
    }
   ],
   "source": [
    "combined_holding_times.mean() / (24 * 60 * 60 * 1000)"
   ]
  },
  {
   "cell_type": "code",
   "execution_count": 16,
   "metadata": {},
   "outputs": [
    {
     "data": {
      "text/plain": [
       "Timedelta('3 days 17:29:33.996000')"
      ]
     },
     "execution_count": 16,
     "metadata": {},
     "output_type": "execute_result"
    }
   ],
   "source": [
    "pd.Timedelta(combined_holding_times.quantile(0.5), 'ms')"
   ]
  },
  {
   "cell_type": "code",
   "execution_count": 17,
   "metadata": {},
   "outputs": [
    {
     "data": {
      "text/plain": [
       "3.7288656944444445"
      ]
     },
     "execution_count": 17,
     "metadata": {},
     "output_type": "execute_result"
    }
   ],
   "source": [
    "combined_holding_times.quantile(0.5) / (24 * 60 * 60 * 1000)"
   ]
  },
  {
   "cell_type": "markdown",
   "metadata": {},
   "source": [
    "# Pre-Margin Linking Volume\n",
    "\n",
    "How much volume was during the pre-margin linking period?"
   ]
  },
  {
   "cell_type": "code",
   "execution_count": 18,
   "metadata": {},
   "outputs": [
    {
     "data": {
      "text/plain": [
       "0.050190773683601031"
      ]
     },
     "execution_count": 18,
     "metadata": {},
     "output_type": "execute_result"
    }
   ],
   "source": [
    "dem_margin_linking_cutoff_date = '2015-10-22'\n",
    "pre_margin_linking = trader_analysis.date_executed < dem_margin_linking_cutoff_date\n",
    "\n",
    "trader_analysis[pre_margin_linking].quantity.sum() / trader_analysis.quantity.sum()"
   ]
  },
  {
   "cell_type": "code",
   "execution_count": null,
   "metadata": {},
   "outputs": [],
   "source": []
  }
 ],
 "metadata": {
  "kernelspec": {
   "display_name": "Python 3",
   "language": "python",
   "name": "python3"
  },
  "language_info": {
   "codemirror_mode": {
    "name": "ipython",
    "version": 3
   },
   "file_extension": ".py",
   "mimetype": "text/x-python",
   "name": "python",
   "nbconvert_exporter": "python",
   "pygments_lexer": "ipython3",
   "version": "3.5.2"
  }
 },
 "nbformat": 4,
 "nbformat_minor": 2
}
