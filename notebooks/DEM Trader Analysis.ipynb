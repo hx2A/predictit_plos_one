{
 "cells": [
  {
   "cell_type": "markdown",
   "metadata": {},
   "source": [
    "# Democratic Caucus Trader Analysis\n",
    "\n",
    "This notebook does some analysis on trader behavior in the Democratic Caucus market."
   ]
  },
  {
   "cell_type": "code",
   "execution_count": 1,
   "metadata": {},
   "outputs": [],
   "source": [
    "import os\n",
    "import sys\n",
    "import re\n",
    "from collections import defaultdict\n",
    "from functools import lru_cache\n",
    "\n",
    "%matplotlib inline\n",
    "import matplotlib.pyplot as plt\n",
    "import numpy as np\n",
    "import pandas as pd\n",
    "from pandas import Series, DataFrame, Panel\n",
    "\n",
    "idx = pd.IndexSlice\n",
    "\n",
    "from research_tools import storage\n",
    "\n",
    "pd.options.display.float_format = lambda x: '{:,.4f}'.format(x) if abs(x) < 1 else '{:,.2f}'.format(x)"
   ]
  },
  {
   "cell_type": "markdown",
   "metadata": {},
   "source": [
    "# Load Data\n",
    "\n",
    "First, load the data. All of the data is organized in nice, standardized formats."
   ]
  },
  {
   "cell_type": "code",
   "execution_count": 2,
   "metadata": {},
   "outputs": [
    {
     "name": "stdout",
     "output_type": "stream",
     "text": [
      "Reading data from data/dem.orders.p\n",
      "Reading data from data/dem.behavior_analysis.p\n",
      "Reading data from data/dem.trader_analysis.p\n",
      "Reading data from data/dem.reconstructed_quotes.p\n"
     ]
    }
   ],
   "source": [
    "os.chdir('..')\n",
    "\n",
    "basename = 'dem'\n",
    "\n",
    "orders, behavior_analysis, trader_analysis, quotes_dict = storage.retrieve_all(\n",
    "    [basename + '.orders',\n",
    "     basename + '.behavior_analysis',\n",
    "     basename + '.trader_analysis',\n",
    "     basename + '.reconstructed_quotes'])"
   ]
  },
  {
   "cell_type": "markdown",
   "metadata": {},
   "source": [
    "# Trader Stats Calculations\n",
    "\n",
    "Calculate statistics on the trading results of each trader.\n",
    "\n",
    "We want to know what the spread profits are and the profits resulting from biased prices (prices that sum to more than $1).\n",
    "\n",
    "To do this we first need to join the trade data with our reconstructed quotes.\n",
    "\n",
    "## Join quote data with trade data"
   ]
  },
  {
   "cell_type": "code",
   "execution_count": 3,
   "metadata": {},
   "outputs": [],
   "source": [
    "def add_contract_id(df, contract_id):\n",
    "    df = df.drop('timestamp', axis=1).copy()\n",
    "    df['contract_id'] = contract_id\n",
    "    return df\n",
    "\n",
    "quotes = pd.concat([add_contract_id(df, c_id) for c_id, df in quotes_dict.items()]).sort_index()\n",
    "\n",
    "trader_analysis = pd.merge_asof(trader_analysis.sort_values('seq'),\n",
    "                                quotes,\n",
    "                                by='contract_id',\n",
    "                                left_on='seq',\n",
    "                                right_index=True,\n",
    "                                allow_exact_matches=True).sort_index()\n",
    "\n",
    "# joining with bid/ask prices for Close trades doesn't make any sense\n",
    "trader_analysis.loc[trader_analysis['trade_type'] == 'Close', ['bid_price', 'ask_price']] = np.nan\n",
    "\n",
    "trader_analysis['mid_price'] = trader_analysis[['bid_price', 'ask_price']].mean(axis=1)"
   ]
  },
  {
   "cell_type": "markdown",
   "metadata": {},
   "source": [
    "## Calculate Spread Profits\n",
    "\n",
    "Now that we know what the prevailing bid-ask prices are at the time of each trade, we can calculate the spread profits. Provide trades are earning a spread profit and take trades are paying the spread.\n",
    "\n",
    "Close trades are a special trade with the exchange for \\\\$1 or \\\\$0."
   ]
  },
  {
   "cell_type": "code",
   "execution_count": 4,
   "metadata": {},
   "outputs": [],
   "source": [
    "trader_analysis['spread_profit'] = trader_analysis.eval(\"corrected_side * quantity * (mid_price - corrected_price)\")\n",
    "\n",
    "# Close trades have no spread profits\n",
    "trader_analysis.loc[trader_analysis['trade_type'] == 'Close', 'spread_profit'] = 0"
   ]
  },
  {
   "cell_type": "markdown",
   "metadata": {},
   "source": [
    "## Calculate Bias Profits\n",
    "\n",
    "To calculate the price biases we must first find the sum of the bid-ask prices. This is the same code used in the other notebooks analyzing the quotes."
   ]
  },
  {
   "cell_type": "code",
   "execution_count": 5,
   "metadata": {},
   "outputs": [],
   "source": [
    "def make_interval_quotes(df):\n",
    "    df = df.set_index('timestamp')\n",
    "\n",
    "    start = df.index[0].floor('1Min')\n",
    "    end = df.index[-1].floor('1Min')\n",
    "\n",
    "    timestamp_intervals = pd.date_range(start, end, freq='1Min')\n",
    "\n",
    "    return df[['bid_price', 'ask_price']].apply(lambda x: x.asof(timestamp_intervals)).bfill()\n",
    "\n",
    "def make_quote_panel(quotes):\n",
    "    quotes_intervals = {c_id: make_interval_quotes(df) for c_id, df in quotes.items()}\n",
    "\n",
    "    start = min([df.index[0] for df in quotes_intervals.values()])\n",
    "    end = max([df.index[-1] for df in quotes_intervals.values()])\n",
    "    timestamp_intervals = pd.date_range(start, end, freq='1Min')\n",
    "\n",
    "    panel = Panel({c_id: df.loc[timestamp_intervals].ffill().bfill() for c_id, df in quotes_intervals.items()})\n",
    "    \n",
    "    return panel\n",
    "\n",
    "quotes_panel = make_quote_panel(quotes_dict)\n",
    "quotes_sum = quotes_panel.sum(axis=0)\n",
    "quotes_sum.columns = ['bid_price_sums', 'ask_price_sums']"
   ]
  },
  {
   "cell_type": "markdown",
   "metadata": {},
   "source": [
    "Using `quotes_sum` we can calculate the mid and use it as a normalization factor.\n",
    "\n",
    "Close trades are always at an unbiased price."
   ]
  },
  {
   "cell_type": "code",
   "execution_count": 6,
   "metadata": {},
   "outputs": [],
   "source": [
    "quotes_sum['norm_factor'] = quotes_sum.mean(axis=1)\n",
    "\n",
    "quotes_sum['timestamp'] = quotes_sum.index\n",
    "quotes_sum['seq'] = quotes_sum['timestamp'].apply(lambda t: int(int(t.to_datetime64()) / 1e6))\n",
    "\n",
    "price_bias_norm_factor = quotes_sum.set_index('seq')[['norm_factor']]\n",
    "\n",
    "trader_analysis = pd.merge_asof(trader_analysis.sort_values('seq'),\n",
    "                                price_bias_norm_factor,\n",
    "                                left_on='seq',\n",
    "                                right_index=True,\n",
    "                                allow_exact_matches=True).sort_index()\n",
    "\n",
    "trader_analysis['bias_profit'] = trader_analysis.eval(\"corrected_side * quantity * mid_price * (1 / norm_factor - 1)\")\n",
    "\n",
    "# Close trades always at an unbiased price\n",
    "trader_analysis.loc[trader_analysis['trade_type'] == 'Close', 'norm_factor'] = 1\n",
    "trader_analysis.loc[trader_analysis['trade_type'] == 'Close', 'bias_profit'] = 0"
   ]
  },
  {
   "cell_type": "code",
   "execution_count": 7,
   "metadata": {},
   "outputs": [],
   "source": [
    "def stats(trades):\n",
    "    out = Series()\n",
    "    \n",
    "    total_nonclose = trades[~trades.close_trade].quantity.sum()\n",
    "    out['take_pct'] = trades.query(\"take_provide == 'T' and not close_trade\").quantity.sum() / total_nonclose\n",
    "    out['longshot_pct'] = trades.query(\"price_per_share <= 0.1 and not close_trade\").quantity.sum() / total_nonclose\n",
    "    out['antilongshot_pct'] = trades.query(\"price_per_share >= 0.9 and not close_trade\").quantity.sum() / total_nonclose\n",
    "\n",
    "    return out\n",
    "\n",
    "df = orders.groupby('user_guid')['order_id'].count().to_frame('orders_sent')\n",
    "df2 = trader_analysis.groupby(['user_guid'])[['quantity', 'notional', 'spread_profit', 'bias_profit',\n",
    "                                              'gross_pnl', 'fee', 'pnl_net_fee']].sum()\n",
    "df3 = trader_analysis.groupby(['user_guid']).apply(stats)\n",
    "\n",
    "trader_stats_summary = df.merge(df2, left_index=True, right_index=True).merge(df3, left_index=True, right_index=True)\n",
    "trader_stats_summary.sort_values('pnl_net_fee', ascending=False, inplace=True)\n",
    "\n",
    "# position profit is the profit on directional price moves\n",
    "# calculate this for trader_stats_summary, not trader_analysis\n",
    "trader_stats_summary['position_profit'] = trader_stats_summary.eval('gross_pnl - spread_profit - bias_profit')\n",
    "\n",
    "trader_stats_summary = trader_stats_summary[['orders_sent', 'quantity', 'notional', 'spread_profit',\n",
    "                                             'bias_profit', 'position_profit', 'gross_pnl', 'fee', 'pnl_net_fee',\n",
    "                                             'take_pct', 'longshot_pct', 'antilongshot_pct']]"
   ]
  },
  {
   "cell_type": "markdown",
   "metadata": {},
   "source": [
    "Here's what that looks like. The DataFrame shows the PnL breakdown for each trader."
   ]
  },
  {
   "cell_type": "code",
   "execution_count": 8,
   "metadata": {},
   "outputs": [
    {
     "data": {
      "text/html": [
       "<div>\n",
       "<table border=\"1\" class=\"dataframe\">\n",
       "  <thead>\n",
       "    <tr style=\"text-align: right;\">\n",
       "      <th></th>\n",
       "      <th>orders_sent</th>\n",
       "      <th>quantity</th>\n",
       "      <th>notional</th>\n",
       "      <th>spread_profit</th>\n",
       "      <th>bias_profit</th>\n",
       "      <th>position_profit</th>\n",
       "      <th>gross_pnl</th>\n",
       "      <th>fee</th>\n",
       "      <th>pnl_net_fee</th>\n",
       "      <th>take_pct</th>\n",
       "      <th>longshot_pct</th>\n",
       "      <th>antilongshot_pct</th>\n",
       "    </tr>\n",
       "    <tr>\n",
       "      <th>user_guid</th>\n",
       "      <th></th>\n",
       "      <th></th>\n",
       "      <th></th>\n",
       "      <th></th>\n",
       "      <th></th>\n",
       "      <th></th>\n",
       "      <th></th>\n",
       "      <th></th>\n",
       "      <th></th>\n",
       "      <th></th>\n",
       "      <th></th>\n",
       "      <th></th>\n",
       "    </tr>\n",
       "  </thead>\n",
       "  <tbody>\n",
       "    <tr>\n",
       "      <th>C4D5B846-1FD3-31DB-BA4C-9223A8633708</th>\n",
       "      <td>6</td>\n",
       "      <td>6038</td>\n",
       "      <td>4,718.51</td>\n",
       "      <td>10.47</td>\n",
       "      <td>-22.06</td>\n",
       "      <td>1,331.08</td>\n",
       "      <td>1,319.49</td>\n",
       "      <td>131.95</td>\n",
       "      <td>1,187.54</td>\n",
       "      <td>0.2136</td>\n",
       "      <td>0.0000</td>\n",
       "      <td>0.0000</td>\n",
       "    </tr>\n",
       "    <tr>\n",
       "      <th>9D326C8B-8DE3-3A23-8D20-E2B1A332FAB9</th>\n",
       "      <td>10</td>\n",
       "      <td>6034</td>\n",
       "      <td>4,716.10</td>\n",
       "      <td>36.94</td>\n",
       "      <td>-25.52</td>\n",
       "      <td>1,306.48</td>\n",
       "      <td>1,317.90</td>\n",
       "      <td>131.79</td>\n",
       "      <td>1,186.11</td>\n",
       "      <td>0.0603</td>\n",
       "      <td>0.0000</td>\n",
       "      <td>0.0000</td>\n",
       "    </tr>\n",
       "    <tr>\n",
       "      <th>A5D275E7-E1CA-3003-ABB8-00947B491947</th>\n",
       "      <td>47</td>\n",
       "      <td>7392</td>\n",
       "      <td>6,014.55</td>\n",
       "      <td>58.17</td>\n",
       "      <td>3.79</td>\n",
       "      <td>1,252.99</td>\n",
       "      <td>1,314.95</td>\n",
       "      <td>131.49</td>\n",
       "      <td>1,183.45</td>\n",
       "      <td>0.2024</td>\n",
       "      <td>0.0000</td>\n",
       "      <td>0.4470</td>\n",
       "    </tr>\n",
       "    <tr>\n",
       "      <th>738E8484-0BDA-3B96-84DC-A110B70DF314</th>\n",
       "      <td>9</td>\n",
       "      <td>5948</td>\n",
       "      <td>4,673.58</td>\n",
       "      <td>62.61</td>\n",
       "      <td>-24.13</td>\n",
       "      <td>1,235.94</td>\n",
       "      <td>1,274.42</td>\n",
       "      <td>127.44</td>\n",
       "      <td>1,146.98</td>\n",
       "      <td>0.0121</td>\n",
       "      <td>0.0000</td>\n",
       "      <td>0.0000</td>\n",
       "    </tr>\n",
       "    <tr>\n",
       "      <th>34A305EF-1ED6-3B2D-9F7D-0A90C7B7A787</th>\n",
       "      <td>75</td>\n",
       "      <td>6708</td>\n",
       "      <td>4,880.55</td>\n",
       "      <td>-5.90</td>\n",
       "      <td>38.32</td>\n",
       "      <td>1,154.81</td>\n",
       "      <td>1,187.23</td>\n",
       "      <td>120.95</td>\n",
       "      <td>1,066.28</td>\n",
       "      <td>0.7508</td>\n",
       "      <td>0.0000</td>\n",
       "      <td>0.0198</td>\n",
       "    </tr>\n",
       "  </tbody>\n",
       "</table>\n",
       "</div>"
      ],
      "text/plain": [
       "                                      orders_sent  quantity  notional  spread_profit  bias_profit  position_profit  gross_pnl    fee  pnl_net_fee  take_pct  longshot_pct  antilongshot_pct\n",
       "user_guid                                                                                                                                                                                  \n",
       "C4D5B846-1FD3-31DB-BA4C-9223A8633708            6      6038  4,718.51          10.47       -22.06         1,331.08   1,319.49 131.95     1,187.54    0.2136        0.0000            0.0000\n",
       "9D326C8B-8DE3-3A23-8D20-E2B1A332FAB9           10      6034  4,716.10          36.94       -25.52         1,306.48   1,317.90 131.79     1,186.11    0.0603        0.0000            0.0000\n",
       "A5D275E7-E1CA-3003-ABB8-00947B491947           47      7392  6,014.55          58.17         3.79         1,252.99   1,314.95 131.49     1,183.45    0.2024        0.0000            0.4470\n",
       "738E8484-0BDA-3B96-84DC-A110B70DF314            9      5948  4,673.58          62.61       -24.13         1,235.94   1,274.42 127.44     1,146.98    0.0121        0.0000            0.0000\n",
       "34A305EF-1ED6-3B2D-9F7D-0A90C7B7A787           75      6708  4,880.55          -5.90        38.32         1,154.81   1,187.23 120.95     1,066.28    0.7508        0.0000            0.0198"
      ]
     },
     "execution_count": 8,
     "metadata": {},
     "output_type": "execute_result"
    }
   ],
   "source": [
    "trader_stats_summary.head()"
   ]
  },
  {
   "cell_type": "markdown",
   "metadata": {
    "collapsed": true
   },
   "source": [
    "## Trader Subgroups\n",
    "\n",
    "We can use our behavior analysis to divide the traders into subgroups. The traders had different levels of engagement with the market and different approaches to trading. These choices had a big impact on the resulting profits.\n",
    "\n",
    "Some traders traded efficiently and others were inefficient. If 75% or more of a trader's volume is for trades that were not strictly dominated by another group of trades, the trader is deemed an efficient trader. If not, they are deemed an inefficient trader.\n",
    "\n",
    "Some traders were very active and some were not. If a trader opened and closed a position in the same contract multiple times they are deemed an active trader. If they did not they are deemed an inactive trader.\n",
    "\n",
    "Some traders traded in small sizes and some traded in large sizes. If a trader's max loss was ever more than $50 they are deemed a large trader. If not, they are deemed a small trader.\n",
    "\n",
    "There were 3,750 traders in this market, less than the 5000 trader limit."
   ]
  },
  {
   "cell_type": "markdown",
   "metadata": {},
   "source": [
    "## Efficiency\n",
    "\n",
    "Many traders only made one trade. Those traders will either be 100% efficient or 0% efficient.\n",
    "\n",
    "About one third of the traders traded efficiently at least 75% of the time."
   ]
  },
  {
   "cell_type": "code",
   "execution_count": 9,
   "metadata": {},
   "outputs": [
    {
     "data": {
      "text/plain": [
       "0.32213333333333333"
      ]
     },
     "execution_count": 9,
     "metadata": {},
     "output_type": "execute_result"
    }
   ],
   "source": [
    "(behavior_analysis.efficiency >= 0.75).sum() / len(behavior_analysis)"
   ]
  },
  {
   "cell_type": "code",
   "execution_count": 10,
   "metadata": {},
   "outputs": [
    {
     "data": {
      "text/plain": [
       "<matplotlib.axes._subplots.AxesSubplot at 0x7f083d3d0da0>"
      ]
     },
     "execution_count": 10,
     "metadata": {},
     "output_type": "execute_result"
    },
    {
     "data": {
      "image/png": "[encoded data removed]",
      "text/plain": [
       "<matplotlib.figure.Figure at 0x7f083d49c588>"
      ]
     },
     "metadata": {
      "needs_background": "light"
     },
     "output_type": "display_data"
    }
   ],
   "source": [
    "behavior_analysis.efficiency.hist(bins=25, figsize=(10, 6))"
   ]
  },
  {
   "cell_type": "markdown",
   "metadata": {},
   "source": [
    "## Activity\n",
    "\n",
    "Again, many traders made only one trade. Obviously those traders only opened 1 position on that one contract.\n",
    "\n",
    "Even for traders that made more than one trade, many did not open and close positions on the same contract multiple times. Only about 15% can be considered active, opening and closing positions on the same contract. The remaining 85% are inactive."
   ]
  },
  {
   "cell_type": "code",
   "execution_count": 11,
   "metadata": {},
   "outputs": [
    {
     "data": {
      "text/plain": [
       "0.8541333333333333"
      ]
     },
     "execution_count": 11,
     "metadata": {},
     "output_type": "execute_result"
    }
   ],
   "source": [
    "(behavior_analysis.max_opened_pos == 1).sum() / len(behavior_analysis)"
   ]
  },
  {
   "cell_type": "code",
   "execution_count": 12,
   "metadata": {},
   "outputs": [
    {
     "data": {
      "text/plain": [
       "<matplotlib.axes._subplots.AxesSubplot at 0x7f083d3d0b38>"
      ]
     },
     "execution_count": 12,
     "metadata": {},
     "output_type": "execute_result"
    },
    {
     "data": {
      "image/png": "[encoded data removed]",
      "text/plain": [
       "<matplotlib.figure.Figure at 0x7f083c90be48>"
      ]
     },
     "metadata": {
      "needs_background": "light"
     },
     "output_type": "display_data"
    }
   ],
   "source": [
    "behavior_analysis.max_opened_pos.hist(bins=25, figsize=(10, 6))"
   ]
  },
  {
   "cell_type": "markdown",
   "metadata": {},
   "source": [
    "## Size\n",
    "\n",
    "Most traders traded in small sizes. About 72% never risked more than \\\\$50. About 28% did, with some hitting the risk limit of \\\\$850 per contract."
   ]
  },
  {
   "cell_type": "code",
   "execution_count": 13,
   "metadata": {},
   "outputs": [
    {
     "data": {
      "text/plain": [
       "0.28239999999999998"
      ]
     },
     "execution_count": 13,
     "metadata": {},
     "output_type": "execute_result"
    }
   ],
   "source": [
    "(behavior_analysis.max_loss > 50).sum() / len(behavior_analysis)"
   ]
  },
  {
   "cell_type": "markdown",
   "metadata": {},
   "source": [
    "The maximum max-loss is $1700, suggesting that some traders were hitting the risk limit of for 2 candidates."
   ]
  },
  {
   "cell_type": "code",
   "execution_count": 14,
   "metadata": {},
   "outputs": [
    {
     "data": {
      "text/plain": [
       "1700.0000000000414"
      ]
     },
     "execution_count": 14,
     "metadata": {},
     "output_type": "execute_result"
    }
   ],
   "source": [
    "behavior_analysis.max_loss.max()"
   ]
  },
  {
   "cell_type": "code",
   "execution_count": 15,
   "metadata": {},
   "outputs": [
    {
     "data": {
      "text/plain": [
       "<matplotlib.axes._subplots.AxesSubplot at 0x7f083d3d0860>"
      ]
     },
     "execution_count": 15,
     "metadata": {},
     "output_type": "execute_result"
    },
    {
     "data": {
      "image/png": "[encoded data removed]",
      "text/plain": [
       "<matplotlib.figure.Figure at 0x7f083ca47dd8>"
      ]
     },
     "metadata": {
      "needs_background": "light"
     },
     "output_type": "display_data"
    }
   ],
   "source": [
    "behavior_analysis.max_loss.hist(bins=25, figsize=(10, 6))"
   ]
  },
  {
   "cell_type": "markdown",
   "metadata": {},
   "source": [
    "# Trader Group Breakdown\n",
    "\n",
    "Next we analyze the PnL of the traders by dividing by the above three metrics. The goal is to see how profitable their trading activities were. We also decompose the PnL to see where the profits and losses were coming from."
   ]
  },
  {
   "cell_type": "code",
   "execution_count": 16,
   "metadata": {},
   "outputs": [],
   "source": [
    "def make_group_stats(group_name, query, per_trader=False):\n",
    "    out = Series()\n",
    "\n",
    "    if query:\n",
    "        group = behavior_analysis.query(query).index\n",
    "    else:\n",
    "        group = behavior_analysis.index\n",
    "    out['trader_count'] = len(group)\n",
    "    out['orders_sent'] = len(orders.set_index('user_guid').loc[group])\n",
    "    out = out.append(trader_analysis.set_index('user_guid').loc[group][['quantity', 'notional', 'spread_profit',\n",
    "                                                                        'bias_profit',\n",
    "                                                                        'gross_pnl', 'fee', 'pnl_net_fee']].sum())\n",
    "    out['position_profit'] = out['gross_pnl'] - out['spread_profit'] - out['bias_profit']\n",
    "    out['sum_max_loss'] = behavior_analysis.loc[group, 'max_loss'].sum()\n",
    "    out['sum_max_in_pool'] = behavior_analysis.loc[group, 'max_in_pool'].sum()\n",
    "    out['gross_roi'] = out['gross_pnl'] / out['sum_max_in_pool']\n",
    "    out['net_roi'] = out['pnl_net_fee'] / out['sum_max_in_pool']\n",
    "\n",
    "    out = out.append(stats(trader_analysis.set_index('user_guid').loc[group]))\n",
    "    \n",
    "    out.name = group_name\n",
    "\n",
    "    if per_trader:\n",
    "        out2 = out / out['trader_count']\n",
    "        out2['trader_count'] = out['trader_count']\n",
    "\n",
    "        return out2[['trader_count', 'orders_sent', 'quantity', 'notional', 'spread_profit', 'bias_profit',\n",
    "               'position_profit', 'gross_pnl', 'fee', 'pnl_net_fee']].to_frame()\n",
    "    else:\n",
    "        return out[['trader_count', 'orders_sent', 'quantity', 'notional',\n",
    "                    'sum_max_loss', 'sum_max_in_pool', 'spread_profit',\n",
    "                    'bias_profit', 'position_profit', 'gross_pnl', 'fee',\n",
    "                    'pnl_net_fee', 'gross_roi', 'net_roi',  'take_pct', 'longshot_pct',\n",
    "                    'antilongshot_pct']].to_frame()\n",
    "\n",
    "def make_multi_group_stats(groups, **args):\n",
    "    return pd.concat([make_group_stats(*g, **args) for g in groups], axis=1)"
   ]
  },
  {
   "cell_type": "markdown",
   "metadata": {},
   "source": [
    "Before looking at the numbers, consider the fact that without fees these markets are zero sum games. This means that gross PnL across all the traders is a zero sum game.\n",
    "\n",
    "Now consider a hypothetical PredictIt market with no fees, spreads, or biased prices (meaning the sum of the Yes contract prices always equals $1). The only way to make money in this market is by being better at predicting future prices, ie, position profits.\n",
    "\n",
    "In such a market imagine that there is a subset of traders that are superior at information analysis and prediction. They would make better trades. Over time they would win more money than they would lose. If this was the case we would see a net flow of cash from traders that are not in this group to traders that are in the group. This net flow of cash would also be *reliable* in that we would see this across markets.\n",
    "\n",
    "Now imagine that all traders are making bets by throwing darts at the wall. In this market there would be no way to reliably segment the market such that we would see a net flow of cash between groups.\n",
    "\n",
    "What we will see below is that there are segments where money is moving from one group to another. In particular, from inefficient traders to efficient traders. And what is even more interesting is *why* that money is flowing between the two groups."
   ]
  },
  {
   "cell_type": "markdown",
   "metadata": {},
   "source": [
    "## Trader Efficiency\n",
    "\n",
    "As one might expect (or hope), as a group the efficient traders were also profitable."
   ]
  },
  {
   "cell_type": "code",
   "execution_count": 17,
   "metadata": {},
   "outputs": [
    {
     "data": {
      "text/html": [
       "<div>\n",
       "<table border=\"1\" class=\"dataframe\">\n",
       "  <thead>\n",
       "    <tr style=\"text-align: right;\">\n",
       "      <th></th>\n",
       "      <th>Everyone</th>\n",
       "      <th>Efficient_Traders</th>\n",
       "      <th>Inefficient_Traders</th>\n",
       "    </tr>\n",
       "  </thead>\n",
       "  <tbody>\n",
       "    <tr>\n",
       "      <th>trader_count</th>\n",
       "      <td>3,750.00</td>\n",
       "      <td>1,208.00</td>\n",
       "      <td>2,542.00</td>\n",
       "    </tr>\n",
       "    <tr>\n",
       "      <th>orders_sent</th>\n",
       "      <td>33,959.00</td>\n",
       "      <td>16,181.00</td>\n",
       "      <td>17,778.00</td>\n",
       "    </tr>\n",
       "    <tr>\n",
       "      <th>quantity</th>\n",
       "      <td>2,642,398.00</td>\n",
       "      <td>1,267,800.00</td>\n",
       "      <td>1,374,598.00</td>\n",
       "    </tr>\n",
       "    <tr>\n",
       "      <th>notional</th>\n",
       "      <td>1,271,811.34</td>\n",
       "      <td>578,534.61</td>\n",
       "      <td>693,276.73</td>\n",
       "    </tr>\n",
       "    <tr>\n",
       "      <th>sum_max_loss</th>\n",
       "      <td>416,727.65</td>\n",
       "      <td>152,410.55</td>\n",
       "      <td>264,317.10</td>\n",
       "    </tr>\n",
       "    <tr>\n",
       "      <th>sum_max_in_pool</th>\n",
       "      <td>417,251.70</td>\n",
       "      <td>150,529.96</td>\n",
       "      <td>266,721.74</td>\n",
       "    </tr>\n",
       "    <tr>\n",
       "      <th>spread_profit</th>\n",
       "      <td>-0.0000</td>\n",
       "      <td>3,435.75</td>\n",
       "      <td>-3,435.75</td>\n",
       "    </tr>\n",
       "    <tr>\n",
       "      <th>bias_profit</th>\n",
       "      <td>-0.0000</td>\n",
       "      <td>5,436.13</td>\n",
       "      <td>-5,436.13</td>\n",
       "    </tr>\n",
       "    <tr>\n",
       "      <th>position_profit</th>\n",
       "      <td>0.0000</td>\n",
       "      <td>8,183.21</td>\n",
       "      <td>-8,183.21</td>\n",
       "    </tr>\n",
       "    <tr>\n",
       "      <th>gross_pnl</th>\n",
       "      <td>0.0000</td>\n",
       "      <td>17,055.09</td>\n",
       "      <td>-17,055.09</td>\n",
       "    </tr>\n",
       "    <tr>\n",
       "      <th>fee</th>\n",
       "      <td>11,718.86</td>\n",
       "      <td>5,165.48</td>\n",
       "      <td>6,553.38</td>\n",
       "    </tr>\n",
       "    <tr>\n",
       "      <th>pnl_net_fee</th>\n",
       "      <td>-11,718.86</td>\n",
       "      <td>11,889.61</td>\n",
       "      <td>-23,608.47</td>\n",
       "    </tr>\n",
       "    <tr>\n",
       "      <th>gross_roi</th>\n",
       "      <td>0.0000</td>\n",
       "      <td>0.1133</td>\n",
       "      <td>-0.0639</td>\n",
       "    </tr>\n",
       "    <tr>\n",
       "      <th>net_roi</th>\n",
       "      <td>-0.0281</td>\n",
       "      <td>0.0790</td>\n",
       "      <td>-0.0885</td>\n",
       "    </tr>\n",
       "    <tr>\n",
       "      <th>take_pct</th>\n",
       "      <td>0.5000</td>\n",
       "      <td>0.4136</td>\n",
       "      <td>0.5866</td>\n",
       "    </tr>\n",
       "    <tr>\n",
       "      <th>longshot_pct</th>\n",
       "      <td>0.0969</td>\n",
       "      <td>0.1294</td>\n",
       "      <td>0.0643</td>\n",
       "    </tr>\n",
       "    <tr>\n",
       "      <th>antilongshot_pct</th>\n",
       "      <td>0.0739</td>\n",
       "      <td>0.0743</td>\n",
       "      <td>0.0734</td>\n",
       "    </tr>\n",
       "  </tbody>\n",
       "</table>\n",
       "</div>"
      ],
      "text/plain": [
       "                     Everyone  Efficient_Traders  Inefficient_Traders\n",
       "trader_count         3,750.00           1,208.00             2,542.00\n",
       "orders_sent         33,959.00          16,181.00            17,778.00\n",
       "quantity         2,642,398.00       1,267,800.00         1,374,598.00\n",
       "notional         1,271,811.34         578,534.61           693,276.73\n",
       "sum_max_loss       416,727.65         152,410.55           264,317.10\n",
       "sum_max_in_pool    417,251.70         150,529.96           266,721.74\n",
       "spread_profit         -0.0000           3,435.75            -3,435.75\n",
       "bias_profit           -0.0000           5,436.13            -5,436.13\n",
       "position_profit        0.0000           8,183.21            -8,183.21\n",
       "gross_pnl              0.0000          17,055.09           -17,055.09\n",
       "fee                 11,718.86           5,165.48             6,553.38\n",
       "pnl_net_fee        -11,718.86          11,889.61           -23,608.47\n",
       "gross_roi              0.0000             0.1133              -0.0639\n",
       "net_roi               -0.0281             0.0790              -0.0885\n",
       "take_pct               0.5000             0.4136               0.5866\n",
       "longshot_pct           0.0969             0.1294               0.0643\n",
       "antilongshot_pct       0.0739             0.0743               0.0734"
      ]
     },
     "execution_count": 17,
     "metadata": {},
     "output_type": "execute_result"
    }
   ],
   "source": [
    "groups = [\n",
    "    ('Everyone', None),\n",
    "    ('Efficient_Traders', 'efficiency >= 0.75'),\n",
    "    ('Inefficient_Traders', 'efficiency < 0.75')\n",
    "]\n",
    "\n",
    "make_multi_group_stats(groups)"
   ]
  },
  {
   "cell_type": "markdown",
   "metadata": {},
   "source": [
    "In this market, \\\\$17k flowed from inefficient traders to efficient traders. Why did \\\\$17k flow between these two groups?\n",
    "\n",
    "Only \\\\$8k is from position profits. This is 48%. This is less than half. Compare this to the ideal market with no spreads or biased prices where position profits are the only way to make money.\n",
    "\n",
    "\\\\$5.4k (32%) is from price biases and the remaining \\\\$3.4k (20%) is from market spreads.\n",
    "\n",
    "Also consider that the efficient traders are grouped together because they didn't trade the strictly dominated contracts but they also had positive position profits, indicating that they were better are processing information. If these two things were uncorrelated the position_profit value here would be closer to zero. It isn't. This suggests that the ability to understand how markets work and trade efficiently is correlated to the ability to pick the right candidates to back.\n",
    "\n",
    "Note I've also added a few more rows to this analysis. The \"sum_max_in_pool\" is the total of the maximum amount of money each trader had in the pool of cash any time during the life of this market. To calculate this we look for the notional exposure minus the accumulated pnl from closed out positions. It shows how big the capital pool is in the zero sum game and is critical for understanding the significance or scale of the numbers for a group. In particular, those two pnl numbers divided by the sum_max_in_pool value give the \"gross_roi\" and \"net_roi\". The efficient traders had a gross ROI of about 11%. For some groups these are rather notable. "
   ]
  },
  {
   "cell_type": "code",
   "execution_count": 18,
   "metadata": {},
   "outputs": [
    {
     "data": {
      "text/plain": [
       "[0.47981042609567, 0.3187394496305795, 0.20145012427375053]"
      ]
     },
     "execution_count": 18,
     "metadata": {},
     "output_type": "execute_result"
    }
   ],
   "source": [
    "[x / 17055.09 for x in [8183.21, 5436.13, 3435.75]]"
   ]
  },
  {
   "cell_type": "markdown",
   "metadata": {},
   "source": [
    "## Trader Size\n",
    "\n",
    "Next is size. Most traders were small and did not risk more than \\$50. As a group they lost money by paying the spread, trading inefficiently, and picking the wrong candidates."
   ]
  },
  {
   "cell_type": "code",
   "execution_count": 19,
   "metadata": {},
   "outputs": [
    {
     "data": {
      "text/html": [
       "<div>\n",
       "<table border=\"1\" class=\"dataframe\">\n",
       "  <thead>\n",
       "    <tr style=\"text-align: right;\">\n",
       "      <th></th>\n",
       "      <th>Everyone</th>\n",
       "      <th>Small_Traders</th>\n",
       "      <th>Large_Traders</th>\n",
       "    </tr>\n",
       "  </thead>\n",
       "  <tbody>\n",
       "    <tr>\n",
       "      <th>trader_count</th>\n",
       "      <td>3,750.00</td>\n",
       "      <td>2,691.00</td>\n",
       "      <td>1,059.00</td>\n",
       "    </tr>\n",
       "    <tr>\n",
       "      <th>orders_sent</th>\n",
       "      <td>33,959.00</td>\n",
       "      <td>10,180.00</td>\n",
       "      <td>23,779.00</td>\n",
       "    </tr>\n",
       "    <tr>\n",
       "      <th>quantity</th>\n",
       "      <td>2,642,398.00</td>\n",
       "      <td>209,074.00</td>\n",
       "      <td>2,433,324.00</td>\n",
       "    </tr>\n",
       "    <tr>\n",
       "      <th>notional</th>\n",
       "      <td>1,271,811.34</td>\n",
       "      <td>76,533.14</td>\n",
       "      <td>1,195,278.20</td>\n",
       "    </tr>\n",
       "    <tr>\n",
       "      <th>sum_max_loss</th>\n",
       "      <td>416,727.65</td>\n",
       "      <td>36,059.06</td>\n",
       "      <td>380,668.59</td>\n",
       "    </tr>\n",
       "    <tr>\n",
       "      <th>sum_max_in_pool</th>\n",
       "      <td>417,251.70</td>\n",
       "      <td>36,078.38</td>\n",
       "      <td>381,173.32</td>\n",
       "    </tr>\n",
       "    <tr>\n",
       "      <th>spread_profit</th>\n",
       "      <td>-0.0000</td>\n",
       "      <td>-537.33</td>\n",
       "      <td>537.33</td>\n",
       "    </tr>\n",
       "    <tr>\n",
       "      <th>bias_profit</th>\n",
       "      <td>-0.0000</td>\n",
       "      <td>-723.32</td>\n",
       "      <td>723.32</td>\n",
       "    </tr>\n",
       "    <tr>\n",
       "      <th>position_profit</th>\n",
       "      <td>0.0000</td>\n",
       "      <td>-7,095.50</td>\n",
       "      <td>7,095.50</td>\n",
       "    </tr>\n",
       "    <tr>\n",
       "      <th>gross_pnl</th>\n",
       "      <td>0.0000</td>\n",
       "      <td>-8,356.16</td>\n",
       "      <td>8,356.16</td>\n",
       "    </tr>\n",
       "    <tr>\n",
       "      <th>fee</th>\n",
       "      <td>11,718.86</td>\n",
       "      <td>766.26</td>\n",
       "      <td>10,952.60</td>\n",
       "    </tr>\n",
       "    <tr>\n",
       "      <th>pnl_net_fee</th>\n",
       "      <td>-11,718.86</td>\n",
       "      <td>-9,122.42</td>\n",
       "      <td>-2,596.44</td>\n",
       "    </tr>\n",
       "    <tr>\n",
       "      <th>gross_roi</th>\n",
       "      <td>0.0000</td>\n",
       "      <td>-0.2316</td>\n",
       "      <td>0.0219</td>\n",
       "    </tr>\n",
       "    <tr>\n",
       "      <th>net_roi</th>\n",
       "      <td>-0.0281</td>\n",
       "      <td>-0.2528</td>\n",
       "      <td>-0.0068</td>\n",
       "    </tr>\n",
       "    <tr>\n",
       "      <th>take_pct</th>\n",
       "      <td>0.5000</td>\n",
       "      <td>0.6757</td>\n",
       "      <td>0.4865</td>\n",
       "    </tr>\n",
       "    <tr>\n",
       "      <th>longshot_pct</th>\n",
       "      <td>0.0969</td>\n",
       "      <td>0.1105</td>\n",
       "      <td>0.0958</td>\n",
       "    </tr>\n",
       "    <tr>\n",
       "      <th>antilongshot_pct</th>\n",
       "      <td>0.0739</td>\n",
       "      <td>0.0436</td>\n",
       "      <td>0.0762</td>\n",
       "    </tr>\n",
       "  </tbody>\n",
       "</table>\n",
       "</div>"
      ],
      "text/plain": [
       "                     Everyone  Small_Traders  Large_Traders\n",
       "trader_count         3,750.00       2,691.00       1,059.00\n",
       "orders_sent         33,959.00      10,180.00      23,779.00\n",
       "quantity         2,642,398.00     209,074.00   2,433,324.00\n",
       "notional         1,271,811.34      76,533.14   1,195,278.20\n",
       "sum_max_loss       416,727.65      36,059.06     380,668.59\n",
       "sum_max_in_pool    417,251.70      36,078.38     381,173.32\n",
       "spread_profit         -0.0000        -537.33         537.33\n",
       "bias_profit           -0.0000        -723.32         723.32\n",
       "position_profit        0.0000      -7,095.50       7,095.50\n",
       "gross_pnl              0.0000      -8,356.16       8,356.16\n",
       "fee                 11,718.86         766.26      10,952.60\n",
       "pnl_net_fee        -11,718.86      -9,122.42      -2,596.44\n",
       "gross_roi              0.0000        -0.2316         0.0219\n",
       "net_roi               -0.0281        -0.2528        -0.0068\n",
       "take_pct               0.5000         0.6757         0.4865\n",
       "longshot_pct           0.0969         0.1105         0.0958\n",
       "antilongshot_pct       0.0739         0.0436         0.0762"
      ]
     },
     "execution_count": 19,
     "metadata": {},
     "output_type": "execute_result"
    }
   ],
   "source": [
    "groups = [\n",
    "    ('Everyone', None),\n",
    "    ('Small_Traders', 'max_loss <= 50'),\n",
    "    ('Large_Traders', 'max_loss > 50')\n",
    "]\n",
    "\n",
    "make_multi_group_stats(groups)"
   ]
  },
  {
   "cell_type": "markdown",
   "metadata": {},
   "source": [
    "Overall there was a net flow of cash from small traders to large traders. Net flow was over \\$8k. Why did this happen? Mostly (85%) it was because of position profits.\n",
    "\n",
    "The Small Traders' gross_roi is interesting. Negative 23%? That's really bad."
   ]
  },
  {
   "cell_type": "code",
   "execution_count": 20,
   "metadata": {},
   "outputs": [
    {
     "data": {
      "text/plain": [
       "[0.8491340520047486, 0.08656129131084135, 0.0643034599624708]"
      ]
     },
     "execution_count": 20,
     "metadata": {},
     "output_type": "execute_result"
    }
   ],
   "source": [
    "[x / -8356.16 for x in [-7095.50, -723.32, -537.33]]"
   ]
  },
  {
   "cell_type": "markdown",
   "metadata": {},
   "source": [
    "## Trader Activity\n",
    "\n",
    "Finally, trader activity. The active traders were profitable. It seems reasonable that traders who are trading in larger sizes or more frequently would put in the effort to learn how to trade profitably. These traders earned the spread, picked the right candidates and traded efficiently."
   ]
  },
  {
   "cell_type": "code",
   "execution_count": 21,
   "metadata": {},
   "outputs": [
    {
     "data": {
      "text/html": [
       "<div>\n",
       "<table border=\"1\" class=\"dataframe\">\n",
       "  <thead>\n",
       "    <tr style=\"text-align: right;\">\n",
       "      <th></th>\n",
       "      <th>Everyone</th>\n",
       "      <th>Active_Traders</th>\n",
       "      <th>Inactive_Traders</th>\n",
       "    </tr>\n",
       "  </thead>\n",
       "  <tbody>\n",
       "    <tr>\n",
       "      <th>trader_count</th>\n",
       "      <td>3,750.00</td>\n",
       "      <td>547.00</td>\n",
       "      <td>3,203.00</td>\n",
       "    </tr>\n",
       "    <tr>\n",
       "      <th>orders_sent</th>\n",
       "      <td>33,959.00</td>\n",
       "      <td>19,862.00</td>\n",
       "      <td>14,097.00</td>\n",
       "    </tr>\n",
       "    <tr>\n",
       "      <th>quantity</th>\n",
       "      <td>2,642,398.00</td>\n",
       "      <td>1,466,988.00</td>\n",
       "      <td>1,175,410.00</td>\n",
       "    </tr>\n",
       "    <tr>\n",
       "      <th>notional</th>\n",
       "      <td>1,271,811.34</td>\n",
       "      <td>677,878.43</td>\n",
       "      <td>593,932.91</td>\n",
       "    </tr>\n",
       "    <tr>\n",
       "      <th>sum_max_loss</th>\n",
       "      <td>416,727.65</td>\n",
       "      <td>138,877.81</td>\n",
       "      <td>277,849.84</td>\n",
       "    </tr>\n",
       "    <tr>\n",
       "      <th>sum_max_in_pool</th>\n",
       "      <td>417,251.70</td>\n",
       "      <td>139,948.56</td>\n",
       "      <td>277,303.14</td>\n",
       "    </tr>\n",
       "    <tr>\n",
       "      <th>spread_profit</th>\n",
       "      <td>-0.0000</td>\n",
       "      <td>3,996.11</td>\n",
       "      <td>-3,996.11</td>\n",
       "    </tr>\n",
       "    <tr>\n",
       "      <th>bias_profit</th>\n",
       "      <td>-0.0000</td>\n",
       "      <td>1,719.04</td>\n",
       "      <td>-1,719.04</td>\n",
       "    </tr>\n",
       "    <tr>\n",
       "      <th>position_profit</th>\n",
       "      <td>0.0000</td>\n",
       "      <td>2,645.86</td>\n",
       "      <td>-2,645.86</td>\n",
       "    </tr>\n",
       "    <tr>\n",
       "      <th>gross_pnl</th>\n",
       "      <td>0.0000</td>\n",
       "      <td>8,361.01</td>\n",
       "      <td>-8,361.01</td>\n",
       "    </tr>\n",
       "    <tr>\n",
       "      <th>fee</th>\n",
       "      <td>11,718.86</td>\n",
       "      <td>4,364.79</td>\n",
       "      <td>7,354.07</td>\n",
       "    </tr>\n",
       "    <tr>\n",
       "      <th>pnl_net_fee</th>\n",
       "      <td>-11,718.86</td>\n",
       "      <td>3,996.22</td>\n",
       "      <td>-15,715.08</td>\n",
       "    </tr>\n",
       "    <tr>\n",
       "      <th>gross_roi</th>\n",
       "      <td>0.0000</td>\n",
       "      <td>0.0597</td>\n",
       "      <td>-0.0302</td>\n",
       "    </tr>\n",
       "    <tr>\n",
       "      <th>net_roi</th>\n",
       "      <td>-0.0281</td>\n",
       "      <td>0.0286</td>\n",
       "      <td>-0.0567</td>\n",
       "    </tr>\n",
       "    <tr>\n",
       "      <th>take_pct</th>\n",
       "      <td>0.5000</td>\n",
       "      <td>0.4058</td>\n",
       "      <td>0.6575</td>\n",
       "    </tr>\n",
       "    <tr>\n",
       "      <th>longshot_pct</th>\n",
       "      <td>0.0969</td>\n",
       "      <td>0.1173</td>\n",
       "      <td>0.0627</td>\n",
       "    </tr>\n",
       "    <tr>\n",
       "      <th>antilongshot_pct</th>\n",
       "      <td>0.0739</td>\n",
       "      <td>0.0621</td>\n",
       "      <td>0.0936</td>\n",
       "    </tr>\n",
       "  </tbody>\n",
       "</table>\n",
       "</div>"
      ],
      "text/plain": [
       "                     Everyone  Active_Traders  Inactive_Traders\n",
       "trader_count         3,750.00          547.00          3,203.00\n",
       "orders_sent         33,959.00       19,862.00         14,097.00\n",
       "quantity         2,642,398.00    1,466,988.00      1,175,410.00\n",
       "notional         1,271,811.34      677,878.43        593,932.91\n",
       "sum_max_loss       416,727.65      138,877.81        277,849.84\n",
       "sum_max_in_pool    417,251.70      139,948.56        277,303.14\n",
       "spread_profit         -0.0000        3,996.11         -3,996.11\n",
       "bias_profit           -0.0000        1,719.04         -1,719.04\n",
       "position_profit        0.0000        2,645.86         -2,645.86\n",
       "gross_pnl              0.0000        8,361.01         -8,361.01\n",
       "fee                 11,718.86        4,364.79          7,354.07\n",
       "pnl_net_fee        -11,718.86        3,996.22        -15,715.08\n",
       "gross_roi              0.0000          0.0597           -0.0302\n",
       "net_roi               -0.0281          0.0286           -0.0567\n",
       "take_pct               0.5000          0.4058            0.6575\n",
       "longshot_pct           0.0969          0.1173            0.0627\n",
       "antilongshot_pct       0.0739          0.0621            0.0936"
      ]
     },
     "execution_count": 21,
     "metadata": {},
     "output_type": "execute_result"
    }
   ],
   "source": [
    "groups = [\n",
    "    ('Everyone', None),\n",
    "    ('Active_Traders', 'max_opened_pos > 1'),\n",
    "    ('Inactive_Traders', 'max_opened_pos == 1')\n",
    "]\n",
    "\n",
    "make_multi_group_stats(groups)"
   ]
  },
  {
   "cell_type": "markdown",
   "metadata": {},
   "source": [
    "As one might expect there was a net flow of money from inactive traders to active traders. The net flow was \\$8.3k. Interestingly 48% of that was from spread profits. This is suggestive of liquidity providers."
   ]
  },
  {
   "cell_type": "code",
   "execution_count": 22,
   "metadata": {},
   "outputs": [
    {
     "data": {
      "text/plain": [
       "[0.3164521989568246, 0.2056019547877589, 0.47794584625541653]"
      ]
     },
     "execution_count": 22,
     "metadata": {},
     "output_type": "execute_result"
    }
   ],
   "source": [
    "[x / 8361.01 for x in [2645.86, 1719.04, 3996.11]]"
   ]
  },
  {
   "cell_type": "markdown",
   "metadata": {},
   "source": [
    "# Trader Subgroup Breakdown\n",
    "\n",
    "Next we do the same thing but this time grouping the traders into smaller groups using multiple characteristics at the same time.\n",
    "\n",
    "The following is for half of Table 6."
   ]
  },
  {
   "cell_type": "code",
   "execution_count": 23,
   "metadata": {},
   "outputs": [
    {
     "data": {
      "text/plain": [
       "Everyone         3,750.00\n",
       "Small_Active       252.00\n",
       "Small_Inactive   2,439.00\n",
       "Large_Active       295.00\n",
       "Large_Inactive     764.00\n",
       "Name: trader_count, dtype: float64"
      ]
     },
     "execution_count": 23,
     "metadata": {},
     "output_type": "execute_result"
    }
   ],
   "source": [
    "groups = [\n",
    "    ('Everyone', None),\n",
    "    ('Small_Active', 'max_opened_pos > 1 and max_loss <= 50'),\n",
    "    ('Small_Inactive', 'max_opened_pos == 1 and max_loss <= 50'),\n",
    "    ('Large_Active', 'max_opened_pos > 1 and max_loss > 50'),\n",
    "    ('Large_Inactive', 'max_opened_pos == 1 and max_loss > 50')\n",
    "]\n",
    "\n",
    "make_multi_group_stats(groups).T['trader_count']"
   ]
  },
  {
   "cell_type": "markdown",
   "metadata": {},
   "source": [
    "Now let's look at trading efficiency. How about large and small efficient traders?"
   ]
  },
  {
   "cell_type": "code",
   "execution_count": 24,
   "metadata": {},
   "outputs": [
    {
     "data": {
      "text/html": [
       "<div>\n",
       "<table border=\"1\" class=\"dataframe\">\n",
       "  <thead>\n",
       "    <tr style=\"text-align: right;\">\n",
       "      <th></th>\n",
       "      <th>Everyone</th>\n",
       "      <th>Efficient_Traders</th>\n",
       "      <th>Efficient_Traders:Small</th>\n",
       "      <th>Efficient_Traders:Large</th>\n",
       "    </tr>\n",
       "  </thead>\n",
       "  <tbody>\n",
       "    <tr>\n",
       "      <th>trader_count</th>\n",
       "      <td>3,750.00</td>\n",
       "      <td>1,208.00</td>\n",
       "      <td>808.00</td>\n",
       "      <td>400.00</td>\n",
       "    </tr>\n",
       "    <tr>\n",
       "      <th>orders_sent</th>\n",
       "      <td>33,959.00</td>\n",
       "      <td>16,181.00</td>\n",
       "      <td>3,401.00</td>\n",
       "      <td>12,780.00</td>\n",
       "    </tr>\n",
       "    <tr>\n",
       "      <th>quantity</th>\n",
       "      <td>2,642,398.00</td>\n",
       "      <td>1,267,800.00</td>\n",
       "      <td>72,756.00</td>\n",
       "      <td>1,195,044.00</td>\n",
       "    </tr>\n",
       "    <tr>\n",
       "      <th>notional</th>\n",
       "      <td>1,271,811.34</td>\n",
       "      <td>578,534.61</td>\n",
       "      <td>25,577.41</td>\n",
       "      <td>552,957.20</td>\n",
       "    </tr>\n",
       "    <tr>\n",
       "      <th>sum_max_loss</th>\n",
       "      <td>416,727.65</td>\n",
       "      <td>152,410.55</td>\n",
       "      <td>11,179.24</td>\n",
       "      <td>141,231.31</td>\n",
       "    </tr>\n",
       "    <tr>\n",
       "      <th>sum_max_in_pool</th>\n",
       "      <td>417,251.70</td>\n",
       "      <td>150,529.96</td>\n",
       "      <td>11,131.57</td>\n",
       "      <td>139,398.39</td>\n",
       "    </tr>\n",
       "    <tr>\n",
       "      <th>spread_profit</th>\n",
       "      <td>-0.0000</td>\n",
       "      <td>3,435.75</td>\n",
       "      <td>-42.79</td>\n",
       "      <td>3,478.54</td>\n",
       "    </tr>\n",
       "    <tr>\n",
       "      <th>bias_profit</th>\n",
       "      <td>-0.0000</td>\n",
       "      <td>5,436.13</td>\n",
       "      <td>518.59</td>\n",
       "      <td>4,917.54</td>\n",
       "    </tr>\n",
       "    <tr>\n",
       "      <th>position_profit</th>\n",
       "      <td>0.0000</td>\n",
       "      <td>8,183.21</td>\n",
       "      <td>-1,690.59</td>\n",
       "      <td>9,873.80</td>\n",
       "    </tr>\n",
       "    <tr>\n",
       "      <th>gross_pnl</th>\n",
       "      <td>0.0000</td>\n",
       "      <td>17,055.09</td>\n",
       "      <td>-1,214.79</td>\n",
       "      <td>18,269.88</td>\n",
       "    </tr>\n",
       "    <tr>\n",
       "      <th>fee</th>\n",
       "      <td>11,718.86</td>\n",
       "      <td>5,165.48</td>\n",
       "      <td>273.34</td>\n",
       "      <td>4,892.14</td>\n",
       "    </tr>\n",
       "    <tr>\n",
       "      <th>pnl_net_fee</th>\n",
       "      <td>-11,718.86</td>\n",
       "      <td>11,889.61</td>\n",
       "      <td>-1,488.13</td>\n",
       "      <td>13,377.74</td>\n",
       "    </tr>\n",
       "    <tr>\n",
       "      <th>gross_roi</th>\n",
       "      <td>0.0000</td>\n",
       "      <td>0.1133</td>\n",
       "      <td>-0.1091</td>\n",
       "      <td>0.1311</td>\n",
       "    </tr>\n",
       "    <tr>\n",
       "      <th>net_roi</th>\n",
       "      <td>-0.0281</td>\n",
       "      <td>0.0790</td>\n",
       "      <td>-0.1337</td>\n",
       "      <td>0.0960</td>\n",
       "    </tr>\n",
       "    <tr>\n",
       "      <th>take_pct</th>\n",
       "      <td>0.5000</td>\n",
       "      <td>0.4136</td>\n",
       "      <td>0.6197</td>\n",
       "      <td>0.4027</td>\n",
       "    </tr>\n",
       "    <tr>\n",
       "      <th>longshot_pct</th>\n",
       "      <td>0.0969</td>\n",
       "      <td>0.1294</td>\n",
       "      <td>0.1848</td>\n",
       "      <td>0.1265</td>\n",
       "    </tr>\n",
       "    <tr>\n",
       "      <th>antilongshot_pct</th>\n",
       "      <td>0.0739</td>\n",
       "      <td>0.0743</td>\n",
       "      <td>0.0497</td>\n",
       "      <td>0.0756</td>\n",
       "    </tr>\n",
       "  </tbody>\n",
       "</table>\n",
       "</div>"
      ],
      "text/plain": [
       "                     Everyone  Efficient_Traders  Efficient_Traders:Small  Efficient_Traders:Large\n",
       "trader_count         3,750.00           1,208.00                   808.00                   400.00\n",
       "orders_sent         33,959.00          16,181.00                 3,401.00                12,780.00\n",
       "quantity         2,642,398.00       1,267,800.00                72,756.00             1,195,044.00\n",
       "notional         1,271,811.34         578,534.61                25,577.41               552,957.20\n",
       "sum_max_loss       416,727.65         152,410.55                11,179.24               141,231.31\n",
       "sum_max_in_pool    417,251.70         150,529.96                11,131.57               139,398.39\n",
       "spread_profit         -0.0000           3,435.75                   -42.79                 3,478.54\n",
       "bias_profit           -0.0000           5,436.13                   518.59                 4,917.54\n",
       "position_profit        0.0000           8,183.21                -1,690.59                 9,873.80\n",
       "gross_pnl              0.0000          17,055.09                -1,214.79                18,269.88\n",
       "fee                 11,718.86           5,165.48                   273.34                 4,892.14\n",
       "pnl_net_fee        -11,718.86          11,889.61                -1,488.13                13,377.74\n",
       "gross_roi              0.0000             0.1133                  -0.1091                   0.1311\n",
       "net_roi               -0.0281             0.0790                  -0.1337                   0.0960\n",
       "take_pct               0.5000             0.4136                   0.6197                   0.4027\n",
       "longshot_pct           0.0969             0.1294                   0.1848                   0.1265\n",
       "antilongshot_pct       0.0739             0.0743                   0.0497                   0.0756"
      ]
     },
     "execution_count": 24,
     "metadata": {},
     "output_type": "execute_result"
    }
   ],
   "source": [
    "groups = [\n",
    "    ('Everyone', None),\n",
    "    ('Efficient_Traders', 'efficiency >= 0.75'),\n",
    "    ('Efficient_Traders:Small', 'efficiency >= 0.75 and max_loss <= 50'),\n",
    "    ('Efficient_Traders:Large', 'efficiency >= 0.75 and max_loss > 50')\n",
    "]\n",
    "\n",
    "make_multi_group_stats(groups)"
   ]
  },
  {
   "cell_type": "markdown",
   "metadata": {},
   "source": [
    "The small efficient traders had position losses, indicating the backed the wrong candidates. The large and efficient traders earned more than half of their profits from position profits."
   ]
  },
  {
   "cell_type": "code",
   "execution_count": 25,
   "metadata": {},
   "outputs": [
    {
     "data": {
      "text/plain": [
       "[0.5404414259973245, 0.26916104539274477, 0.19039752860993064]"
      ]
     },
     "execution_count": 25,
     "metadata": {},
     "output_type": "execute_result"
    }
   ],
   "source": [
    "[x / 18269.88 for x in [9873.80, 4917.54, 3478.54]]"
   ]
  },
  {
   "cell_type": "markdown",
   "metadata": {},
   "source": [
    "The inefficient traders did badly regardless of whether or not they traded in large or small sizes."
   ]
  },
  {
   "cell_type": "code",
   "execution_count": 26,
   "metadata": {},
   "outputs": [
    {
     "data": {
      "text/html": [
       "<div>\n",
       "<table border=\"1\" class=\"dataframe\">\n",
       "  <thead>\n",
       "    <tr style=\"text-align: right;\">\n",
       "      <th></th>\n",
       "      <th>Everyone</th>\n",
       "      <th>Inefficient_Traders</th>\n",
       "      <th>Inefficient_Traders:Small</th>\n",
       "      <th>Inefficient_Traders:Large</th>\n",
       "    </tr>\n",
       "  </thead>\n",
       "  <tbody>\n",
       "    <tr>\n",
       "      <th>trader_count</th>\n",
       "      <td>3,750.00</td>\n",
       "      <td>2,542.00</td>\n",
       "      <td>1,883.00</td>\n",
       "      <td>659.00</td>\n",
       "    </tr>\n",
       "    <tr>\n",
       "      <th>orders_sent</th>\n",
       "      <td>33,959.00</td>\n",
       "      <td>17,778.00</td>\n",
       "      <td>6,779.00</td>\n",
       "      <td>10,999.00</td>\n",
       "    </tr>\n",
       "    <tr>\n",
       "      <th>quantity</th>\n",
       "      <td>2,642,398.00</td>\n",
       "      <td>1,374,598.00</td>\n",
       "      <td>136,318.00</td>\n",
       "      <td>1,238,280.00</td>\n",
       "    </tr>\n",
       "    <tr>\n",
       "      <th>notional</th>\n",
       "      <td>1,271,811.34</td>\n",
       "      <td>693,276.73</td>\n",
       "      <td>50,955.73</td>\n",
       "      <td>642,321.00</td>\n",
       "    </tr>\n",
       "    <tr>\n",
       "      <th>sum_max_loss</th>\n",
       "      <td>416,727.65</td>\n",
       "      <td>264,317.10</td>\n",
       "      <td>24,879.82</td>\n",
       "      <td>239,437.28</td>\n",
       "    </tr>\n",
       "    <tr>\n",
       "      <th>sum_max_in_pool</th>\n",
       "      <td>417,251.70</td>\n",
       "      <td>266,721.74</td>\n",
       "      <td>24,946.81</td>\n",
       "      <td>241,774.93</td>\n",
       "    </tr>\n",
       "    <tr>\n",
       "      <th>spread_profit</th>\n",
       "      <td>-0.0000</td>\n",
       "      <td>-3,435.75</td>\n",
       "      <td>-494.54</td>\n",
       "      <td>-2,941.20</td>\n",
       "    </tr>\n",
       "    <tr>\n",
       "      <th>bias_profit</th>\n",
       "      <td>-0.0000</td>\n",
       "      <td>-5,436.13</td>\n",
       "      <td>-1,241.91</td>\n",
       "      <td>-4,194.22</td>\n",
       "    </tr>\n",
       "    <tr>\n",
       "      <th>position_profit</th>\n",
       "      <td>0.0000</td>\n",
       "      <td>-8,183.21</td>\n",
       "      <td>-5,404.91</td>\n",
       "      <td>-2,778.29</td>\n",
       "    </tr>\n",
       "    <tr>\n",
       "      <th>gross_pnl</th>\n",
       "      <td>0.0000</td>\n",
       "      <td>-17,055.09</td>\n",
       "      <td>-7,141.37</td>\n",
       "      <td>-9,913.72</td>\n",
       "    </tr>\n",
       "    <tr>\n",
       "      <th>fee</th>\n",
       "      <td>11,718.86</td>\n",
       "      <td>6,553.38</td>\n",
       "      <td>492.91</td>\n",
       "      <td>6,060.47</td>\n",
       "    </tr>\n",
       "    <tr>\n",
       "      <th>pnl_net_fee</th>\n",
       "      <td>-11,718.86</td>\n",
       "      <td>-23,608.47</td>\n",
       "      <td>-7,634.28</td>\n",
       "      <td>-15,974.18</td>\n",
       "    </tr>\n",
       "    <tr>\n",
       "      <th>gross_roi</th>\n",
       "      <td>0.0000</td>\n",
       "      <td>-0.0639</td>\n",
       "      <td>-0.2863</td>\n",
       "      <td>-0.0410</td>\n",
       "    </tr>\n",
       "    <tr>\n",
       "      <th>net_roi</th>\n",
       "      <td>-0.0281</td>\n",
       "      <td>-0.0885</td>\n",
       "      <td>-0.3060</td>\n",
       "      <td>-0.0661</td>\n",
       "    </tr>\n",
       "    <tr>\n",
       "      <th>take_pct</th>\n",
       "      <td>0.5000</td>\n",
       "      <td>0.5866</td>\n",
       "      <td>0.7062</td>\n",
       "      <td>0.5744</td>\n",
       "    </tr>\n",
       "    <tr>\n",
       "      <th>longshot_pct</th>\n",
       "      <td>0.0969</td>\n",
       "      <td>0.0643</td>\n",
       "      <td>0.0700</td>\n",
       "      <td>0.0637</td>\n",
       "    </tr>\n",
       "    <tr>\n",
       "      <th>antilongshot_pct</th>\n",
       "      <td>0.0739</td>\n",
       "      <td>0.0734</td>\n",
       "      <td>0.0403</td>\n",
       "      <td>0.0768</td>\n",
       "    </tr>\n",
       "  </tbody>\n",
       "</table>\n",
       "</div>"
      ],
      "text/plain": [
       "                     Everyone  Inefficient_Traders  Inefficient_Traders:Small  Inefficient_Traders:Large\n",
       "trader_count         3,750.00             2,542.00                   1,883.00                     659.00\n",
       "orders_sent         33,959.00            17,778.00                   6,779.00                  10,999.00\n",
       "quantity         2,642,398.00         1,374,598.00                 136,318.00               1,238,280.00\n",
       "notional         1,271,811.34           693,276.73                  50,955.73                 642,321.00\n",
       "sum_max_loss       416,727.65           264,317.10                  24,879.82                 239,437.28\n",
       "sum_max_in_pool    417,251.70           266,721.74                  24,946.81                 241,774.93\n",
       "spread_profit         -0.0000            -3,435.75                    -494.54                  -2,941.20\n",
       "bias_profit           -0.0000            -5,436.13                  -1,241.91                  -4,194.22\n",
       "position_profit        0.0000            -8,183.21                  -5,404.91                  -2,778.29\n",
       "gross_pnl              0.0000           -17,055.09                  -7,141.37                  -9,913.72\n",
       "fee                 11,718.86             6,553.38                     492.91                   6,060.47\n",
       "pnl_net_fee        -11,718.86           -23,608.47                  -7,634.28                 -15,974.18\n",
       "gross_roi              0.0000              -0.0639                    -0.2863                    -0.0410\n",
       "net_roi               -0.0281              -0.0885                    -0.3060                    -0.0661\n",
       "take_pct               0.5000               0.5866                     0.7062                     0.5744\n",
       "longshot_pct           0.0969               0.0643                     0.0700                     0.0637\n",
       "antilongshot_pct       0.0739               0.0734                     0.0403                     0.0768"
      ]
     },
     "execution_count": 26,
     "metadata": {},
     "output_type": "execute_result"
    }
   ],
   "source": [
    "groups = [\n",
    "    ('Everyone', None),\n",
    "    ('Inefficient_Traders', 'efficiency < 0.75'),\n",
    "    ('Inefficient_Traders:Small', 'efficiency < 0.75 and max_loss <= 50'),\n",
    "    ('Inefficient_Traders:Large', 'efficiency < 0.75 and max_loss > 50')\n",
    "]\n",
    "\n",
    "make_multi_group_stats(groups)"
   ]
  },
  {
   "cell_type": "markdown",
   "metadata": {},
   "source": [
    "The Small and inefficient traders did poorly. Their gross pnl was -\\\\$7k but look at their sum_max_in_pool. They only risked \\$25k. Their gross roi is -29%. This is not a small issue: there are 1883 traders in this group. This is 50% of the traders.\n",
    "\n",
    "It isn't the case that these traders were all swinging for the fences with longshots. Their longshot_pct value is 7%, less than the value for everyone (9.7%)."
   ]
  },
  {
   "cell_type": "code",
   "execution_count": 27,
   "metadata": {},
   "outputs": [
    {
     "data": {
      "text/plain": [
       "[0.7568449751238208, 0.1739036067309214, 0.06925001785371715]"
      ]
     },
     "execution_count": 27,
     "metadata": {},
     "output_type": "execute_result"
    }
   ],
   "source": [
    "[x / -7141.37 for x in [-5404.91, -1241.91, -494.54]]"
   ]
  },
  {
   "cell_type": "markdown",
   "metadata": {},
   "source": [
    "Now, efficiency and trading activity?"
   ]
  },
  {
   "cell_type": "code",
   "execution_count": 28,
   "metadata": {},
   "outputs": [
    {
     "data": {
      "text/html": [
       "<div>\n",
       "<table border=\"1\" class=\"dataframe\">\n",
       "  <thead>\n",
       "    <tr style=\"text-align: right;\">\n",
       "      <th></th>\n",
       "      <th>Everyone</th>\n",
       "      <th>Efficient_Traders</th>\n",
       "      <th>Efficient_Traders:Active</th>\n",
       "      <th>Efficient_Traders:Inactive</th>\n",
       "    </tr>\n",
       "  </thead>\n",
       "  <tbody>\n",
       "    <tr>\n",
       "      <th>trader_count</th>\n",
       "      <td>3,750.00</td>\n",
       "      <td>1,208.00</td>\n",
       "      <td>204.00</td>\n",
       "      <td>1,004.00</td>\n",
       "    </tr>\n",
       "    <tr>\n",
       "      <th>orders_sent</th>\n",
       "      <td>33,959.00</td>\n",
       "      <td>16,181.00</td>\n",
       "      <td>11,182.00</td>\n",
       "      <td>4,999.00</td>\n",
       "    </tr>\n",
       "    <tr>\n",
       "      <th>quantity</th>\n",
       "      <td>2,642,398.00</td>\n",
       "      <td>1,267,800.00</td>\n",
       "      <td>872,710.00</td>\n",
       "      <td>395,090.00</td>\n",
       "    </tr>\n",
       "    <tr>\n",
       "      <th>notional</th>\n",
       "      <td>1,271,811.34</td>\n",
       "      <td>578,534.61</td>\n",
       "      <td>360,140.59</td>\n",
       "      <td>218,394.02</td>\n",
       "    </tr>\n",
       "    <tr>\n",
       "      <th>sum_max_loss</th>\n",
       "      <td>416,727.65</td>\n",
       "      <td>152,410.55</td>\n",
       "      <td>59,317.23</td>\n",
       "      <td>93,093.32</td>\n",
       "    </tr>\n",
       "    <tr>\n",
       "      <th>sum_max_in_pool</th>\n",
       "      <td>417,251.70</td>\n",
       "      <td>150,529.96</td>\n",
       "      <td>57,696.28</td>\n",
       "      <td>92,833.68</td>\n",
       "    </tr>\n",
       "    <tr>\n",
       "      <th>spread_profit</th>\n",
       "      <td>-0.0000</td>\n",
       "      <td>3,435.75</td>\n",
       "      <td>4,128.50</td>\n",
       "      <td>-692.74</td>\n",
       "    </tr>\n",
       "    <tr>\n",
       "      <th>bias_profit</th>\n",
       "      <td>-0.0000</td>\n",
       "      <td>5,436.13</td>\n",
       "      <td>2,566.73</td>\n",
       "      <td>2,869.40</td>\n",
       "    </tr>\n",
       "    <tr>\n",
       "      <th>position_profit</th>\n",
       "      <td>0.0000</td>\n",
       "      <td>8,183.21</td>\n",
       "      <td>-1,476.22</td>\n",
       "      <td>9,659.43</td>\n",
       "    </tr>\n",
       "    <tr>\n",
       "      <th>gross_pnl</th>\n",
       "      <td>0.0000</td>\n",
       "      <td>17,055.09</td>\n",
       "      <td>5,219.01</td>\n",
       "      <td>11,836.08</td>\n",
       "    </tr>\n",
       "    <tr>\n",
       "      <th>fee</th>\n",
       "      <td>11,718.86</td>\n",
       "      <td>5,165.48</td>\n",
       "      <td>2,157.63</td>\n",
       "      <td>3,007.85</td>\n",
       "    </tr>\n",
       "    <tr>\n",
       "      <th>pnl_net_fee</th>\n",
       "      <td>-11,718.86</td>\n",
       "      <td>11,889.61</td>\n",
       "      <td>3,061.38</td>\n",
       "      <td>8,828.23</td>\n",
       "    </tr>\n",
       "    <tr>\n",
       "      <th>gross_roi</th>\n",
       "      <td>0.0000</td>\n",
       "      <td>0.1133</td>\n",
       "      <td>0.0905</td>\n",
       "      <td>0.1275</td>\n",
       "    </tr>\n",
       "    <tr>\n",
       "      <th>net_roi</th>\n",
       "      <td>-0.0281</td>\n",
       "      <td>0.0790</td>\n",
       "      <td>0.0531</td>\n",
       "      <td>0.0951</td>\n",
       "    </tr>\n",
       "    <tr>\n",
       "      <th>take_pct</th>\n",
       "      <td>0.5000</td>\n",
       "      <td>0.4136</td>\n",
       "      <td>0.3463</td>\n",
       "      <td>0.6162</td>\n",
       "    </tr>\n",
       "    <tr>\n",
       "      <th>longshot_pct</th>\n",
       "      <td>0.0969</td>\n",
       "      <td>0.1294</td>\n",
       "      <td>0.1515</td>\n",
       "      <td>0.0629</td>\n",
       "    </tr>\n",
       "    <tr>\n",
       "      <th>antilongshot_pct</th>\n",
       "      <td>0.0739</td>\n",
       "      <td>0.0743</td>\n",
       "      <td>0.0550</td>\n",
       "      <td>0.1323</td>\n",
       "    </tr>\n",
       "  </tbody>\n",
       "</table>\n",
       "</div>"
      ],
      "text/plain": [
       "                     Everyone  Efficient_Traders  Efficient_Traders:Active  Efficient_Traders:Inactive\n",
       "trader_count         3,750.00           1,208.00                    204.00                    1,004.00\n",
       "orders_sent         33,959.00          16,181.00                 11,182.00                    4,999.00\n",
       "quantity         2,642,398.00       1,267,800.00                872,710.00                  395,090.00\n",
       "notional         1,271,811.34         578,534.61                360,140.59                  218,394.02\n",
       "sum_max_loss       416,727.65         152,410.55                 59,317.23                   93,093.32\n",
       "sum_max_in_pool    417,251.70         150,529.96                 57,696.28                   92,833.68\n",
       "spread_profit         -0.0000           3,435.75                  4,128.50                     -692.74\n",
       "bias_profit           -0.0000           5,436.13                  2,566.73                    2,869.40\n",
       "position_profit        0.0000           8,183.21                 -1,476.22                    9,659.43\n",
       "gross_pnl              0.0000          17,055.09                  5,219.01                   11,836.08\n",
       "fee                 11,718.86           5,165.48                  2,157.63                    3,007.85\n",
       "pnl_net_fee        -11,718.86          11,889.61                  3,061.38                    8,828.23\n",
       "gross_roi              0.0000             0.1133                    0.0905                      0.1275\n",
       "net_roi               -0.0281             0.0790                    0.0531                      0.0951\n",
       "take_pct               0.5000             0.4136                    0.3463                      0.6162\n",
       "longshot_pct           0.0969             0.1294                    0.1515                      0.0629\n",
       "antilongshot_pct       0.0739             0.0743                    0.0550                      0.1323"
      ]
     },
     "execution_count": 28,
     "metadata": {},
     "output_type": "execute_result"
    }
   ],
   "source": [
    "groups = [\n",
    "    ('Everyone', None),\n",
    "    ('Efficient_Traders', 'efficiency >= 0.75'),\n",
    "    ('Efficient_Traders:Active', 'efficiency >= 0.75 and max_opened_pos > 1'),\n",
    "    ('Efficient_Traders:Inactive', 'efficiency >= 0.75 and max_opened_pos == 1')\n",
    "]\n",
    "\n",
    "make_multi_group_stats(groups)"
   ]
  },
  {
   "cell_type": "markdown",
   "metadata": {},
   "source": [
    "The efficient and active traders were profitable in spite their negative position profits, indicating they picked the wrong candidates. Their spread profits are profitable. A trader functioning as a market maker will earn the spread but lose money on position profits. The spread profits will exceed the position losses. Also observe the low take percentage.\n",
    "\n",
    "The efficient and inactivate traders were also profitable but interestingly made most of their profits from position profits. They lost money on the spread. These two groups were functioning very differently."
   ]
  },
  {
   "cell_type": "markdown",
   "metadata": {},
   "source": [
    "Now the inefficient traders. How did they do broken down by trading activity?"
   ]
  },
  {
   "cell_type": "code",
   "execution_count": 29,
   "metadata": {},
   "outputs": [
    {
     "data": {
      "text/html": [
       "<div>\n",
       "<table border=\"1\" class=\"dataframe\">\n",
       "  <thead>\n",
       "    <tr style=\"text-align: right;\">\n",
       "      <th></th>\n",
       "      <th>Everyone</th>\n",
       "      <th>Inefficient_Traders</th>\n",
       "      <th>Inefficient_Traders:Active</th>\n",
       "      <th>Inefficient_Traders:Inactive</th>\n",
       "    </tr>\n",
       "  </thead>\n",
       "  <tbody>\n",
       "    <tr>\n",
       "      <th>trader_count</th>\n",
       "      <td>3,750.00</td>\n",
       "      <td>2,542.00</td>\n",
       "      <td>343.00</td>\n",
       "      <td>2,199.00</td>\n",
       "    </tr>\n",
       "    <tr>\n",
       "      <th>orders_sent</th>\n",
       "      <td>33,959.00</td>\n",
       "      <td>17,778.00</td>\n",
       "      <td>8,680.00</td>\n",
       "      <td>9,098.00</td>\n",
       "    </tr>\n",
       "    <tr>\n",
       "      <th>quantity</th>\n",
       "      <td>2,642,398.00</td>\n",
       "      <td>1,374,598.00</td>\n",
       "      <td>594,278.00</td>\n",
       "      <td>780,320.00</td>\n",
       "    </tr>\n",
       "    <tr>\n",
       "      <th>notional</th>\n",
       "      <td>1,271,811.34</td>\n",
       "      <td>693,276.73</td>\n",
       "      <td>317,737.84</td>\n",
       "      <td>375,538.89</td>\n",
       "    </tr>\n",
       "    <tr>\n",
       "      <th>sum_max_loss</th>\n",
       "      <td>416,727.65</td>\n",
       "      <td>264,317.10</td>\n",
       "      <td>79,560.58</td>\n",
       "      <td>184,756.52</td>\n",
       "    </tr>\n",
       "    <tr>\n",
       "      <th>sum_max_in_pool</th>\n",
       "      <td>417,251.70</td>\n",
       "      <td>266,721.74</td>\n",
       "      <td>82,252.27</td>\n",
       "      <td>184,469.46</td>\n",
       "    </tr>\n",
       "    <tr>\n",
       "      <th>spread_profit</th>\n",
       "      <td>-0.0000</td>\n",
       "      <td>-3,435.75</td>\n",
       "      <td>-132.38</td>\n",
       "      <td>-3,303.37</td>\n",
       "    </tr>\n",
       "    <tr>\n",
       "      <th>bias_profit</th>\n",
       "      <td>-0.0000</td>\n",
       "      <td>-5,436.13</td>\n",
       "      <td>-847.69</td>\n",
       "      <td>-4,588.44</td>\n",
       "    </tr>\n",
       "    <tr>\n",
       "      <th>position_profit</th>\n",
       "      <td>0.0000</td>\n",
       "      <td>-8,183.21</td>\n",
       "      <td>4,122.08</td>\n",
       "      <td>-12,305.28</td>\n",
       "    </tr>\n",
       "    <tr>\n",
       "      <th>gross_pnl</th>\n",
       "      <td>0.0000</td>\n",
       "      <td>-17,055.09</td>\n",
       "      <td>3,142.00</td>\n",
       "      <td>-20,197.09</td>\n",
       "    </tr>\n",
       "    <tr>\n",
       "      <th>fee</th>\n",
       "      <td>11,718.86</td>\n",
       "      <td>6,553.38</td>\n",
       "      <td>2,207.16</td>\n",
       "      <td>4,346.22</td>\n",
       "    </tr>\n",
       "    <tr>\n",
       "      <th>pnl_net_fee</th>\n",
       "      <td>-11,718.86</td>\n",
       "      <td>-23,608.47</td>\n",
       "      <td>934.84</td>\n",
       "      <td>-24,543.31</td>\n",
       "    </tr>\n",
       "    <tr>\n",
       "      <th>gross_roi</th>\n",
       "      <td>0.0000</td>\n",
       "      <td>-0.0639</td>\n",
       "      <td>0.0382</td>\n",
       "      <td>-0.1095</td>\n",
       "    </tr>\n",
       "    <tr>\n",
       "      <th>net_roi</th>\n",
       "      <td>-0.0281</td>\n",
       "      <td>-0.0885</td>\n",
       "      <td>0.0114</td>\n",
       "      <td>-0.1330</td>\n",
       "    </tr>\n",
       "    <tr>\n",
       "      <th>take_pct</th>\n",
       "      <td>0.5000</td>\n",
       "      <td>0.5866</td>\n",
       "      <td>0.4952</td>\n",
       "      <td>0.6781</td>\n",
       "    </tr>\n",
       "    <tr>\n",
       "      <th>longshot_pct</th>\n",
       "      <td>0.0969</td>\n",
       "      <td>0.0643</td>\n",
       "      <td>0.0660</td>\n",
       "      <td>0.0626</td>\n",
       "    </tr>\n",
       "    <tr>\n",
       "      <th>antilongshot_pct</th>\n",
       "      <td>0.0739</td>\n",
       "      <td>0.0734</td>\n",
       "      <td>0.0727</td>\n",
       "      <td>0.0742</td>\n",
       "    </tr>\n",
       "  </tbody>\n",
       "</table>\n",
       "</div>"
      ],
      "text/plain": [
       "                     Everyone  Inefficient_Traders  Inefficient_Traders:Active  Inefficient_Traders:Inactive\n",
       "trader_count         3,750.00             2,542.00                      343.00                      2,199.00\n",
       "orders_sent         33,959.00            17,778.00                    8,680.00                      9,098.00\n",
       "quantity         2,642,398.00         1,374,598.00                  594,278.00                    780,320.00\n",
       "notional         1,271,811.34           693,276.73                  317,737.84                    375,538.89\n",
       "sum_max_loss       416,727.65           264,317.10                   79,560.58                    184,756.52\n",
       "sum_max_in_pool    417,251.70           266,721.74                   82,252.27                    184,469.46\n",
       "spread_profit         -0.0000            -3,435.75                     -132.38                     -3,303.37\n",
       "bias_profit           -0.0000            -5,436.13                     -847.69                     -4,588.44\n",
       "position_profit        0.0000            -8,183.21                    4,122.08                    -12,305.28\n",
       "gross_pnl              0.0000           -17,055.09                    3,142.00                    -20,197.09\n",
       "fee                 11,718.86             6,553.38                    2,207.16                      4,346.22\n",
       "pnl_net_fee        -11,718.86           -23,608.47                      934.84                    -24,543.31\n",
       "gross_roi              0.0000              -0.0639                      0.0382                       -0.1095\n",
       "net_roi               -0.0281              -0.0885                      0.0114                       -0.1330\n",
       "take_pct               0.5000               0.5866                      0.4952                        0.6781\n",
       "longshot_pct           0.0969               0.0643                      0.0660                        0.0626\n",
       "antilongshot_pct       0.0739               0.0734                      0.0727                        0.0742"
      ]
     },
     "execution_count": 29,
     "metadata": {},
     "output_type": "execute_result"
    }
   ],
   "source": [
    "groups = [\n",
    "    ('Everyone', None),\n",
    "    ('Inefficient_Traders', 'efficiency < 0.75'),\n",
    "    ('Inefficient_Traders:Active', 'efficiency < 0.75 and max_opened_pos > 1'),\n",
    "    ('Inefficient_Traders:Inactive', 'efficiency < 0.75 and max_opened_pos == 1')\n",
    "]\n",
    "\n",
    "make_multi_group_stats(groups)"
   ]
  },
  {
   "cell_type": "markdown",
   "metadata": {},
   "source": [
    "Interestingly the inefficient traders who traded actively were able to earn positive position profits. They lost money by trading inefficiently but not enough to put them in the red.\n",
    "\n",
    "The inefficient and inactive traders lost money on the spread, price bias and picking the wrong candidates. 60% was from picking the wrong candidates."
   ]
  },
  {
   "cell_type": "code",
   "execution_count": 30,
   "metadata": {},
   "outputs": [
    {
     "data": {
      "text/plain": [
       "[0.609260046868138, 0.22718322292963986, 0.1635567302022222]"
      ]
     },
     "execution_count": 30,
     "metadata": {},
     "output_type": "execute_result"
    }
   ],
   "source": [
    "[x / -20197.09 for x in [-12305.28, -4588.44, -3303.37]]"
   ]
  },
  {
   "cell_type": "markdown",
   "metadata": {},
   "source": [
    "Finally, grouping by all three characteristics at the same time.\n",
    "\n",
    "As the results above would suggest the large and efficient traders made the most money, regardless of if they were active or not.\n",
    "\n",
    "The \"Efficient, Large, Active\" traders had negative position profits and positive spread profits, much like a market maker. They seemed to have been employing a liquidity providing strategy.\n",
    "\n",
    "The only profitable inefficient group are the \"Inefficient, Large, Active\" traders.  They were profitable but only because of their positive position profits."
   ]
  },
  {
   "cell_type": "code",
   "execution_count": 31,
   "metadata": {
    "scrolled": false
   },
   "outputs": [
    {
     "data": {
      "text/html": [
       "<div>\n",
       "<table border=\"1\" class=\"dataframe\">\n",
       "  <thead>\n",
       "    <tr style=\"text-align: right;\">\n",
       "      <th></th>\n",
       "      <th>trader_count</th>\n",
       "      <th>orders_sent</th>\n",
       "      <th>quantity</th>\n",
       "      <th>notional</th>\n",
       "      <th>sum_max_loss</th>\n",
       "      <th>sum_max_in_pool</th>\n",
       "      <th>spread_profit</th>\n",
       "      <th>bias_profit</th>\n",
       "      <th>position_profit</th>\n",
       "      <th>gross_pnl</th>\n",
       "      <th>fee</th>\n",
       "      <th>pnl_net_fee</th>\n",
       "      <th>gross_roi</th>\n",
       "      <th>net_roi</th>\n",
       "      <th>take_pct</th>\n",
       "      <th>longshot_pct</th>\n",
       "      <th>antilongshot_pct</th>\n",
       "    </tr>\n",
       "  </thead>\n",
       "  <tbody>\n",
       "    <tr>\n",
       "      <th>Efficient Large Inactive</th>\n",
       "      <td>279.00</td>\n",
       "      <td>2,717.00</td>\n",
       "      <td>340,534.00</td>\n",
       "      <td>199,413.27</td>\n",
       "      <td>83,564.47</td>\n",
       "      <td>83,296.03</td>\n",
       "      <td>-593.93</td>\n",
       "      <td>2,430.53</td>\n",
       "      <td>11,316.45</td>\n",
       "      <td>13,153.05</td>\n",
       "      <td>2,784.53</td>\n",
       "      <td>10,368.53</td>\n",
       "      <td>0.1579</td>\n",
       "      <td>0.1245</td>\n",
       "      <td>0.6053</td>\n",
       "      <td>0.0436</td>\n",
       "      <td>0.1455</td>\n",
       "    </tr>\n",
       "    <tr>\n",
       "      <th>Efficient Large Active</th>\n",
       "      <td>121.00</td>\n",
       "      <td>10,063.00</td>\n",
       "      <td>854,510.00</td>\n",
       "      <td>353,543.93</td>\n",
       "      <td>57,666.84</td>\n",
       "      <td>56,102.36</td>\n",
       "      <td>4,072.47</td>\n",
       "      <td>2,487.01</td>\n",
       "      <td>-1,442.65</td>\n",
       "      <td>5,116.83</td>\n",
       "      <td>2,107.61</td>\n",
       "      <td>3,009.22</td>\n",
       "      <td>0.0912</td>\n",
       "      <td>0.0536</td>\n",
       "      <td>0.3436</td>\n",
       "      <td>0.1506</td>\n",
       "      <td>0.0552</td>\n",
       "    </tr>\n",
       "    <tr>\n",
       "      <th>Inefficient Large Active</th>\n",
       "      <td>174.00</td>\n",
       "      <td>6,525.00</td>\n",
       "      <td>563,976.00</td>\n",
       "      <td>306,378.28</td>\n",
       "      <td>76,625.14</td>\n",
       "      <td>79,268.36</td>\n",
       "      <td>-148.12</td>\n",
       "      <td>-752.89</td>\n",
       "      <td>4,687.33</td>\n",
       "      <td>3,786.32</td>\n",
       "      <td>2,140.67</td>\n",
       "      <td>1,645.64</td>\n",
       "      <td>0.0478</td>\n",
       "      <td>0.0208</td>\n",
       "      <td>0.4937</td>\n",
       "      <td>0.0658</td>\n",
       "      <td>0.0755</td>\n",
       "    </tr>\n",
       "    <tr>\n",
       "      <th>Efficient Small Active</th>\n",
       "      <td>83.00</td>\n",
       "      <td>1,119.00</td>\n",
       "      <td>18,200.00</td>\n",
       "      <td>6,596.66</td>\n",
       "      <td>1,650.39</td>\n",
       "      <td>1,593.92</td>\n",
       "      <td>56.02</td>\n",
       "      <td>79.72</td>\n",
       "      <td>-33.57</td>\n",
       "      <td>102.18</td>\n",
       "      <td>50.01</td>\n",
       "      <td>52.17</td>\n",
       "      <td>0.0641</td>\n",
       "      <td>0.0327</td>\n",
       "      <td>0.4775</td>\n",
       "      <td>0.1908</td>\n",
       "      <td>0.0465</td>\n",
       "    </tr>\n",
       "    <tr>\n",
       "      <th>Inefficient Small Active</th>\n",
       "      <td>169.00</td>\n",
       "      <td>2,155.00</td>\n",
       "      <td>30,302.00</td>\n",
       "      <td>11,359.56</td>\n",
       "      <td>2,935.44</td>\n",
       "      <td>2,983.92</td>\n",
       "      <td>15.73</td>\n",
       "      <td>-94.80</td>\n",
       "      <td>-565.25</td>\n",
       "      <td>-644.32</td>\n",
       "      <td>66.49</td>\n",
       "      <td>-710.81</td>\n",
       "      <td>-0.2159</td>\n",
       "      <td>-0.2382</td>\n",
       "      <td>0.5219</td>\n",
       "      <td>0.0695</td>\n",
       "      <td>0.0199</td>\n",
       "    </tr>\n",
       "    <tr>\n",
       "      <th>Efficient Small Inactive</th>\n",
       "      <td>725.00</td>\n",
       "      <td>2,282.00</td>\n",
       "      <td>54,556.00</td>\n",
       "      <td>18,980.75</td>\n",
       "      <td>9,528.85</td>\n",
       "      <td>9,537.65</td>\n",
       "      <td>-98.82</td>\n",
       "      <td>438.87</td>\n",
       "      <td>-1,657.02</td>\n",
       "      <td>-1,316.97</td>\n",
       "      <td>223.33</td>\n",
       "      <td>-1,540.30</td>\n",
       "      <td>-0.1381</td>\n",
       "      <td>-0.1615</td>\n",
       "      <td>0.6836</td>\n",
       "      <td>0.1821</td>\n",
       "      <td>0.0511</td>\n",
       "    </tr>\n",
       "    <tr>\n",
       "      <th>Inefficient Small Inactive</th>\n",
       "      <td>1,714.00</td>\n",
       "      <td>4,624.00</td>\n",
       "      <td>106,016.00</td>\n",
       "      <td>39,596.17</td>\n",
       "      <td>21,944.38</td>\n",
       "      <td>21,962.89</td>\n",
       "      <td>-510.28</td>\n",
       "      <td>-1,147.11</td>\n",
       "      <td>-4,839.66</td>\n",
       "      <td>-6,497.05</td>\n",
       "      <td>426.43</td>\n",
       "      <td>-6,923.48</td>\n",
       "      <td>-0.2958</td>\n",
       "      <td>-0.3152</td>\n",
       "      <td>0.7765</td>\n",
       "      <td>0.0701</td>\n",
       "      <td>0.0481</td>\n",
       "    </tr>\n",
       "    <tr>\n",
       "      <th>Inefficient Large Inactive</th>\n",
       "      <td>485.00</td>\n",
       "      <td>4,474.00</td>\n",
       "      <td>674,304.00</td>\n",
       "      <td>335,942.72</td>\n",
       "      <td>162,812.14</td>\n",
       "      <td>162,506.57</td>\n",
       "      <td>-2,793.09</td>\n",
       "      <td>-3,441.33</td>\n",
       "      <td>-7,465.62</td>\n",
       "      <td>-13,700.04</td>\n",
       "      <td>3,919.79</td>\n",
       "      <td>-17,619.83</td>\n",
       "      <td>-0.0843</td>\n",
       "      <td>-0.1084</td>\n",
       "      <td>0.6628</td>\n",
       "      <td>0.0615</td>\n",
       "      <td>0.0783</td>\n",
       "    </tr>\n",
       "  </tbody>\n",
       "</table>\n",
       "</div>"
      ],
      "text/plain": [
       "                            trader_count  orders_sent   quantity   notional  sum_max_loss  sum_max_in_pool  spread_profit  bias_profit  position_profit  gross_pnl      fee  pnl_net_fee  gross_roi  \\\n",
       "Efficient Large Inactive          279.00     2,717.00 340,534.00 199,413.27     83,564.47        83,296.03        -593.93     2,430.53        11,316.45  13,153.05 2,784.53    10,368.53     0.1579   \n",
       "Efficient Large Active            121.00    10,063.00 854,510.00 353,543.93     57,666.84        56,102.36       4,072.47     2,487.01        -1,442.65   5,116.83 2,107.61     3,009.22     0.0912   \n",
       "Inefficient Large Active          174.00     6,525.00 563,976.00 306,378.28     76,625.14        79,268.36        -148.12      -752.89         4,687.33   3,786.32 2,140.67     1,645.64     0.0478   \n",
       "Efficient Small Active             83.00     1,119.00  18,200.00   6,596.66      1,650.39         1,593.92          56.02        79.72           -33.57     102.18    50.01        52.17     0.0641   \n",
       "Inefficient Small Active          169.00     2,155.00  30,302.00  11,359.56      2,935.44         2,983.92          15.73       -94.80          -565.25    -644.32    66.49      -710.81    -0.2159   \n",
       "Efficient Small Inactive          725.00     2,282.00  54,556.00  18,980.75      9,528.85         9,537.65         -98.82       438.87        -1,657.02  -1,316.97   223.33    -1,540.30    -0.1381   \n",
       "Inefficient Small Inactive      1,714.00     4,624.00 106,016.00  39,596.17     21,944.38        21,962.89        -510.28    -1,147.11        -4,839.66  -6,497.05   426.43    -6,923.48    -0.2958   \n",
       "Inefficient Large Inactive        485.00     4,474.00 674,304.00 335,942.72    162,812.14       162,506.57      -2,793.09    -3,441.33        -7,465.62 -13,700.04 3,919.79   -17,619.83    -0.0843   \n",
       "\n",
       "                            net_roi  take_pct  longshot_pct  antilongshot_pct  \n",
       "Efficient Large Inactive     0.1245    0.6053        0.0436            0.1455  \n",
       "Efficient Large Active       0.0536    0.3436        0.1506            0.0552  \n",
       "Inefficient Large Active     0.0208    0.4937        0.0658            0.0755  \n",
       "Efficient Small Active       0.0327    0.4775        0.1908            0.0465  \n",
       "Inefficient Small Active    -0.2382    0.5219        0.0695            0.0199  \n",
       "Efficient Small Inactive    -0.1615    0.6836        0.1821            0.0511  \n",
       "Inefficient Small Inactive  -0.3152    0.7765        0.0701            0.0481  \n",
       "Inefficient Large Inactive  -0.1084    0.6628        0.0615            0.0783  "
      ]
     },
     "execution_count": 31,
     "metadata": {},
     "output_type": "execute_result"
    }
   ],
   "source": [
    "groups = [\n",
    "    ('Efficient Small Active', 'efficiency >= 0.75 and max_loss <= 50 and max_opened_pos > 1'),\n",
    "    ('Efficient Small Inactive', 'efficiency >= 0.75 and max_loss <= 50 and max_opened_pos == 1'),\n",
    "    ('Efficient Large Active', 'efficiency >= 0.75 and max_loss > 50 and max_opened_pos > 1'),\n",
    "    ('Efficient Large Inactive', 'efficiency >= 0.75 and max_loss > 50 and max_opened_pos == 1'),\n",
    "    ('Inefficient Small Active', 'efficiency < 0.75 and max_loss <= 50 and max_opened_pos > 1'),\n",
    "    ('Inefficient Small Inactive', 'efficiency < 0.75 and max_loss <= 50 and max_opened_pos == 1'),\n",
    "    ('Inefficient Large Active', 'efficiency < 0.75 and max_loss > 50 and max_opened_pos > 1'),\n",
    "    ('Inefficient Large Inactive', 'efficiency < 0.75 and max_loss > 50 and max_opened_pos == 1')\n",
    "]\n",
    "\n",
    "group_summary = make_multi_group_stats(groups).T\n",
    "\n",
    "group_summary.sort_values('pnl_net_fee', ascending=False)"
   ]
  },
  {
   "cell_type": "markdown",
   "metadata": {},
   "source": [
    "# Trader Characterization Consistency\n",
    "\n",
    "Are the traders characterized the same way in both markets? This question only applies for traders that actually traded in both markets, of course.\n",
    "\n",
    "To answer this question we need to save the trader characterizations and compare them to similar data from the GOP Caucus market."
   ]
  },
  {
   "cell_type": "code",
   "execution_count": 32,
   "metadata": {},
   "outputs": [],
   "source": [
    "trader_classifications = DataFrame(index=behavior_analysis.index, columns='category efficiency size activity'.split())\n",
    "\n",
    "for label, condition in groups:\n",
    "    indx = behavior_analysis.query(condition).index\n",
    "    trader_classifications.loc[indx, 'category'] = label\n",
    "    trader_classifications.loc[indx, 'efficiency size activity'.split()] = label.split()"
   ]
  },
  {
   "cell_type": "markdown",
   "metadata": {},
   "source": [
    "The efficiency, size, and activity columns are there to potentially help decompose the traders who are not in the same category."
   ]
  },
  {
   "cell_type": "code",
   "execution_count": 33,
   "metadata": {},
   "outputs": [
    {
     "data": {
      "text/html": [
       "<div>\n",
       "<table border=\"1\" class=\"dataframe\">\n",
       "  <thead>\n",
       "    <tr style=\"text-align: right;\">\n",
       "      <th></th>\n",
       "      <th>category</th>\n",
       "      <th>efficiency</th>\n",
       "      <th>size</th>\n",
       "      <th>activity</th>\n",
       "    </tr>\n",
       "    <tr>\n",
       "      <th>user_guid</th>\n",
       "      <th></th>\n",
       "      <th></th>\n",
       "      <th></th>\n",
       "      <th></th>\n",
       "    </tr>\n",
       "  </thead>\n",
       "  <tbody>\n",
       "    <tr>\n",
       "      <th>0022AC92-4A31-3308-BCB9-D94C6F507A31</th>\n",
       "      <td>Efficient Small Inactive</td>\n",
       "      <td>Efficient</td>\n",
       "      <td>Small</td>\n",
       "      <td>Inactive</td>\n",
       "    </tr>\n",
       "    <tr>\n",
       "      <th>00318BA5-01FC-34A4-A4A1-3523BF5485C6</th>\n",
       "      <td>Inefficient Small Inactive</td>\n",
       "      <td>Inefficient</td>\n",
       "      <td>Small</td>\n",
       "      <td>Inactive</td>\n",
       "    </tr>\n",
       "    <tr>\n",
       "      <th>0034C80D-C854-3C60-8F01-64B48B565AA5</th>\n",
       "      <td>Efficient Small Inactive</td>\n",
       "      <td>Efficient</td>\n",
       "      <td>Small</td>\n",
       "      <td>Inactive</td>\n",
       "    </tr>\n",
       "    <tr>\n",
       "      <th>005E1296-C898-3911-A4C1-0B33FAB05A29</th>\n",
       "      <td>Inefficient Large Active</td>\n",
       "      <td>Inefficient</td>\n",
       "      <td>Large</td>\n",
       "      <td>Active</td>\n",
       "    </tr>\n",
       "    <tr>\n",
       "      <th>005E56D2-76B6-39DA-9199-366D761FE63D</th>\n",
       "      <td>Inefficient Large Inactive</td>\n",
       "      <td>Inefficient</td>\n",
       "      <td>Large</td>\n",
       "      <td>Inactive</td>\n",
       "    </tr>\n",
       "  </tbody>\n",
       "</table>\n",
       "</div>"
      ],
      "text/plain": [
       "                                                        category   efficiency   size  activity\n",
       "user_guid                                                                                     \n",
       "0022AC92-4A31-3308-BCB9-D94C6F507A31    Efficient Small Inactive    Efficient  Small  Inactive\n",
       "00318BA5-01FC-34A4-A4A1-3523BF5485C6  Inefficient Small Inactive  Inefficient  Small  Inactive\n",
       "0034C80D-C854-3C60-8F01-64B48B565AA5    Efficient Small Inactive    Efficient  Small  Inactive\n",
       "005E1296-C898-3911-A4C1-0B33FAB05A29    Inefficient Large Active  Inefficient  Large    Active\n",
       "005E56D2-76B6-39DA-9199-366D761FE63D  Inefficient Large Inactive  Inefficient  Large  Inactive"
      ]
     },
     "execution_count": 33,
     "metadata": {},
     "output_type": "execute_result"
    }
   ],
   "source": [
    "trader_classifications.head()"
   ]
  },
  {
   "cell_type": "code",
   "execution_count": 34,
   "metadata": {},
   "outputs": [],
   "source": [
    "def dump_pickle(data, filename):\n",
    "    with open(os.path.join('data', filename), 'wb') as f:\n",
    "        pickle.dump(data, f)"
   ]
  },
  {
   "cell_type": "markdown",
   "metadata": {},
   "source": [
    "Also saving the trader stats summary so we can look at the correlation of trader PnL between the two markets, potentially by category."
   ]
  },
  {
   "cell_type": "code",
   "execution_count": 35,
   "metadata": {},
   "outputs": [],
   "source": [
    "dump_pickle(trader_classifications, basename + '.trader_classifications.p')\n",
    "dump_pickle(trader_stats_summary, basename + '.trader_stats_summary.p')\n",
    "dump_pickle(group_summary, basename + '.group_summary.p')"
   ]
  },
  {
   "cell_type": "code",
   "execution_count": null,
   "metadata": {},
   "outputs": [],
   "source": []
  }
 ],
 "metadata": {
  "kernelspec": {
   "display_name": "Python 3",
   "language": "python",
   "name": "python3"
  },
  "language_info": {
   "codemirror_mode": {
    "name": "ipython",
    "version": 3
   },
   "file_extension": ".py",
   "mimetype": "text/x-python",
   "name": "python",
   "nbconvert_exporter": "python",
   "pygments_lexer": "ipython3",
   "version": "3.5.2"
  }
 },
 "nbformat": 4,
 "nbformat_minor": 2
}
