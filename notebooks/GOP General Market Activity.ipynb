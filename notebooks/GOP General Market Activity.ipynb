{
 "cells": [
  {
   "cell_type": "markdown",
   "metadata": {},
   "source": [
    "# Republican Caucus General Market Activity\n",
    "\n",
    "This notebook creates Figures 1 and 4 and Table 2."
   ]
  },
  {
   "cell_type": "code",
   "execution_count": 1,
   "metadata": {},
   "outputs": [],
   "source": [
    "import os\n",
    "import sys\n",
    "import re\n",
    "\n",
    "from itertools import *\n",
    "from operator import mul\n",
    "from functools import reduce\n",
    "import pickle\n",
    "\n",
    "import numpy as np\n",
    "import pandas as pd\n",
    "%matplotlib inline\n",
    "import matplotlib as mpl\n",
    "import matplotlib.pyplot as plt\n",
    "\n",
    "idx = pd.IndexSlice\n",
    "\n",
    "from research_tools import storage\n",
    "\n",
    "pd.options.display.float_format = lambda x: '{:,.4f}'.format(x) if abs(x) < 1 else '{:,.2f}'.format(x)"
   ]
  },
  {
   "cell_type": "code",
   "execution_count": 2,
   "metadata": {},
   "outputs": [
    {
     "name": "stdout",
     "output_type": "stream",
     "text": [
      "Reading data from data/gop.orders.p\n",
      "Reading data from data/gop.behavior_analysis.p\n",
      "Reading data from data/gop.trader_analysis.p\n",
      "Reading data from data/gop.reconstructed_quotes.p\n"
     ]
    }
   ],
   "source": [
    "os.chdir('..')\n",
    "\n",
    "basename = 'gop'\n",
    "\n",
    "orders, behavior_analysis, trader_analysis, quotes_dict = storage.retrieve_all(\n",
    "    [basename + '.orders',\n",
    "     basename + '.behavior_analysis',\n",
    "     basename + '.trader_analysis',\n",
    "     basename + '.reconstructed_quotes'])"
   ]
  },
  {
   "cell_type": "markdown",
   "metadata": {},
   "source": [
    "# Plot Prices\n",
    "\n",
    "This chart is for Figure 4."
   ]
  },
  {
   "cell_type": "code",
   "execution_count": 3,
   "metadata": {},
   "outputs": [
    {
     "data": {
      "text/plain": [
       "dict_keys([960, 616, 617, 618, 619, 620, 621, 622, 623, 624, 625, 626, 1229, 959])"
      ]
     },
     "execution_count": 3,
     "metadata": {},
     "output_type": "execute_result"
    }
   ],
   "source": [
    "quotes_dict.keys()"
   ]
  },
  {
   "cell_type": "code",
   "execution_count": 4,
   "metadata": {},
   "outputs": [],
   "source": [
    "contract_names = {960: 'Donald Trump',\n",
    "                  616: 'Jeb Bush',\n",
    "                  617: 'Ben Carson',\n",
    "                  618: 'Chris Christie',\n",
    "                  619: 'Ted Cruz',\n",
    "                  620: 'Huckabee',\n",
    "                  621: 'Jindal',\n",
    "                  622: 'Paul',\n",
    "                  623: 'Perry',\n",
    "                  624: 'Rubio',\n",
    "                  625: 'Santorum',\n",
    "                  626: 'Walker',\n",
    "                  1229: 'Fiorina',\n",
    "                  959: 'Kasich'}\n",
    "\n",
    "contract_names2 = {960: 'Trump',\n",
    "                   616: 'Bush',\n",
    "                   617: 'Carson',\n",
    "                   618: 'Christie',\n",
    "                   619: 'Cruz',\n",
    "                   620: 'Huckabee',\n",
    "                   621: 'Jindal',\n",
    "                   622: 'Paul',\n",
    "                   623: 'Perry',\n",
    "                   624: 'Rubio',\n",
    "                   625: 'Santorum',\n",
    "                   626: 'Walker',\n",
    "                   1229: 'Fiorina',\n",
    "                   959: 'Kasich'}"
   ]
  },
  {
   "cell_type": "code",
   "execution_count": 5,
   "metadata": {},
   "outputs": [],
   "source": [
    "def plot_prices(xlim=None, contracts=None, title=None):\n",
    "    if not contracts:\n",
    "        contracts = quotes_dict.keys()\n",
    "\n",
    "    n = len(contracts)\n",
    "    fig = plt.figure(figsize=(7.5, 1.875 * n))\n",
    "\n",
    "    if title:\n",
    "        plt.suptitle(title)\n",
    "\n",
    "    for i, c_id in enumerate(contracts):\n",
    "        df = quotes_dict[c_id]\n",
    "        df['mid price'] = df[['bid_price', 'ask_price']].mean(axis=1)\n",
    "\n",
    "        ax = plt.subplot(n, 1, i + 1)\n",
    "        df.plot(x='timestamp', y='mid price', ax=ax, c='black', sharex=ax, label=c_id)\n",
    "        plt.ylim([0, 1])\n",
    "        plt.grid(True)\n",
    "        plt.legend([contract_names2[c_id] + ' price'])\n",
    "        \n",
    "        if xlim:\n",
    "            plt.xlim([pd.Timestamp(xlim), pd.Timestamp('2016.02.02 14:00', tz='US/Eastern')])        \n",
    "\n",
    "    plt.xlabel('Date')"
   ]
  },
  {
   "cell_type": "code",
   "execution_count": 6,
   "metadata": {},
   "outputs": [
    {
     "data": {
      "image/png": "[encoded data removed]",
      "text/plain": [
       "<matplotlib.figure.Figure at 0x7fd009a158d0>"
      ]
     },
     "metadata": {
      "needs_background": "light"
     },
     "output_type": "display_data"
    }
   ],
   "source": [
    "font = {'family' : 'Arial',\n",
    "        'weight' : 'bold',\n",
    "        'size'   : 10}\n",
    "\n",
    "mpl.rc('font', **font)\n",
    "\n",
    "plot_prices(contracts=[619, 960], title='Iowa Republican Caucus Prices')\n",
    "\n",
    "plt.tight_layout(rect=(0, 0, 1, 0.98))\n",
    "\n",
    "plt.savefig('charts/rep_caucus_prices.png', dpi=300)"
   ]
  },
  {
   "cell_type": "code",
   "execution_count": 7,
   "metadata": {},
   "outputs": [],
   "source": [
    "trader_analysis['day_of_trade'] = trader_analysis.date_executed.dt.date\n",
    "\n",
    "daily_activity = trader_analysis.groupby('day_of_trade')[['quantity', 'notional']].sum()\n",
    "daily_activity.index = pd.to_datetime(daily_activity.index)\n",
    "daily_activity2 = daily_activity['2016-01-01':]"
   ]
  },
  {
   "cell_type": "code",
   "execution_count": 8,
   "metadata": {},
   "outputs": [
    {
     "data": {
      "image/png": "[encoded data removed]",
      "text/plain": [
       "<matplotlib.figure.Figure at 0x7fd003af8a20>"
      ]
     },
     "metadata": {
      "needs_background": "light"
     },
     "output_type": "display_data"
    }
   ],
   "source": [
    "plt.figure(figsize=(7.5, 3.75))\n",
    "\n",
    "plt.suptitle('Iowa Republican Caucus Market Activity by Shares and Notional Traded')\n",
    "\n",
    "ax1 = plt.subplot(2, 1, 1)\n",
    "daily_activity['quantity'].plot(c='k', ax=ax1, label='Shares Traded')\n",
    "plt.xlabel('Date')\n",
    "plt.ylabel('Total Shares Traded')\n",
    "ax1.get_yaxis().set_major_formatter(\n",
    "    mpl.ticker.FuncFormatter(lambda x, p: format(int(x), ',')))\n",
    "plt.grid(True)\n",
    "\n",
    "ax2 = plt.subplot(2, 1, 2)\n",
    "daily_activity['notional'].plot(c='k', ax=ax2, label='Shares Traded', sharex=ax1)\n",
    "plt.xlabel('Date')\n",
    "plt.ylabel('Total Notional Traded')\n",
    "ax2.get_yaxis().set_major_formatter(\n",
    "    mpl.ticker.FuncFormatter(lambda x, p: format(int(x), ',')))\n",
    "plt.grid(True)"
   ]
  },
  {
   "cell_type": "markdown",
   "metadata": {},
   "source": [
    "# Per-contract Volume Activity\n",
    "\n",
    "This shows the popular contracts. It is Table 2 in the paper."
   ]
  },
  {
   "cell_type": "code",
   "execution_count": 9,
   "metadata": {},
   "outputs": [
    {
     "name": "stdout",
     "output_type": "stream",
     "text": [
      "\\begin{tabular}{lrr}\n",
      "\\toprule\n",
      "{} &  quantity &   notional \\\\\n",
      "\\midrule\n",
      "Trump    &   1504976 & 755,815.48 \\\\\n",
      "Cruz     &   1315862 & 663,317.44 \\\\\n",
      "Paul     &    834450 & 421,771.84 \\\\\n",
      "Rubio    &    957920 & 411,231.44 \\\\\n",
      "Carson   &    685058 & 315,323.40 \\\\\n",
      "Huckabee &    182680 &  76,436.52 \\\\\n",
      "Bush     &    168766 &  67,130.60 \\\\\n",
      "Christie &    101940 &  49,189.62 \\\\\n",
      "Santorum &     78572 &  39,330.02 \\\\\n",
      "Fiorina  &     69442 &  32,976.98 \\\\\n",
      "Kasich   &     59502 &  30,317.42 \\\\\n",
      "Jindal   &     35196 &  16,366.44 \\\\\n",
      "Walker   &     17804 &  10,900.46 \\\\\n",
      "Perry    &      4302 &   2,182.70 \\\\\n",
      "\\bottomrule\n",
      "\\end{tabular}\n",
      "\n"
     ]
    },
    {
     "data": {
      "text/html": [
       "<div>\n",
       "<table border=\"1\" class=\"dataframe\">\n",
       "  <thead>\n",
       "    <tr style=\"text-align: right;\">\n",
       "      <th></th>\n",
       "      <th>quantity</th>\n",
       "      <th>notional</th>\n",
       "    </tr>\n",
       "  </thead>\n",
       "  <tbody>\n",
       "    <tr>\n",
       "      <th>Trump</th>\n",
       "      <td>1504976</td>\n",
       "      <td>755,815.48</td>\n",
       "    </tr>\n",
       "    <tr>\n",
       "      <th>Cruz</th>\n",
       "      <td>1315862</td>\n",
       "      <td>663,317.44</td>\n",
       "    </tr>\n",
       "    <tr>\n",
       "      <th>Paul</th>\n",
       "      <td>834450</td>\n",
       "      <td>421,771.84</td>\n",
       "    </tr>\n",
       "    <tr>\n",
       "      <th>Rubio</th>\n",
       "      <td>957920</td>\n",
       "      <td>411,231.44</td>\n",
       "    </tr>\n",
       "    <tr>\n",
       "      <th>Carson</th>\n",
       "      <td>685058</td>\n",
       "      <td>315,323.40</td>\n",
       "    </tr>\n",
       "    <tr>\n",
       "      <th>Huckabee</th>\n",
       "      <td>182680</td>\n",
       "      <td>76,436.52</td>\n",
       "    </tr>\n",
       "    <tr>\n",
       "      <th>Bush</th>\n",
       "      <td>168766</td>\n",
       "      <td>67,130.60</td>\n",
       "    </tr>\n",
       "    <tr>\n",
       "      <th>Christie</th>\n",
       "      <td>101940</td>\n",
       "      <td>49,189.62</td>\n",
       "    </tr>\n",
       "    <tr>\n",
       "      <th>Santorum</th>\n",
       "      <td>78572</td>\n",
       "      <td>39,330.02</td>\n",
       "    </tr>\n",
       "    <tr>\n",
       "      <th>Fiorina</th>\n",
       "      <td>69442</td>\n",
       "      <td>32,976.98</td>\n",
       "    </tr>\n",
       "    <tr>\n",
       "      <th>Kasich</th>\n",
       "      <td>59502</td>\n",
       "      <td>30,317.42</td>\n",
       "    </tr>\n",
       "    <tr>\n",
       "      <th>Jindal</th>\n",
       "      <td>35196</td>\n",
       "      <td>16,366.44</td>\n",
       "    </tr>\n",
       "    <tr>\n",
       "      <th>Walker</th>\n",
       "      <td>17804</td>\n",
       "      <td>10,900.46</td>\n",
       "    </tr>\n",
       "    <tr>\n",
       "      <th>Perry</th>\n",
       "      <td>4302</td>\n",
       "      <td>2,182.70</td>\n",
       "    </tr>\n",
       "  </tbody>\n",
       "</table>\n",
       "</div>"
      ],
      "text/plain": [
       "          quantity   notional\n",
       "Trump      1504976 755,815.48\n",
       "Cruz       1315862 663,317.44\n",
       "Paul        834450 421,771.84\n",
       "Rubio       957920 411,231.44\n",
       "Carson      685058 315,323.40\n",
       "Huckabee    182680  76,436.52\n",
       "Bush        168766  67,130.60\n",
       "Christie    101940  49,189.62\n",
       "Santorum     78572  39,330.02\n",
       "Fiorina      69442  32,976.98\n",
       "Kasich       59502  30,317.42\n",
       "Jindal       35196  16,366.44\n",
       "Walker       17804  10,900.46\n",
       "Perry         4302   2,182.70"
      ]
     },
     "execution_count": 9,
     "metadata": {},
     "output_type": "execute_result"
    }
   ],
   "source": [
    "out = trader_analysis.groupby('contract_id')[['quantity', 'notional']].sum()\n",
    "out.index = [contract_names2[x] for x in out.index]\n",
    "\n",
    "out.sort_values('notional', ascending=False, inplace=True)\n",
    "\n",
    "print(out.to_latex())\n",
    "out"
   ]
  },
  {
   "cell_type": "markdown",
   "metadata": {},
   "source": [
    "Total market activity and fees"
   ]
  },
  {
   "cell_type": "code",
   "execution_count": 10,
   "metadata": {},
   "outputs": [
    {
     "data": {
      "text/plain": [
       "quantity   6,016,470.00\n",
       "notional   2,892,290.36\n",
       "fee           23,096.63\n",
       "dtype: float64"
      ]
     },
     "execution_count": 10,
     "metadata": {},
     "output_type": "execute_result"
    }
   ],
   "source": [
    "trader_analysis[['quantity', 'notional', 'fee']].sum()"
   ]
  },
  {
   "cell_type": "markdown",
   "metadata": {},
   "source": [
    "By-trader metrics"
   ]
  },
  {
   "cell_type": "code",
   "execution_count": 11,
   "metadata": {},
   "outputs": [
    {
     "data": {
      "text/html": [
       "<div>\n",
       "<table border=\"1\" class=\"dataframe\">\n",
       "  <thead>\n",
       "    <tr style=\"text-align: right;\">\n",
       "      <th></th>\n",
       "      <th>quantity</th>\n",
       "      <th>notional</th>\n",
       "      <th>gross_pnl</th>\n",
       "      <th>fee</th>\n",
       "      <th>pnl_net_fee</th>\n",
       "    </tr>\n",
       "  </thead>\n",
       "  <tbody>\n",
       "    <tr>\n",
       "      <th>count</th>\n",
       "      <td>4,452.00</td>\n",
       "      <td>4,452.00</td>\n",
       "      <td>4,452.00</td>\n",
       "      <td>4,452.00</td>\n",
       "      <td>4,452.00</td>\n",
       "    </tr>\n",
       "    <tr>\n",
       "      <th>mean</th>\n",
       "      <td>1,351.41</td>\n",
       "      <td>649.66</td>\n",
       "      <td>-0.0000</td>\n",
       "      <td>5.19</td>\n",
       "      <td>-5.19</td>\n",
       "    </tr>\n",
       "    <tr>\n",
       "      <th>std</th>\n",
       "      <td>6,610.83</td>\n",
       "      <td>3,407.04</td>\n",
       "      <td>224.30</td>\n",
       "      <td>20.01</td>\n",
       "      <td>211.91</td>\n",
       "    </tr>\n",
       "    <tr>\n",
       "      <th>min</th>\n",
       "      <td>2.00</td>\n",
       "      <td>0.0100</td>\n",
       "      <td>-1,698.95</td>\n",
       "      <td>0.0000</td>\n",
       "      <td>-1,701.32</td>\n",
       "    </tr>\n",
       "    <tr>\n",
       "      <th>25%</th>\n",
       "      <td>28.00</td>\n",
       "      <td>10.05</td>\n",
       "      <td>-10.30</td>\n",
       "      <td>0.0000</td>\n",
       "      <td>-10.54</td>\n",
       "    </tr>\n",
       "    <tr>\n",
       "      <th>50%</th>\n",
       "      <td>100.00</td>\n",
       "      <td>37.50</td>\n",
       "      <td>-0.1400</td>\n",
       "      <td>0.1295</td>\n",
       "      <td>-0.2500</td>\n",
       "    </tr>\n",
       "    <tr>\n",
       "      <th>75%</th>\n",
       "      <td>546.50</td>\n",
       "      <td>197.25</td>\n",
       "      <td>8.86</td>\n",
       "      <td>1.65</td>\n",
       "      <td>7.35</td>\n",
       "    </tr>\n",
       "    <tr>\n",
       "      <th>max</th>\n",
       "      <td>241,090.00</td>\n",
       "      <td>157,704.08</td>\n",
       "      <td>3,202.22</td>\n",
       "      <td>320.22</td>\n",
       "      <td>2,882.00</td>\n",
       "    </tr>\n",
       "  </tbody>\n",
       "</table>\n",
       "</div>"
      ],
      "text/plain": [
       "        quantity   notional  gross_pnl      fee  pnl_net_fee\n",
       "count   4,452.00   4,452.00   4,452.00 4,452.00     4,452.00\n",
       "mean    1,351.41     649.66    -0.0000     5.19        -5.19\n",
       "std     6,610.83   3,407.04     224.30    20.01       211.91\n",
       "min         2.00     0.0100  -1,698.95   0.0000    -1,701.32\n",
       "25%        28.00      10.05     -10.30   0.0000       -10.54\n",
       "50%       100.00      37.50    -0.1400   0.1295      -0.2500\n",
       "75%       546.50     197.25       8.86     1.65         7.35\n",
       "max   241,090.00 157,704.08   3,202.22   320.22     2,882.00"
      ]
     },
     "execution_count": 11,
     "metadata": {},
     "output_type": "execute_result"
    }
   ],
   "source": [
    "trader_analysis.groupby('user_guid')[['quantity', 'notional', 'gross_pnl', 'fee', 'pnl_net_fee']].sum().describe()"
   ]
  },
  {
   "cell_type": "markdown",
   "metadata": {},
   "source": [
    "By-trader metrics"
   ]
  },
  {
   "cell_type": "code",
   "execution_count": 12,
   "metadata": {},
   "outputs": [
    {
     "data": {
      "text/html": [
       "<div>\n",
       "<table border=\"1\" class=\"dataframe\">\n",
       "  <thead>\n",
       "    <tr style=\"text-align: right;\">\n",
       "      <th></th>\n",
       "      <th>max_loss</th>\n",
       "      <th>max_in_pool</th>\n",
       "      <th>pnl</th>\n",
       "    </tr>\n",
       "  </thead>\n",
       "  <tbody>\n",
       "    <tr>\n",
       "      <th>count</th>\n",
       "      <td>4,452.00</td>\n",
       "      <td>4,452.00</td>\n",
       "      <td>4,452.00</td>\n",
       "    </tr>\n",
       "    <tr>\n",
       "      <th>mean</th>\n",
       "      <td>121.19</td>\n",
       "      <td>122.24</td>\n",
       "      <td>-5.19</td>\n",
       "    </tr>\n",
       "    <tr>\n",
       "      <th>std</th>\n",
       "      <td>273.79</td>\n",
       "      <td>278.95</td>\n",
       "      <td>211.91</td>\n",
       "    </tr>\n",
       "    <tr>\n",
       "      <th>min</th>\n",
       "      <td>0.0100</td>\n",
       "      <td>0.0100</td>\n",
       "      <td>-1,701.32</td>\n",
       "    </tr>\n",
       "    <tr>\n",
       "      <th>25%</th>\n",
       "      <td>5.80</td>\n",
       "      <td>5.80</td>\n",
       "      <td>-10.54</td>\n",
       "    </tr>\n",
       "    <tr>\n",
       "      <th>50%</th>\n",
       "      <td>18.19</td>\n",
       "      <td>18.24</td>\n",
       "      <td>-0.2500</td>\n",
       "    </tr>\n",
       "    <tr>\n",
       "      <th>75%</th>\n",
       "      <td>78.42</td>\n",
       "      <td>79.01</td>\n",
       "      <td>7.35</td>\n",
       "    </tr>\n",
       "    <tr>\n",
       "      <th>max</th>\n",
       "      <td>2,618.78</td>\n",
       "      <td>2,334.54</td>\n",
       "      <td>2,882.00</td>\n",
       "    </tr>\n",
       "  </tbody>\n",
       "</table>\n",
       "</div>"
      ],
      "text/plain": [
       "       max_loss  max_in_pool       pnl\n",
       "count  4,452.00     4,452.00  4,452.00\n",
       "mean     121.19       122.24     -5.19\n",
       "std      273.79       278.95    211.91\n",
       "min      0.0100       0.0100 -1,701.32\n",
       "25%        5.80         5.80    -10.54\n",
       "50%       18.19        18.24   -0.2500\n",
       "75%       78.42        79.01      7.35\n",
       "max    2,618.78     2,334.54  2,882.00"
      ]
     },
     "execution_count": 12,
     "metadata": {},
     "output_type": "execute_result"
    }
   ],
   "source": [
    "behavior_analysis[['max_loss', 'max_in_pool', 'pnl']].describe()"
   ]
  },
  {
   "cell_type": "markdown",
   "metadata": {},
   "source": [
    "Total amount of capital risked by traders"
   ]
  },
  {
   "cell_type": "code",
   "execution_count": 13,
   "metadata": {},
   "outputs": [
    {
     "data": {
      "text/plain": [
       "max_loss      539,537.93\n",
       "max_in_pool   544,205.11\n",
       "dtype: float64"
      ]
     },
     "execution_count": 13,
     "metadata": {},
     "output_type": "execute_result"
    }
   ],
   "source": [
    "behavior_analysis[['max_loss', 'max_in_pool']].sum()"
   ]
  },
  {
   "cell_type": "markdown",
   "metadata": {
    "collapsed": true
   },
   "source": [
    "# Sum of midquotes charts\n",
    "\n",
    "This chart is Figure 1."
   ]
  },
  {
   "cell_type": "code",
   "execution_count": 14,
   "metadata": {},
   "outputs": [],
   "source": [
    "def make_interval_quotes(df):\n",
    "    df = df.set_index('timestamp')\n",
    "\n",
    "    start = df.index[0].floor('1Min')\n",
    "    end = df.index[-1].floor('1Min')\n",
    "\n",
    "    timestamp_intervals = pd.date_range(start, end, freq='1Min')\n",
    "\n",
    "    return df[['bid_price', 'ask_price']].apply(lambda x: x.asof(timestamp_intervals)).bfill()\n",
    "\n",
    "def make_quote_panel(quotes):\n",
    "    quotes_intervals = {c_id: make_interval_quotes(df) for c_id, df in quotes.items()}\n",
    "\n",
    "    start = min([df.index[0] for df in quotes_intervals.values()])\n",
    "    end = max([df.index[-1] for df in quotes_intervals.values()])\n",
    "    timestamp_intervals = pd.date_range(start, end, freq='1Min')\n",
    "\n",
    "    panel = Panel({c_id: df.loc[timestamp_intervals].ffill() for c_id, df in quotes_intervals.items()})\n",
    "    \n",
    "    return panel"
   ]
  },
  {
   "cell_type": "code",
   "execution_count": 15,
   "metadata": {},
   "outputs": [],
   "source": [
    "quote_panel = make_quote_panel(quotes_dict)"
   ]
  },
  {
   "cell_type": "code",
   "execution_count": 16,
   "metadata": {},
   "outputs": [
    {
     "data": {
      "image/png": "[encoded data removed]",
      "text/plain": [
       "<matplotlib.figure.Figure at 0x7fd0036b5470>"
      ]
     },
     "metadata": {
      "needs_background": "light"
     },
     "output_type": "display_data"
    }
   ],
   "source": [
    "plt.figure(figsize=(7.5, 3.75))\n",
    "\n",
    "ax1 = plt.gca()\n",
    "\n",
    "quote_panel.mean(axis=2).sum(axis=1).plot(c='k', ax=ax1)\n",
    "plt.title('Iowa Republican Caucus Sum of Midquote Prices')\n",
    "plt.ylim([0.8, 2.5])\n",
    "plt.vlines(x=[pd.Timestamp('2015-12-01')], ymin=0.8, ymax=2.5, linestyles='dashed')\n",
    "plt.text(pd.Timestamp('2015-11-27'), 2.3, 'Start of Margin Linking',\n",
    "         horizontalalignment='right', verticalalignment='center')\n",
    "plt.arrow(x=pd.Timestamp('2015-10-29'), y=2.2, dx=30, dy=-0.1,\n",
    "          length_includes_head=True, head_width=0.1, head_length=7, color='k')\n",
    "plt.grid(True)\n",
    "plt.xlabel('Date')\n",
    "plt.ylabel('Sum of Midquote Prices')\n",
    "\n",
    "plt.tight_layout()\n",
    "\n",
    "plt.savefig('charts/rep_sum_midquotes.png', dpi=300)"
   ]
  },
  {
   "cell_type": "code",
   "execution_count": null,
   "metadata": {},
   "outputs": [],
   "source": []
  },
  {
   "cell_type": "code",
   "execution_count": null,
   "metadata": {},
   "outputs": [],
   "source": []
  },
  {
   "cell_type": "code",
   "execution_count": null,
   "metadata": {},
   "outputs": [],
   "source": []
  }
 ],
 "metadata": {
  "kernelspec": {
   "display_name": "Python 3",
   "language": "python",
   "name": "python3"
  },
  "language_info": {
   "codemirror_mode": {
    "name": "ipython",
    "version": 3
   },
   "file_extension": ".py",
   "mimetype": "text/x-python",
   "name": "python",
   "nbconvert_exporter": "python",
   "pygments_lexer": "ipython3",
   "version": "3.5.2"
  }
 },
 "nbformat": 4,
 "nbformat_minor": 2
}
