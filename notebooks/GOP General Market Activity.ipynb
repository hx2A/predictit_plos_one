{
 "cells": [
  {
   "cell_type": "markdown",
   "metadata": {},
   "source": [
    "# Republican Caucus General Market Activity\n",
    "\n",
    "This notebook creates Figures 1 and 4 and Table 2."
   ]
  },
  {
   "cell_type": "code",
   "execution_count": null,
   "metadata": {},
   "outputs": [],
   "source": [
    "import os\n",
    "import sys\n",
    "import re\n",
    "\n",
    "from itertools import *\n",
    "from operator import mul\n",
    "from functools import reduce\n",
    "import pickle\n",
    "\n",
    "import numpy as np\n",
    "import pandas as pd\n",
    "%matplotlib inline\n",
    "import matplotlib as mpl\n",
    "import matplotlib.pyplot as plt\n",
    "\n",
    "idx = pd.IndexSlice\n",
    "\n",
    "from research_tools import storage\n",
    "\n",
    "pd.options.display.float_format = lambda x: '{:,.4f}'.format(x) if abs(x) < 1 else '{:,.2f}'.format(x)"
   ]
  },
  {
   "cell_type": "code",
   "execution_count": null,
   "metadata": {},
   "outputs": [],
   "source": [
    "os.chdir('..')\n",
    "\n",
    "basename = 'gop'\n",
    "\n",
    "orders, behavior_analysis, trader_analysis, quotes_dict = storage.retrieve_all(\n",
    "    [basename + '.orders',\n",
    "     basename + '.behavior_analysis',\n",
    "     basename + '.trader_analysis',\n",
    "     basename + '.reconstructed_quotes'])"
   ]
  },
  {
   "cell_type": "markdown",
   "metadata": {},
   "source": [
    "# Plot Prices\n",
    "\n",
    "This chart is for Figure 4."
   ]
  },
  {
   "cell_type": "code",
   "execution_count": null,
   "metadata": {},
   "outputs": [],
   "source": [
    "quotes_dict.keys()"
   ]
  },
  {
   "cell_type": "code",
   "execution_count": null,
   "metadata": {},
   "outputs": [],
   "source": [
    "contract_names = {960: 'Donald Trump',\n",
    "                  616: 'Jeb Bush',\n",
    "                  617: 'Ben Carson',\n",
    "                  618: 'Chris Christie',\n",
    "                  619: 'Ted Cruz',\n",
    "                  620: 'Huckabee',\n",
    "                  621: 'Jindal',\n",
    "                  622: 'Paul',\n",
    "                  623: 'Perry',\n",
    "                  624: 'Rubio',\n",
    "                  625: 'Santorum',\n",
    "                  626: 'Walker',\n",
    "                  1229: 'Fiorina',\n",
    "                  959: 'Kasich'}\n",
    "\n",
    "contract_names2 = {960: 'Trump',\n",
    "                   616: 'Bush',\n",
    "                   617: 'Carson',\n",
    "                   618: 'Christie',\n",
    "                   619: 'Cruz',\n",
    "                   620: 'Huckabee',\n",
    "                   621: 'Jindal',\n",
    "                   622: 'Paul',\n",
    "                   623: 'Perry',\n",
    "                   624: 'Rubio',\n",
    "                   625: 'Santorum',\n",
    "                   626: 'Walker',\n",
    "                   1229: 'Fiorina',\n",
    "                   959: 'Kasich'}"
   ]
  },
  {
   "cell_type": "code",
   "execution_count": null,
   "metadata": {},
   "outputs": [],
   "source": [
    "def plot_prices(xlim=None, contracts=None, title=None):\n",
    "    if not contracts:\n",
    "        contracts = quotes_dict.keys()\n",
    "\n",
    "    n = len(contracts)\n",
    "    fig = plt.figure(figsize=(7.5, 1.875 * n))\n",
    "\n",
    "    if title:\n",
    "        plt.suptitle(title)\n",
    "\n",
    "    for i, c_id in enumerate(contracts):\n",
    "        df = quotes_dict[c_id]\n",
    "        df['mid price'] = df[['bid_price', 'ask_price']].mean(axis=1)\n",
    "\n",
    "        ax = plt.subplot(n, 1, i + 1)\n",
    "        df.plot(x='timestamp', y='mid price', ax=ax, c='black', sharex=ax, label=c_id)\n",
    "        plt.ylim([0, 1])\n",
    "        plt.grid(True)\n",
    "        plt.legend([contract_names2[c_id] + ' price'])\n",
    "        \n",
    "        if xlim:\n",
    "            plt.xlim([pd.Timestamp(xlim), pd.Timestamp('2016.02.02 14:00', tz='US/Eastern')])        \n",
    "\n",
    "    plt.xlabel('Date')"
   ]
  },
  {
   "cell_type": "code",
   "execution_count": null,
   "metadata": {},
   "outputs": [],
   "source": [
    "font = {'family' : 'Arial',\n",
    "        'weight' : 'bold',\n",
    "        'size'   : 10}\n",
    "\n",
    "mpl.rc('font', **font)\n",
    "\n",
    "plot_prices(contracts=[619, 960], title='Iowa Republican Caucus Prices')\n",
    "\n",
    "plt.tight_layout(rect=(0, 0, 1, 0.98))\n",
    "\n",
    "plt.savefig('charts/rep_caucus_prices.png', dpi=300)"
   ]
  },
  {
   "cell_type": "code",
   "execution_count": null,
   "metadata": {},
   "outputs": [],
   "source": [
    "trader_analysis['day_of_trade'] = trader_analysis.date_executed.dt.date\n",
    "\n",
    "daily_activity = trader_analysis.groupby('day_of_trade')[['quantity', 'notional']].sum()\n",
    "daily_activity.index = pd.to_datetime(daily_activity.index)\n",
    "daily_activity2 = daily_activity['2016-01-01':]"
   ]
  },
  {
   "cell_type": "code",
   "execution_count": null,
   "metadata": {},
   "outputs": [],
   "source": [
    "plt.figure(figsize=(7.5, 3.75))\n",
    "\n",
    "plt.suptitle('Iowa Republican Caucus Market Activity by Shares and Notional Traded')\n",
    "\n",
    "ax1 = plt.subplot(2, 1, 1)\n",
    "daily_activity['quantity'].plot(c='k', ax=ax1, label='Shares Traded')\n",
    "plt.xlabel('Date')\n",
    "plt.ylabel('Total Shares Traded')\n",
    "ax1.get_yaxis().set_major_formatter(\n",
    "    mpl.ticker.FuncFormatter(lambda x, p: format(int(x), ',')))\n",
    "plt.grid(True)\n",
    "\n",
    "ax2 = plt.subplot(2, 1, 2)\n",
    "daily_activity['notional'].plot(c='k', ax=ax2, label='Shares Traded', sharex=ax1)\n",
    "plt.xlabel('Date')\n",
    "plt.ylabel('Total Notional Traded')\n",
    "ax2.get_yaxis().set_major_formatter(\n",
    "    mpl.ticker.FuncFormatter(lambda x, p: format(int(x), ',')))\n",
    "plt.grid(True)"
   ]
  },
  {
   "cell_type": "markdown",
   "metadata": {},
   "source": [
    "# Per-contract Volume Activity\n",
    "\n",
    "This shows the popular contracts. It is Table 2 in the paper."
   ]
  },
  {
   "cell_type": "code",
   "execution_count": null,
   "metadata": {},
   "outputs": [],
   "source": [
    "out = trader_analysis.groupby('contract_id')[['quantity', 'notional']].sum()\n",
    "out.index = [contract_names2[x] for x in out.index]\n",
    "\n",
    "out.sort_values('notional', ascending=False, inplace=True)\n",
    "\n",
    "print(out.to_latex())\n",
    "out"
   ]
  },
  {
   "cell_type": "markdown",
   "metadata": {},
   "source": [
    "Total market activity and fees"
   ]
  },
  {
   "cell_type": "code",
   "execution_count": null,
   "metadata": {},
   "outputs": [],
   "source": [
    "trader_analysis[['quantity', 'notional', 'fee']].sum()"
   ]
  },
  {
   "cell_type": "markdown",
   "metadata": {},
   "source": [
    "By-trader metrics"
   ]
  },
  {
   "cell_type": "code",
   "execution_count": null,
   "metadata": {},
   "outputs": [],
   "source": [
    "trader_analysis.groupby('user_guid')[['quantity', 'notional', 'gross_pnl', 'fee', 'pnl_net_fee']].sum().describe()"
   ]
  },
  {
   "cell_type": "markdown",
   "metadata": {},
   "source": [
    "By-trader metrics"
   ]
  },
  {
   "cell_type": "code",
   "execution_count": null,
   "metadata": {},
   "outputs": [],
   "source": [
    "behavior_analysis[['max_loss', 'max_in_pool', 'pnl']].describe()"
   ]
  },
  {
   "cell_type": "markdown",
   "metadata": {},
   "source": [
    "Total amount of capital risked by traders"
   ]
  },
  {
   "cell_type": "code",
   "execution_count": null,
   "metadata": {},
   "outputs": [],
   "source": [
    "behavior_analysis[['max_loss', 'max_in_pool']].sum()"
   ]
  },
  {
   "cell_type": "markdown",
   "metadata": {},
   "source": [
    "# Sum of midquotes charts\n",
    "\n",
    "This chart is Figure 1."
   ]
  },
  {
   "cell_type": "code",
   "execution_count": null,
   "metadata": {},
   "outputs": [],
   "source": [
    "def make_interval_quotes(df):\n",
    "    df = df.set_index('timestamp')\n",
    "\n",
    "    start = df.index[0].floor('1Min')\n",
    "    end = df.index[-1].floor('1Min')\n",
    "\n",
    "    timestamp_intervals = pd.date_range(start, end, freq='1Min')\n",
    "\n",
    "    return df[['bid_price', 'ask_price']].apply(lambda x: x.asof(timestamp_intervals)).bfill()\n",
    "\n",
    "def make_quote_panel(quotes):\n",
    "    quotes_intervals = {c_id: make_interval_quotes(df) for c_id, df in quotes.items()}\n",
    "\n",
    "    start = min([df.index[0] for df in quotes_intervals.values()])\n",
    "    end = max([df.index[-1] for df in quotes_intervals.values()])\n",
    "    timestamp_intervals = pd.date_range(start, end, freq='1Min')\n",
    "\n",
    "    panel = Panel({c_id: df.loc[timestamp_intervals].ffill() for c_id, df in quotes_intervals.items()})\n",
    "    \n",
    "    return panel"
   ]
  },
  {
   "cell_type": "code",
   "execution_count": null,
   "metadata": {},
   "outputs": [],
   "source": [
    "quote_panel = make_quote_panel(quotes_dict)"
   ]
  },
  {
   "cell_type": "code",
   "execution_count": null,
   "metadata": {},
   "outputs": [],
   "source": [
    "plt.figure(figsize=(7.5, 3.75))\n",
    "\n",
    "ax1 = plt.gca()\n",
    "\n",
    "quote_panel.mean(axis=2).sum(axis=1).plot(c='k', ax=ax1)\n",
    "plt.title('Iowa Republican Caucus Sum of Midquote Prices')\n",
    "plt.ylim([0.8, 2.5])\n",
    "plt.vlines(x=[pd.Timestamp('2015-12-01')], ymin=0.8, ymax=2.5, linestyles='dashed')\n",
    "plt.text(pd.Timestamp('2015-11-27'), 2.3, 'Start of Margin Linking',\n",
    "         horizontalalignment='right', verticalalignment='center')\n",
    "plt.arrow(x=pd.Timestamp('2015-10-29'), y=2.2, dx=30, dy=-0.1,\n",
    "          length_includes_head=True, head_width=0.1, head_length=7, color='k')\n",
    "plt.grid(True)\n",
    "plt.xlabel('Date')\n",
    "plt.ylabel('Sum of Midquote Prices')\n",
    "\n",
    "plt.tight_layout()\n",
    "\n",
    "plt.savefig('charts/rep_sum_midquotes.png', dpi=300)"
   ]
  },
  {
   "cell_type": "code",
   "execution_count": null,
   "metadata": {},
   "outputs": [],
   "source": []
  },
  {
   "cell_type": "code",
   "execution_count": null,
   "metadata": {},
   "outputs": [],
   "source": []
  },
  {
   "cell_type": "code",
   "execution_count": null,
   "metadata": {},
   "outputs": [],
   "source": []
  }
 ],
 "metadata": {
  "language_info": {
   "name": "python",
   "pygments_lexer": "ipython3"
  }
 },
 "nbformat": 4,
 "nbformat_minor": 2
}
