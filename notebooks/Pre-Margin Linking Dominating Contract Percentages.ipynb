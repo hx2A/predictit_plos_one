{
 "cells": [
  {
   "cell_type": "markdown",
   "metadata": {},
   "source": [
    "# Pre-Margin Linking Dominating Contract Percentages\n",
    "\n",
    "This notebook calculates some of the statistics used in the text associated with Figures 9 and 10."
   ]
  },
  {
   "cell_type": "code",
   "execution_count": 1,
   "metadata": {},
   "outputs": [],
   "source": [
    "import os\n",
    "import sys\n",
    "import re\n",
    "\n",
    "from itertools import *\n",
    "from operator import mul\n",
    "from functools import reduce\n",
    "import pickle\n",
    "\n",
    "import numpy as np\n",
    "import pandas as pd\n",
    "%matplotlib inline\n",
    "import matplotlib as mpl\n",
    "import matplotlib.pyplot as plt\n",
    "from matplotlib.lines import Line2D\n",
    "\n",
    "idx = pd.IndexSlice\n",
    "\n",
    "from research_tools import storage\n",
    "\n",
    "pd.options.display.float_format = lambda x: '{:,.4f}'.format(x) if abs(x) < 1 else '{:,.2f}'.format(x)\n",
    "\n",
    "legend_elements = [\n",
    "    Line2D([0], [0], marker='o', color='w', markerfacecolor='#555555', label='Yes Contracts', markersize=10),\n",
    "    Line2D([0], [0], marker='X', color='w', markerfacecolor='#555555', label='No Contracts', markersize=10)\n",
    "]"
   ]
  },
  {
   "cell_type": "markdown",
   "metadata": {},
   "source": [
    "# Load Data"
   ]
  },
  {
   "cell_type": "code",
   "execution_count": 2,
   "metadata": {},
   "outputs": [
    {
     "name": "stdout",
     "output_type": "stream",
     "text": [
      "Reading data from data/dem.replicating_contracts.p\n",
      "Reading data from data/gop.replicating_contracts.p\n"
     ]
    }
   ],
   "source": [
    "os.chdir('..')\n",
    "\n",
    "basename = 'dem'\n",
    "\n",
    "dem_replicating_contracts, = storage.retrieve_all([basename + '.replicating_contracts'])\n",
    "\n",
    "basename = 'gop'\n",
    "\n",
    "rep_replicating_contracts, = storage.retrieve_all([basename + '.replicating_contracts'])"
   ]
  },
  {
   "cell_type": "code",
   "execution_count": 3,
   "metadata": {},
   "outputs": [
    {
     "data": {
      "text/plain": [
       "dict_keys(['yes contracts no spreads or fees', 'no contracts no spreads or fees', 'yes contracts spreads but no fees', 'no contracts spreads but no fees', 'no contracts spreads and fees', 'yes contracts spreads and fees'])"
      ]
     },
     "execution_count": 3,
     "metadata": {},
     "output_type": "execute_result"
    }
   ],
   "source": [
    "dem_replicating_contracts.keys()"
   ]
  },
  {
   "cell_type": "code",
   "execution_count": 4,
   "metadata": {},
   "outputs": [],
   "source": [
    "dem_trader_analysis1_yes = dem_replicating_contracts['yes contracts no spreads or fees']\n",
    "dem_trader_analysis1_no = dem_replicating_contracts['no contracts no spreads or fees']\n",
    "\n",
    "rep_trader_analysis1_yes = rep_replicating_contracts['yes contracts no spreads or fees']\n",
    "rep_trader_analysis1_no = rep_replicating_contracts['no contracts no spreads or fees']\n",
    "\n",
    "dem_trader_analysis2_yes = dem_replicating_contracts['yes contracts spreads but no fees']\n",
    "dem_trader_analysis2_no = dem_replicating_contracts['no contracts spreads but no fees']\n",
    "\n",
    "rep_trader_analysis2_yes = rep_replicating_contracts['yes contracts spreads but no fees']\n",
    "rep_trader_analysis2_no = rep_replicating_contracts['no contracts spreads but no fees']\n",
    "\n",
    "dem_trader_analysis3_yes = dem_replicating_contracts['yes contracts spreads and fees']\n",
    "dem_trader_analysis3_no = dem_replicating_contracts['no contracts spreads and fees']\n",
    "\n",
    "rep_trader_analysis3_yes = rep_replicating_contracts['yes contracts spreads and fees']\n",
    "rep_trader_analysis3_no = rep_replicating_contracts['no contracts spreads and fees']"
   ]
  },
  {
   "cell_type": "markdown",
   "metadata": {},
   "source": [
    "#  Limits\n",
    "\n",
    "This notebook analyzes price data from the pre-margin linking period.\n",
    "\n",
    "Note that very early in the life of this market, some of the trades took place before any market activity took place for other contracts. These trades cannot be replicated at all because the data needed to do so does not exist."
   ]
  },
  {
   "cell_type": "code",
   "execution_count": 5,
   "metadata": {},
   "outputs": [],
   "source": [
    "rep_margin_linking_cutoff_date = '2015-12-01'\n",
    "dem_margin_linking_cutoff_date = '2015-10-22'\n",
    "\n",
    "replication_share_qty_cutoff = 10"
   ]
  },
  {
   "cell_type": "code",
   "execution_count": 6,
   "metadata": {},
   "outputs": [],
   "source": [
    "# only use trades after the dem margin linking cutoff date\n",
    "dem_trader_analysis3_yes = dem_trader_analysis3_yes[\n",
    "    dem_trader_analysis3_yes.loc[idx[:, ('_trades', 'date_executed')]] <= dem_margin_linking_cutoff_date].copy()\n",
    "dem_trader_analysis3_no = dem_trader_analysis3_no[\n",
    "    dem_trader_analysis3_no.loc[idx[:, ('_trades', 'date_executed')]] <= dem_margin_linking_cutoff_date].copy()\n",
    "\n",
    "# only use trades after the rep margin linking cutoff date\n",
    "rep_trader_analysis3_yes = rep_trader_analysis3_yes[\n",
    "    rep_trader_analysis3_yes.loc[idx[:, ('_trades', 'date_executed')]] <= rep_margin_linking_cutoff_date].copy()\n",
    "rep_trader_analysis3_no = rep_trader_analysis3_no[\n",
    "    rep_trader_analysis3_no.loc[idx[:, ('_trades', 'date_executed')]] <= rep_margin_linking_cutoff_date].copy()"
   ]
  },
  {
   "cell_type": "markdown",
   "metadata": {},
   "source": [
    "# Yes contracts, spreads and fees"
   ]
  },
  {
   "cell_type": "code",
   "execution_count": 7,
   "metadata": {},
   "outputs": [],
   "source": [
    "dem_trader_analysis3_yes[('replication', 'dominated')] = (\n",
    "    dem_trader_analysis3_yes[('_trades', 'price_per_share')] > dem_trader_analysis3_yes[('replication', 'max_loss')]\n",
    ")\n",
    "\n",
    "take_index = dem_trader_analysis3_yes[('_trades', 'take_provide')] == 'T'\n",
    "provide_index = dem_trader_analysis3_yes[('_trades', 'take_provide')] == 'P'\n",
    "dominated = dem_trader_analysis3_yes[('replication', 'dominated')]\n",
    "not_na = ~pd.isnull(dem_trader_analysis3_yes[('replication', 'max_loss')])"
   ]
  },
  {
   "cell_type": "code",
   "execution_count": 8,
   "metadata": {},
   "outputs": [
    {
     "data": {
      "text/plain": [
       "1.0"
      ]
     },
     "execution_count": 8,
     "metadata": {},
     "output_type": "execute_result"
    }
   ],
   "source": [
    "(take_index & dominated & not_na).sum() / (take_index & not_na).sum()"
   ]
  },
  {
   "cell_type": "code",
   "execution_count": 9,
   "metadata": {},
   "outputs": [
    {
     "data": {
      "text/plain": [
       "0.98717948717948723"
      ]
     },
     "execution_count": 9,
     "metadata": {},
     "output_type": "execute_result"
    }
   ],
   "source": [
    "(provide_index & dominated &  not_na).sum() / (provide_index & not_na).sum()"
   ]
  },
  {
   "cell_type": "code",
   "execution_count": 10,
   "metadata": {},
   "outputs": [],
   "source": [
    "rep_trader_analysis3_yes[('replication', 'dominated')] = (\n",
    "    rep_trader_analysis3_yes[('_trades', 'price_per_share')] > rep_trader_analysis3_yes[('replication', 'max_loss')]\n",
    ")\n",
    "\n",
    "take_index = rep_trader_analysis3_yes[('_trades', 'take_provide')] == 'T'\n",
    "provide_index = rep_trader_analysis3_yes[('_trades', 'take_provide')] == 'P'\n",
    "dominated = rep_trader_analysis3_yes[('replication', 'dominated')]\n",
    "not_na = ~pd.isnull(rep_trader_analysis3_yes[('replication', 'max_loss')])"
   ]
  },
  {
   "cell_type": "code",
   "execution_count": 11,
   "metadata": {},
   "outputs": [
    {
     "data": {
      "text/plain": [
       "0.99704579025110784"
      ]
     },
     "execution_count": 11,
     "metadata": {},
     "output_type": "execute_result"
    }
   ],
   "source": [
    "(take_index & dominated & not_na).sum() / (take_index & not_na).sum()"
   ]
  },
  {
   "cell_type": "code",
   "execution_count": 12,
   "metadata": {},
   "outputs": [
    {
     "data": {
      "text/plain": [
       "0.99123287671232874"
      ]
     },
     "execution_count": 12,
     "metadata": {},
     "output_type": "execute_result"
    }
   ],
   "source": [
    "(provide_index & dominated &  not_na).sum() / (provide_index & not_na).sum()"
   ]
  },
  {
   "cell_type": "markdown",
   "metadata": {
    "collapsed": true
   },
   "source": [
    "# No contracts, spreads and fees"
   ]
  },
  {
   "cell_type": "code",
   "execution_count": 13,
   "metadata": {},
   "outputs": [],
   "source": [
    "def get_max_value(d_dict):\n",
    "    try:\n",
    "        d_dict = eval(d_dict)\n",
    "        d_dict.pop('contracts')\n",
    "        return max(d_dict.values())\n",
    "    except:\n",
    "        return np.nan"
   ]
  },
  {
   "cell_type": "code",
   "execution_count": 14,
   "metadata": {},
   "outputs": [],
   "source": [
    "def get_contract_type(d_dict):\n",
    "    try:\n",
    "        d_dict = eval(d_dict)\n",
    "        return d_dict.pop('contracts')\n",
    "    except:\n",
    "        return 'NEITHER'"
   ]
  },
  {
   "cell_type": "code",
   "execution_count": 15,
   "metadata": {},
   "outputs": [],
   "source": [
    "dem_trader_analysis3_no[('replication', 'dominated_yes')] = (\n",
    "    (dem_trader_analysis3_no[('_trades', 'price_per_share')] > dem_trader_analysis3_no[('replication', 'max_loss')]) &\n",
    "    (dem_trader_analysis3_no[('replication', 'd')].apply(get_max_value) < replication_share_qty_cutoff) &\n",
    "    (dem_trader_analysis3_no[('replication', 'd')].apply(get_contract_type) == 'YES')\n",
    ")\n",
    "\n",
    "dem_trader_analysis3_no[('replication', 'dominated_no')] = (\n",
    "    (dem_trader_analysis3_no[('_trades', 'price_per_share')] > dem_trader_analysis3_no[('replication', 'max_loss')]) &\n",
    "    (dem_trader_analysis3_no[('replication', 'd')].apply(get_max_value) < replication_share_qty_cutoff) &\n",
    "    (dem_trader_analysis3_no[('replication', 'd')].apply(get_contract_type) == 'NO')\n",
    ")\n",
    "\n",
    "take_index = dem_trader_analysis3_no[('_trades', 'take_provide')] == 'T'\n",
    "provide_index = dem_trader_analysis3_no[('_trades', 'take_provide')] == 'P'\n",
    "dominated_yes = dem_trader_analysis3_no[('replication', 'dominated_yes')]\n",
    "dominated_no = dem_trader_analysis3_no[('replication', 'dominated_no')]\n",
    "not_na = ~pd.isnull(dem_trader_analysis3_no[('replication', 'max_loss')])"
   ]
  },
  {
   "cell_type": "code",
   "execution_count": 16,
   "metadata": {},
   "outputs": [
    {
     "data": {
      "text/plain": [
       "0.0"
      ]
     },
     "execution_count": 16,
     "metadata": {},
     "output_type": "execute_result"
    }
   ],
   "source": [
    "(take_index & dominated_yes & not_na).sum() / (take_index & not_na).sum()"
   ]
  },
  {
   "cell_type": "code",
   "execution_count": 17,
   "metadata": {},
   "outputs": [
    {
     "data": {
      "text/plain": [
       "0.0"
      ]
     },
     "execution_count": 17,
     "metadata": {},
     "output_type": "execute_result"
    }
   ],
   "source": [
    "(provide_index & dominated_yes & not_na).sum() / (provide_index & not_na).sum()"
   ]
  },
  {
   "cell_type": "code",
   "execution_count": 18,
   "metadata": {},
   "outputs": [
    {
     "data": {
      "text/plain": [
       "0.14316702819956617"
      ]
     },
     "execution_count": 18,
     "metadata": {},
     "output_type": "execute_result"
    }
   ],
   "source": [
    "(take_index & dominated_no & not_na).sum() / (take_index & not_na).sum()"
   ]
  },
  {
   "cell_type": "code",
   "execution_count": 19,
   "metadata": {},
   "outputs": [
    {
     "data": {
      "text/plain": [
       "0.15283842794759825"
      ]
     },
     "execution_count": 19,
     "metadata": {},
     "output_type": "execute_result"
    }
   ],
   "source": [
    "(provide_index & dominated_no & not_na).sum() / (provide_index & not_na).sum()"
   ]
  },
  {
   "cell_type": "code",
   "execution_count": 20,
   "metadata": {},
   "outputs": [],
   "source": [
    "rep_trader_analysis3_no[('replication', 'dominated_yes')] = (\n",
    "    (rep_trader_analysis3_no[('_trades', 'price_per_share')] > rep_trader_analysis3_no[('replication', 'max_loss')]) &\n",
    "    (rep_trader_analysis3_no[('replication', 'd')].apply(get_max_value) < replication_share_qty_cutoff) &\n",
    "    (rep_trader_analysis3_no[('replication', 'd')].apply(get_contract_type) == 'YES')\n",
    ")\n",
    "\n",
    "rep_trader_analysis3_no[('replication', 'dominated_no')] = (\n",
    "    (rep_trader_analysis3_no[('_trades', 'price_per_share')] > rep_trader_analysis3_no[('replication', 'max_loss')]) &\n",
    "    (rep_trader_analysis3_no[('replication', 'd')].apply(get_max_value) < replication_share_qty_cutoff) &\n",
    "    (rep_trader_analysis3_no[('replication', 'd')].apply(get_contract_type) == 'NO')\n",
    ")\n",
    "\n",
    "take_index = rep_trader_analysis3_no[('_trades', 'take_provide')] == 'T'\n",
    "provide_index = rep_trader_analysis3_no[('_trades', 'take_provide')] == 'P'\n",
    "dominated_yes = rep_trader_analysis3_no[('replication', 'dominated_yes')]\n",
    "dominated_no = rep_trader_analysis3_no[('replication', 'dominated_no')]\n",
    "not_na = ~pd.isnull(rep_trader_analysis3_no[('replication', 'max_loss')])"
   ]
  },
  {
   "cell_type": "code",
   "execution_count": 21,
   "metadata": {},
   "outputs": [
    {
     "data": {
      "text/plain": [
       "0.0"
      ]
     },
     "execution_count": 21,
     "metadata": {},
     "output_type": "execute_result"
    }
   ],
   "source": [
    "(take_index & dominated_yes & not_na).sum() / (take_index & not_na).sum()"
   ]
  },
  {
   "cell_type": "code",
   "execution_count": 22,
   "metadata": {},
   "outputs": [
    {
     "data": {
      "text/plain": [
       "0.0"
      ]
     },
     "execution_count": 22,
     "metadata": {},
     "output_type": "execute_result"
    }
   ],
   "source": [
    "(provide_index & dominated_yes & not_na).sum() / (provide_index & not_na).sum()"
   ]
  },
  {
   "cell_type": "code",
   "execution_count": 23,
   "metadata": {},
   "outputs": [
    {
     "data": {
      "text/plain": [
       "0.97906602254428343"
      ]
     },
     "execution_count": 23,
     "metadata": {},
     "output_type": "execute_result"
    }
   ],
   "source": [
    "(take_index & dominated_no & not_na).sum() / (take_index & not_na).sum()"
   ]
  },
  {
   "cell_type": "code",
   "execution_count": 24,
   "metadata": {},
   "outputs": [
    {
     "data": {
      "text/plain": [
       "0.98626817447495962"
      ]
     },
     "execution_count": 24,
     "metadata": {},
     "output_type": "execute_result"
    }
   ],
   "source": [
    "(provide_index & dominated_no & not_na).sum() / (provide_index & not_na).sum()"
   ]
  },
  {
   "cell_type": "code",
   "execution_count": null,
   "metadata": {},
   "outputs": [],
   "source": []
  }
 ],
 "metadata": {
  "kernelspec": {
   "display_name": "Python 3",
   "language": "python",
   "name": "python3"
  },
  "language_info": {
   "codemirror_mode": {
    "name": "ipython",
    "version": 3
   },
   "file_extension": ".py",
   "mimetype": "text/x-python",
   "name": "python",
   "nbconvert_exporter": "python",
   "pygments_lexer": "ipython3",
   "version": "3.5.2"
  }
 },
 "nbformat": 4,
 "nbformat_minor": 2
}
