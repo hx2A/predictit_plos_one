{
 "cells": [
  {
   "cell_type": "markdown",
   "metadata": {},
   "source": [
    "# Republican Caucus Miscellaneous Measurements\n",
    "\n",
    "This notebook contains some miscellaneous calculations added to our paper during the review process. Among other things, it calculates the Holding Times found in Table 5.\n",
    "\n",
    "To run this notebook you'll first need to run the Trader Analysis notebooks first."
   ]
  },
  {
   "cell_type": "code",
   "execution_count": 1,
   "metadata": {},
   "outputs": [],
   "source": [
    "import os\n",
    "import sys\n",
    "import pickle\n",
    "\n",
    "from collections import defaultdict\n",
    "\n",
    "import numpy as np\n",
    "import pandas as pd\n",
    "from pandas import Series\n",
    "\n",
    "from research_tools import storage"
   ]
  },
  {
   "cell_type": "markdown",
   "metadata": {},
   "source": [
    "# Load Data"
   ]
  },
  {
   "cell_type": "code",
   "execution_count": 2,
   "metadata": {},
   "outputs": [
    {
     "name": "stdout",
     "output_type": "stream",
     "text": [
      "Reading data from data/gop.trader_analysis.p\n"
     ]
    }
   ],
   "source": [
    "os.chdir('..')\n",
    "\n",
    "basename = 'gop'\n",
    "\n",
    "trader_analysis, = storage.retrieve_all([basename + '.trader_analysis'])"
   ]
  },
  {
   "cell_type": "code",
   "execution_count": 3,
   "metadata": {},
   "outputs": [
    {
     "data": {
      "text/html": [
       "<div>\n",
       "<table border=\"1\" class=\"dataframe\">\n",
       "  <thead>\n",
       "    <tr style=\"text-align: right;\">\n",
       "      <th></th>\n",
       "      <th></th>\n",
       "      <th>index</th>\n",
       "      <th>seq</th>\n",
       "      <th>market_id</th>\n",
       "      <th>contract_id</th>\n",
       "      <th>date_executed</th>\n",
       "      <th>user_guid</th>\n",
       "      <th>trade_type</th>\n",
       "      <th>price_per_share</th>\n",
       "      <th>quantity</th>\n",
       "      <th>placed_order_id</th>\n",
       "      <th>...</th>\n",
       "      <th>corrected_side</th>\n",
       "      <th>take_provide</th>\n",
       "      <th>notional</th>\n",
       "      <th>buy_sell</th>\n",
       "      <th>cash_flow</th>\n",
       "      <th>yes_no</th>\n",
       "      <th>gross_pnl</th>\n",
       "      <th>fee</th>\n",
       "      <th>pnl_net_fee</th>\n",
       "      <th>close_trade</th>\n",
       "    </tr>\n",
       "    <tr>\n",
       "      <th>contract_id</th>\n",
       "      <th>user_guid</th>\n",
       "      <th></th>\n",
       "      <th></th>\n",
       "      <th></th>\n",
       "      <th></th>\n",
       "      <th></th>\n",
       "      <th></th>\n",
       "      <th></th>\n",
       "      <th></th>\n",
       "      <th></th>\n",
       "      <th></th>\n",
       "      <th></th>\n",
       "      <th></th>\n",
       "      <th></th>\n",
       "      <th></th>\n",
       "      <th></th>\n",
       "      <th></th>\n",
       "      <th></th>\n",
       "      <th></th>\n",
       "      <th></th>\n",
       "      <th></th>\n",
       "      <th></th>\n",
       "    </tr>\n",
       "  </thead>\n",
       "  <tbody>\n",
       "    <tr>\n",
       "      <th rowspan=\"5\" valign=\"top\">616</th>\n",
       "      <th>0026E24F-32BF-386C-A133-9C0061E04278</th>\n",
       "      <td>4712</td>\n",
       "      <td>1442559530907</td>\n",
       "      <td>1327</td>\n",
       "      <td>616</td>\n",
       "      <td>2015-09-18 02:58:50.907000-04:00</td>\n",
       "      <td>0026E24F-32BF-386C-A133-9C0061E04278</td>\n",
       "      <td>Buy Yes</td>\n",
       "      <td>0.19</td>\n",
       "      <td>1</td>\n",
       "      <td>217527</td>\n",
       "      <td>...</td>\n",
       "      <td>1</td>\n",
       "      <td>T</td>\n",
       "      <td>0.19</td>\n",
       "      <td>1</td>\n",
       "      <td>-0.19</td>\n",
       "      <td>Yes</td>\n",
       "      <td>0.00</td>\n",
       "      <td>0.0</td>\n",
       "      <td>0.00</td>\n",
       "      <td>False</td>\n",
       "    </tr>\n",
       "    <tr>\n",
       "      <th>0026E24F-32BF-386C-A133-9C0061E04278</th>\n",
       "      <td>8063</td>\n",
       "      <td>1444379167587</td>\n",
       "      <td>1327</td>\n",
       "      <td>616</td>\n",
       "      <td>2015-10-09 04:26:07.587000-04:00</td>\n",
       "      <td>0026E24F-32BF-386C-A133-9C0061E04278</td>\n",
       "      <td>Sell Yes</td>\n",
       "      <td>0.13</td>\n",
       "      <td>1</td>\n",
       "      <td>301314</td>\n",
       "      <td>...</td>\n",
       "      <td>-1</td>\n",
       "      <td>T</td>\n",
       "      <td>0.13</td>\n",
       "      <td>-1</td>\n",
       "      <td>0.13</td>\n",
       "      <td>Yes</td>\n",
       "      <td>-0.06</td>\n",
       "      <td>0.0</td>\n",
       "      <td>-0.06</td>\n",
       "      <td>False</td>\n",
       "    </tr>\n",
       "    <tr>\n",
       "      <th>0055E87B-7662-3DC4-934F-144884375093</th>\n",
       "      <td>470</td>\n",
       "      <td>1426965643440</td>\n",
       "      <td>1327</td>\n",
       "      <td>616</td>\n",
       "      <td>2015-03-21 15:20:43.440000-04:00</td>\n",
       "      <td>0055E87B-7662-3DC4-934F-144884375093</td>\n",
       "      <td>Buy No</td>\n",
       "      <td>0.79</td>\n",
       "      <td>1</td>\n",
       "      <td>56230</td>\n",
       "      <td>...</td>\n",
       "      <td>-1</td>\n",
       "      <td>T</td>\n",
       "      <td>0.79</td>\n",
       "      <td>1</td>\n",
       "      <td>-0.79</td>\n",
       "      <td>No</td>\n",
       "      <td>0.00</td>\n",
       "      <td>0.0</td>\n",
       "      <td>0.00</td>\n",
       "      <td>False</td>\n",
       "    </tr>\n",
       "    <tr>\n",
       "      <th>0055E87B-7662-3DC4-934F-144884375093</th>\n",
       "      <td>472</td>\n",
       "      <td>1427175738867</td>\n",
       "      <td>1327</td>\n",
       "      <td>616</td>\n",
       "      <td>2015-03-24 01:42:18.867000-04:00</td>\n",
       "      <td>0055E87B-7662-3DC4-934F-144884375093</td>\n",
       "      <td>Buy No</td>\n",
       "      <td>0.81</td>\n",
       "      <td>6</td>\n",
       "      <td>56268</td>\n",
       "      <td>...</td>\n",
       "      <td>-1</td>\n",
       "      <td>T</td>\n",
       "      <td>4.86</td>\n",
       "      <td>1</td>\n",
       "      <td>-4.86</td>\n",
       "      <td>No</td>\n",
       "      <td>0.00</td>\n",
       "      <td>0.0</td>\n",
       "      <td>0.00</td>\n",
       "      <td>False</td>\n",
       "    </tr>\n",
       "    <tr>\n",
       "      <th>0055E87B-7662-3DC4-934F-144884375093</th>\n",
       "      <td>473</td>\n",
       "      <td>1427520569703</td>\n",
       "      <td>1327</td>\n",
       "      <td>616</td>\n",
       "      <td>2015-03-28 01:29:29.703000-04:00</td>\n",
       "      <td>0055E87B-7662-3DC4-934F-144884375093</td>\n",
       "      <td>Buy No</td>\n",
       "      <td>0.84</td>\n",
       "      <td>10</td>\n",
       "      <td>56268</td>\n",
       "      <td>...</td>\n",
       "      <td>-1</td>\n",
       "      <td>P</td>\n",
       "      <td>8.40</td>\n",
       "      <td>1</td>\n",
       "      <td>-8.40</td>\n",
       "      <td>No</td>\n",
       "      <td>0.00</td>\n",
       "      <td>0.0</td>\n",
       "      <td>0.00</td>\n",
       "      <td>False</td>\n",
       "    </tr>\n",
       "  </tbody>\n",
       "</table>\n",
       "<p>5 rows × 22 columns</p>\n",
       "</div>"
      ],
      "text/plain": [
       "                                                  index            seq  market_id  contract_id                    date_executed                             user_guid trade_type  price_per_share  \\\n",
       "contract_id user_guid                                                                                                                                                                               \n",
       "616         0026E24F-32BF-386C-A133-9C0061E04278   4712  1442559530907       1327          616 2015-09-18 02:58:50.907000-04:00  0026E24F-32BF-386C-A133-9C0061E04278    Buy Yes             0.19   \n",
       "            0026E24F-32BF-386C-A133-9C0061E04278   8063  1444379167587       1327          616 2015-10-09 04:26:07.587000-04:00  0026E24F-32BF-386C-A133-9C0061E04278   Sell Yes             0.13   \n",
       "            0055E87B-7662-3DC4-934F-144884375093    470  1426965643440       1327          616 2015-03-21 15:20:43.440000-04:00  0055E87B-7662-3DC4-934F-144884375093     Buy No             0.79   \n",
       "            0055E87B-7662-3DC4-934F-144884375093    472  1427175738867       1327          616 2015-03-24 01:42:18.867000-04:00  0055E87B-7662-3DC4-934F-144884375093     Buy No             0.81   \n",
       "            0055E87B-7662-3DC4-934F-144884375093    473  1427520569703       1327          616 2015-03-28 01:29:29.703000-04:00  0055E87B-7662-3DC4-934F-144884375093     Buy No             0.84   \n",
       "\n",
       "                                                  quantity  placed_order_id     ...       corrected_side  take_provide  notional buy_sell  cash_flow  yes_no  gross_pnl  fee  pnl_net_fee  close_trade  \n",
       "contract_id user_guid                                                           ...                                                                                                                     \n",
       "616         0026E24F-32BF-386C-A133-9C0061E04278         1           217527     ...                    1             T      0.19        1      -0.19     Yes       0.00  0.0         0.00        False  \n",
       "            0026E24F-32BF-386C-A133-9C0061E04278         1           301314     ...                   -1             T      0.13       -1       0.13     Yes      -0.06  0.0        -0.06        False  \n",
       "            0055E87B-7662-3DC4-934F-144884375093         1            56230     ...                   -1             T      0.79        1      -0.79      No       0.00  0.0         0.00        False  \n",
       "            0055E87B-7662-3DC4-934F-144884375093         6            56268     ...                   -1             T      4.86        1      -4.86      No       0.00  0.0         0.00        False  \n",
       "            0055E87B-7662-3DC4-934F-144884375093        10            56268     ...                   -1             P      8.40        1      -8.40      No       0.00  0.0         0.00        False  \n",
       "\n",
       "[5 rows x 22 columns]"
      ]
     },
     "execution_count": 3,
     "metadata": {},
     "output_type": "execute_result"
    }
   ],
   "source": [
    "trader_analysis.head()"
   ]
  },
  {
   "cell_type": "markdown",
   "metadata": {},
   "source": [
    "# Traders with Positions at Market Close\n",
    "\n",
    "How many traders had a position at market close?"
   ]
  },
  {
   "cell_type": "code",
   "execution_count": 4,
   "metadata": {},
   "outputs": [
    {
     "data": {
      "text/plain": [
       "user_guid\n",
       "000DA83C-D191-3726-A4D5-4E56F0CC7F80    True\n",
       "00140D47-5573-38BE-8E79-AA60B9D8563D    True\n",
       "001AE9D0-FC38-3273-9DB1-973C0678E270    True\n",
       "0026E24F-32BF-386C-A133-9C0061E04278    True\n",
       "0055E87B-7662-3DC4-934F-144884375093    True\n",
       "dtype: bool"
      ]
     },
     "execution_count": 4,
     "metadata": {},
     "output_type": "execute_result"
    }
   ],
   "source": [
    "close_traders = trader_analysis.groupby('user_guid').apply(lambda x: x.close_trade.any())\n",
    "\n",
    "close_traders.head()"
   ]
  },
  {
   "cell_type": "code",
   "execution_count": 5,
   "metadata": {},
   "outputs": [
    {
     "data": {
      "text/plain": [
       "0.72304582210242585"
      ]
     },
     "execution_count": 5,
     "metadata": {},
     "output_type": "execute_result"
    }
   ],
   "source": [
    "close_traders.sum() / close_traders.count()"
   ]
  },
  {
   "cell_type": "code",
   "execution_count": 6,
   "metadata": {},
   "outputs": [
    {
     "data": {
      "text/plain": [
       "(3219, 4452)"
      ]
     },
     "execution_count": 6,
     "metadata": {},
     "output_type": "execute_result"
    }
   ],
   "source": [
    "close_traders.sum(), close_traders.count()"
   ]
  },
  {
   "cell_type": "markdown",
   "metadata": {},
   "source": [
    "# Average Holding Time\n",
    "\n",
    "What is the average holding time of positions? And median holding time?"
   ]
  },
  {
   "cell_type": "code",
   "execution_count": 7,
   "metadata": {},
   "outputs": [],
   "source": [
    "holding_times = []\n",
    "position_open_timestamps = defaultdict(list)\n",
    "\n",
    "for trade in trader_analysis.itertuples():\n",
    "    if trade.buy_sell == 1:\n",
    "        position_open_timestamps[(trade.contract_id, trade.user_guid)].extend([trade.seq] * trade.quantity)\n",
    "    elif trade.buy_sell == -1:\n",
    "        oldest_timestamps = position_open_timestamps[(trade.contract_id, trade.user_guid)][:trade.quantity]\n",
    "        for t in oldest_timestamps:\n",
    "            holding_times.append(trade.seq - t)\n",
    "        position_open_timestamps[(trade.contract_id, trade.user_guid)] = (\n",
    "            position_open_timestamps[(trade.contract_id, trade.user_guid)][trade.quantity:]\n",
    "        )\n",
    "\n",
    "holding_times = Series(holding_times)"
   ]
  },
  {
   "cell_type": "code",
   "execution_count": 8,
   "metadata": {},
   "outputs": [
    {
     "data": {
      "text/plain": [
       "Timedelta('16 days 06:10:58.401948')"
      ]
     },
     "execution_count": 8,
     "metadata": {},
     "output_type": "execute_result"
    }
   ],
   "source": [
    "pd.Timedelta(holding_times.mean(), 'ms')"
   ]
  },
  {
   "cell_type": "code",
   "execution_count": 9,
   "metadata": {},
   "outputs": [
    {
     "data": {
      "text/plain": [
       "16.257620392916067"
      ]
     },
     "execution_count": 9,
     "metadata": {},
     "output_type": "execute_result"
    }
   ],
   "source": [
    "holding_times.mean() / (24 * 60 * 60 * 1000)"
   ]
  },
  {
   "cell_type": "code",
   "execution_count": 10,
   "metadata": {},
   "outputs": [
    {
     "data": {
      "text/plain": [
       "Timedelta('4 days 17:37:18.540000')"
      ]
     },
     "execution_count": 10,
     "metadata": {},
     "output_type": "execute_result"
    }
   ],
   "source": [
    "pd.Timedelta(holding_times.quantile(0.5), 'ms')"
   ]
  },
  {
   "cell_type": "code",
   "execution_count": 11,
   "metadata": {},
   "outputs": [
    {
     "data": {
      "text/plain": [
       "4.734242361111111"
      ]
     },
     "execution_count": 11,
     "metadata": {},
     "output_type": "execute_result"
    }
   ],
   "source": [
    "holding_times.quantile(0.5) / (24 * 60 * 60 * 1000)"
   ]
  },
  {
   "cell_type": "markdown",
   "metadata": {},
   "source": [
    "Save the holding times data to a pickle file so we can combine it with the data from the other market."
   ]
  },
  {
   "cell_type": "code",
   "execution_count": 12,
   "metadata": {},
   "outputs": [],
   "source": [
    "with open('data/gop.holding_times.p', 'wb') as f:\n",
    "    pickle.dump(holding_times, f)"
   ]
  },
  {
   "cell_type": "markdown",
   "metadata": {},
   "source": [
    "# Pre-Margin Linking Volume\n",
    "\n",
    "How much volume was during the pre-margin linking period?"
   ]
  },
  {
   "cell_type": "code",
   "execution_count": 13,
   "metadata": {},
   "outputs": [
    {
     "data": {
      "text/plain": [
       "0.08303207694877561"
      ]
     },
     "execution_count": 13,
     "metadata": {},
     "output_type": "execute_result"
    }
   ],
   "source": [
    "rep_margin_linking_cutoff_date = '2015-12-01'\n",
    "pre_margin_linking = trader_analysis.date_executed < rep_margin_linking_cutoff_date\n",
    "\n",
    "trader_analysis[pre_margin_linking].quantity.sum() / trader_analysis.quantity.sum()"
   ]
  },
  {
   "cell_type": "code",
   "execution_count": null,
   "metadata": {},
   "outputs": [],
   "source": []
  }
 ],
 "metadata": {
  "kernelspec": {
   "display_name": "Python 3",
   "language": "python",
   "name": "python3"
  },
  "language_info": {
   "codemirror_mode": {
    "name": "ipython",
    "version": 3
   },
   "file_extension": ".py",
   "mimetype": "text/x-python",
   "name": "python",
   "nbconvert_exporter": "python",
   "pygments_lexer": "ipython3",
   "version": "3.5.2"
  }
 },
 "nbformat": 4,
 "nbformat_minor": 2
}
