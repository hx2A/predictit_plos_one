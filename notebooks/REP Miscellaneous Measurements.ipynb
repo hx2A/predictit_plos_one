{
 "cells": [
  {
   "cell_type": "markdown",
   "metadata": {},
   "source": [
    "# Republican Caucus Miscellaneous Measurements\n",
    "\n",
    "This notebook contains some miscellaneous calculations added to our paper during the review process. Among other things, it calculates the Holding Times found in Table 5.\n",
    "\n",
    "To run this notebook you'll first need to run the Trader Analysis notebooks first."
   ]
  },
  {
   "cell_type": "code",
   "execution_count": null,
   "metadata": {},
   "outputs": [],
   "source": [
    "import os\n",
    "import sys\n",
    "import pickle\n",
    "\n",
    "from collections import defaultdict\n",
    "\n",
    "import numpy as np\n",
    "import pandas as pd\n",
    "from pandas import Series\n",
    "\n",
    "from research_tools import storage"
   ]
  },
  {
   "cell_type": "markdown",
   "metadata": {},
   "source": [
    "# Load Data"
   ]
  },
  {
   "cell_type": "code",
   "execution_count": null,
   "metadata": {},
   "outputs": [],
   "source": [
    "os.chdir('..')\n",
    "\n",
    "basename = 'gop'\n",
    "\n",
    "trader_analysis, = storage.retrieve_all([basename + '.trader_analysis'])"
   ]
  },
  {
   "cell_type": "code",
   "execution_count": null,
   "metadata": {},
   "outputs": [],
   "source": [
    "trader_analysis.head()"
   ]
  },
  {
   "cell_type": "markdown",
   "metadata": {},
   "source": [
    "# Traders with Positions at Market Close\n",
    "\n",
    "How many traders had a position at market close?"
   ]
  },
  {
   "cell_type": "code",
   "execution_count": null,
   "metadata": {},
   "outputs": [],
   "source": [
    "close_traders = trader_analysis.groupby('user_guid').apply(lambda x: x.close_trade.any())\n",
    "\n",
    "close_traders.head()"
   ]
  },
  {
   "cell_type": "code",
   "execution_count": null,
   "metadata": {},
   "outputs": [],
   "source": [
    "close_traders.sum() / close_traders.count()"
   ]
  },
  {
   "cell_type": "code",
   "execution_count": null,
   "metadata": {},
   "outputs": [],
   "source": [
    "close_traders.sum(), close_traders.count()"
   ]
  },
  {
   "cell_type": "markdown",
   "metadata": {},
   "source": [
    "# Average Holding Time\n",
    "\n",
    "What is the average holding time of positions? And median holding time?"
   ]
  },
  {
   "cell_type": "code",
   "execution_count": null,
   "metadata": {},
   "outputs": [],
   "source": [
    "holding_times = []\n",
    "position_open_timestamps = defaultdict(list)\n",
    "\n",
    "for trade in trader_analysis.itertuples():\n",
    "    if trade.buy_sell == 1:\n",
    "        position_open_timestamps[(trade.contract_id, trade.user_guid)].extend([trade.seq] * trade.quantity)\n",
    "    elif trade.buy_sell == -1:\n",
    "        oldest_timestamps = position_open_timestamps[(trade.contract_id, trade.user_guid)][:trade.quantity]\n",
    "        for t in oldest_timestamps:\n",
    "            holding_times.append(trade.seq - t)\n",
    "        position_open_timestamps[(trade.contract_id, trade.user_guid)] = (\n",
    "            position_open_timestamps[(trade.contract_id, trade.user_guid)][trade.quantity:]\n",
    "        )\n",
    "\n",
    "holding_times = Series(holding_times)"
   ]
  },
  {
   "cell_type": "code",
   "execution_count": null,
   "metadata": {},
   "outputs": [],
   "source": [
    "pd.Timedelta(holding_times.mean(), 'ms')"
   ]
  },
  {
   "cell_type": "code",
   "execution_count": null,
   "metadata": {},
   "outputs": [],
   "source": [
    "holding_times.mean() / (24 * 60 * 60 * 1000)"
   ]
  },
  {
   "cell_type": "code",
   "execution_count": null,
   "metadata": {},
   "outputs": [],
   "source": [
    "pd.Timedelta(holding_times.quantile(0.5), 'ms')"
   ]
  },
  {
   "cell_type": "code",
   "execution_count": null,
   "metadata": {},
   "outputs": [],
   "source": [
    "holding_times.quantile(0.5) / (24 * 60 * 60 * 1000)"
   ]
  },
  {
   "cell_type": "markdown",
   "metadata": {},
   "source": [
    "Save the holding times data to a pickle file so we can combine it with the data from the other market."
   ]
  },
  {
   "cell_type": "code",
   "execution_count": null,
   "metadata": {},
   "outputs": [],
   "source": [
    "with open('data/gop.holding_times.p', 'wb') as f:\n",
    "    pickle.dump(holding_times, f)"
   ]
  },
  {
   "cell_type": "markdown",
   "metadata": {},
   "source": [
    "# Pre-Margin Linking Volume\n",
    "\n",
    "How much volume was during the pre-margin linking period?"
   ]
  },
  {
   "cell_type": "code",
   "execution_count": null,
   "metadata": {},
   "outputs": [],
   "source": [
    "rep_margin_linking_cutoff_date = '2015-12-01'\n",
    "pre_margin_linking = trader_analysis.date_executed < rep_margin_linking_cutoff_date\n",
    "\n",
    "trader_analysis[pre_margin_linking].quantity.sum() / trader_analysis.quantity.sum()"
   ]
  },
  {
   "cell_type": "code",
   "execution_count": null,
   "metadata": {},
   "outputs": [],
   "source": []
  }
 ],
 "metadata": {
  "language_info": {
   "name": "python",
   "pygments_lexer": "ipython3"
  }
 },
 "nbformat": 4,
 "nbformat_minor": 2
}
