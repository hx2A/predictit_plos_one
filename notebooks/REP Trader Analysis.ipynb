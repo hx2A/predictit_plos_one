{
 "cells": [
  {
   "cell_type": "markdown",
   "metadata": {},
   "source": [
    "# Republican Caucus Trader Analysis\n",
    "\n",
    "This notebook does some analysis on trader behavior in the Republican Caucus market."
   ]
  },
  {
   "cell_type": "code",
   "execution_count": null,
   "metadata": {},
   "outputs": [],
   "source": [
    "import os\n",
    "import sys\n",
    "import re\n",
    "from collections import defaultdict\n",
    "from functools import lru_cache\n",
    "\n",
    "%matplotlib inline\n",
    "import matplotlib.pyplot as plt\n",
    "import numpy as np\n",
    "import pandas as pd\n",
    "from pandas import Series, DataFrame, Panel\n",
    "\n",
    "idx = pd.IndexSlice\n",
    "\n",
    "from research_tools import storage\n",
    "\n",
    "pd.options.display.float_format = lambda x: '{:,.4f}'.format(x) if abs(x) < 1 else '{:,.2f}'.format(x)"
   ]
  },
  {
   "cell_type": "markdown",
   "metadata": {},
   "source": [
    "# Load Data\n",
    "\n",
    "First, load the data. All of the data is organized in nice, standardized formats."
   ]
  },
  {
   "cell_type": "code",
   "execution_count": null,
   "metadata": {},
   "outputs": [],
   "source": [
    "os.chdir('..')\n",
    "\n",
    "basename = 'gop'\n",
    "\n",
    "orders, behavior_analysis, trader_analysis, quotes_dict = storage.retrieve_all(\n",
    "    [basename + '.orders',\n",
    "     basename + '.behavior_analysis',\n",
    "     basename + '.trader_analysis',\n",
    "     basename + '.reconstructed_quotes'])"
   ]
  },
  {
   "cell_type": "markdown",
   "metadata": {},
   "source": [
    "# Trader Stats Calculations\n",
    "\n",
    "Calculate statistics on the trading results of each trader.\n",
    "\n",
    "We want to know what the spread profits are and the profits resulting from biased prices (prices that sum to more than $1).\n",
    "\n",
    "To do this we first need to join the trade data with our reconstructed quotes.\n",
    "\n",
    "## Join quote data with trade data"
   ]
  },
  {
   "cell_type": "code",
   "execution_count": null,
   "metadata": {},
   "outputs": [],
   "source": [
    "def add_contract_id(df, contract_id):\n",
    "    df = df.drop('timestamp', axis=1).copy()\n",
    "    df['contract_id'] = contract_id\n",
    "    return df\n",
    "\n",
    "quotes = pd.concat([add_contract_id(df, c_id) for c_id, df in quotes_dict.items()]).sort_index()\n",
    "\n",
    "trader_analysis = pd.merge_asof(trader_analysis.sort_values('seq'),\n",
    "                                quotes,\n",
    "                                by='contract_id',\n",
    "                                left_on='seq',\n",
    "                                right_index=True,\n",
    "                                allow_exact_matches=True).sort_index()\n",
    "\n",
    "# joining with bid/ask prices for Close trades doesn't make any sense\n",
    "trader_analysis.loc[trader_analysis['trade_type'] == 'Close', ['bid_price', 'ask_price']] = np.nan\n",
    "\n",
    "trader_analysis['mid_price'] = trader_analysis[['bid_price', 'ask_price']].mean(axis=1)"
   ]
  },
  {
   "cell_type": "markdown",
   "metadata": {},
   "source": [
    "## Calculate Spread Profits\n",
    "\n",
    "Now that we know what the prevailing bid-ask prices are at the time of each trade, we can calculate the spread profits. Provide trades are earning a spread profit and take trades are paying the spread.\n",
    "\n",
    "Close trades are a special trade with the exchange for \\\\$1 or \\\\$0."
   ]
  },
  {
   "cell_type": "code",
   "execution_count": null,
   "metadata": {},
   "outputs": [],
   "source": [
    "trader_analysis['spread_profit'] = trader_analysis.eval(\"corrected_side * quantity * (mid_price - corrected_price)\")\n",
    "\n",
    "# Close trades have no spread profits\n",
    "trader_analysis.loc[trader_analysis['trade_type'] == 'Close', 'spread_profit'] = 0"
   ]
  },
  {
   "cell_type": "markdown",
   "metadata": {},
   "source": [
    "## Calculate Bias Profits\n",
    "\n",
    "To calculate the price biases we must first find the sum of the bid-ask prices. This is the same code used in the other notebooks analyzing the quotes."
   ]
  },
  {
   "cell_type": "code",
   "execution_count": null,
   "metadata": {},
   "outputs": [],
   "source": [
    "def make_interval_quotes(df):\n",
    "    df = df.set_index('timestamp')\n",
    "\n",
    "    start = df.index[0].floor('1Min')\n",
    "    end = df.index[-1].floor('1Min')\n",
    "\n",
    "    timestamp_intervals = pd.date_range(start, end, freq='1Min')\n",
    "\n",
    "    return df[['bid_price', 'ask_price']].apply(lambda x: x.asof(timestamp_intervals)).bfill()\n",
    "\n",
    "def make_quote_panel(quotes):\n",
    "    quotes_intervals = {c_id: make_interval_quotes(df) for c_id, df in quotes.items()}\n",
    "\n",
    "    start = min([df.index[0] for df in quotes_intervals.values()])\n",
    "    end = max([df.index[-1] for df in quotes_intervals.values()])\n",
    "    timestamp_intervals = pd.date_range(start, end, freq='1Min')\n",
    "\n",
    "    panel = Panel({c_id: df.loc[timestamp_intervals].ffill().bfill() for c_id, df in quotes_intervals.items()})\n",
    "    \n",
    "    return panel\n",
    "\n",
    "quotes_panel = make_quote_panel(quotes_dict)\n",
    "quotes_sum = quotes_panel.sum(axis=0)\n",
    "quotes_sum.columns = ['bid_price_sums', 'ask_price_sums']"
   ]
  },
  {
   "cell_type": "markdown",
   "metadata": {},
   "source": [
    "Using `quotes_sum` we can calculate the mid and use it as a normalization factor.\n",
    "\n",
    "Close trades are always at an unbiased price."
   ]
  },
  {
   "cell_type": "code",
   "execution_count": null,
   "metadata": {},
   "outputs": [],
   "source": [
    "quotes_sum['norm_factor'] = quotes_sum.mean(axis=1)\n",
    "\n",
    "quotes_sum['timestamp'] = quotes_sum.index\n",
    "quotes_sum['seq'] = quotes_sum['timestamp'].apply(lambda t: int(int(t.to_datetime64()) / 1e6))\n",
    "\n",
    "price_bias_norm_factor = quotes_sum.set_index('seq')[['norm_factor']]\n",
    "\n",
    "trader_analysis = pd.merge_asof(trader_analysis.sort_values('seq'),\n",
    "                                price_bias_norm_factor,\n",
    "                                left_on='seq',\n",
    "                                right_index=True,\n",
    "                                allow_exact_matches=True).sort_index()\n",
    "\n",
    "trader_analysis['bias_profit'] = trader_analysis.eval(\"corrected_side * quantity * mid_price * (1 / norm_factor - 1)\")\n",
    "\n",
    "# Close trades always at an unbiased price\n",
    "trader_analysis.loc[trader_analysis['trade_type'] == 'Close', 'norm_factor'] = 1\n",
    "trader_analysis.loc[trader_analysis['trade_type'] == 'Close', 'bias_profit'] = 0"
   ]
  },
  {
   "cell_type": "code",
   "execution_count": null,
   "metadata": {},
   "outputs": [],
   "source": [
    "def stats(trades):\n",
    "    out = Series()\n",
    "    \n",
    "    total_nonclose = trades[~trades.close_trade].quantity.sum()\n",
    "    out['take_pct'] = trades.query(\"take_provide == 'T' and not close_trade\").quantity.sum() / total_nonclose\n",
    "    out['longshot_pct'] = trades.query(\"price_per_share <= 0.1 and not close_trade\").quantity.sum() / total_nonclose\n",
    "    out['antilongshot_pct'] = trades.query(\"price_per_share >= 0.9 and not close_trade\").quantity.sum() / total_nonclose\n",
    "\n",
    "    return out\n",
    "\n",
    "df = orders.groupby('user_guid')['order_id'].count().to_frame('orders_sent')\n",
    "df2 = trader_analysis.groupby(['user_guid'])[['quantity', 'notional', 'spread_profit', 'bias_profit',\n",
    "                                              'gross_pnl', 'fee', 'pnl_net_fee']].sum()\n",
    "df3 = trader_analysis.groupby(['user_guid']).apply(stats)\n",
    "\n",
    "trader_stats_summary = df.merge(df2, left_index=True, right_index=True).merge(df3, left_index=True, right_index=True)\n",
    "trader_stats_summary.sort_values('pnl_net_fee', ascending=False, inplace=True)\n",
    "\n",
    "# position profit is the profit on directional price moves\n",
    "# calculate this for trader_stats_summary, not trader_analysis\n",
    "trader_stats_summary['position_profit'] = trader_stats_summary.eval('gross_pnl - spread_profit - bias_profit')\n",
    "\n",
    "trader_stats_summary = trader_stats_summary[['orders_sent', 'quantity', 'notional', 'spread_profit',\n",
    "                                             'bias_profit', 'position_profit', 'gross_pnl', 'fee', 'pnl_net_fee',\n",
    "                                             'take_pct', 'longshot_pct', 'antilongshot_pct']]"
   ]
  },
  {
   "cell_type": "markdown",
   "metadata": {},
   "source": [
    "Here's what that looks like. The DataFrame shows the PnL breakdown for each trader."
   ]
  },
  {
   "cell_type": "code",
   "execution_count": null,
   "metadata": {},
   "outputs": [],
   "source": [
    "trader_stats_summary.head()"
   ]
  },
  {
   "cell_type": "markdown",
   "metadata": {},
   "source": [
    "## Trader Subgroups\n",
    "\n",
    "We can use our behavior analysis to divide the traders into subgroups. The traders had different levels of engagement with the market and different approaches to trading. These choices had a big impact on the resulting profits.\n",
    "\n",
    "Some traders traded efficiently and others were inefficient. If 75% or more of a trader's volume is for trades that were not strictly dominated by another group of trades, the trader is deemed an efficient trader. If not, they are deemed an inefficient trader.\n",
    "\n",
    "Some traders were very active and some were not. If a trader opened and closed a position in the same contract multiple times they are deemed an active trader. If they did not they are deemed an inactive trader.\n",
    "\n",
    "Some traders traded in small sizes and some traded in large sizes. If a trader's max loss was ever more than $50 they are deemed a large trader. If not, they are deemed a small trader.\n",
    "\n",
    "There were 4,452 traders in this market, less than the 5000 trader limit."
   ]
  },
  {
   "cell_type": "markdown",
   "metadata": {},
   "source": [
    "## Efficiency\n",
    "\n",
    "Many traders only made one trade. Those traders will either be 100% efficient or 0% efficient.\n",
    "\n",
    "About one quarter of the traders traded efficiently at least 75% of the time."
   ]
  },
  {
   "cell_type": "code",
   "execution_count": null,
   "metadata": {},
   "outputs": [],
   "source": [
    "(behavior_analysis.efficiency >= 0.75).sum() / len(behavior_analysis)"
   ]
  },
  {
   "cell_type": "code",
   "execution_count": null,
   "metadata": {},
   "outputs": [],
   "source": [
    "behavior_analysis.efficiency.hist(bins=25, figsize=(10, 6))"
   ]
  },
  {
   "cell_type": "markdown",
   "metadata": {},
   "source": [
    "## Activity\n",
    "\n",
    "Again, many traders made only one trade. Obviously those traders only opened 1 position on that one contract.\n",
    "\n",
    "Even for traders that made more than one trade, many did not open and close positions on the same contract multiple times. Only about 15% can be considered active, opening and closing positions on the same contract. The remaining 85% are inactive."
   ]
  },
  {
   "cell_type": "code",
   "execution_count": null,
   "metadata": {},
   "outputs": [],
   "source": [
    "(behavior_analysis.max_opened_pos == 1).sum() / len(behavior_analysis)"
   ]
  },
  {
   "cell_type": "code",
   "execution_count": null,
   "metadata": {},
   "outputs": [],
   "source": [
    "behavior_analysis.max_opened_pos.hist(bins=25, figsize=(10, 6))"
   ]
  },
  {
   "cell_type": "markdown",
   "metadata": {},
   "source": [
    "## Size\n",
    "\n",
    "Most traders traded in small sizes. About 69% never risked more than \\\\$50. About 31% did, with some hitting the risk limit of \\\\$850 per contract."
   ]
  },
  {
   "cell_type": "code",
   "execution_count": null,
   "metadata": {},
   "outputs": [],
   "source": [
    "(behavior_analysis.max_loss > 50).sum() / len(behavior_analysis)"
   ]
  },
  {
   "cell_type": "markdown",
   "metadata": {},
   "source": [
    "The maximum max-loss is over $2600, suggesting that some traders were hitting the risk limit of for 3 candidates. This means they were taking on more risk than they were in the DEM market."
   ]
  },
  {
   "cell_type": "code",
   "execution_count": null,
   "metadata": {},
   "outputs": [],
   "source": [
    "behavior_analysis.max_loss.max()"
   ]
  },
  {
   "cell_type": "code",
   "execution_count": null,
   "metadata": {},
   "outputs": [],
   "source": [
    "behavior_analysis.max_loss.hist(bins=25, figsize=(10, 6))"
   ]
  },
  {
   "cell_type": "markdown",
   "metadata": {},
   "source": [
    "# Trader Group Breakdown\n",
    "\n",
    "Next we analyze the PnL of the traders by dividing by the above three metrics. The goal is to see how profitable their trading activities were. We also decompose the PnL to see where the profits and losses were coming from."
   ]
  },
  {
   "cell_type": "code",
   "execution_count": null,
   "metadata": {},
   "outputs": [],
   "source": [
    "def make_group_stats(group_name, query, per_trader=False):\n",
    "    out = Series()\n",
    "\n",
    "    if query:\n",
    "        group = behavior_analysis.query(query).index\n",
    "    else:\n",
    "        group = behavior_analysis.index\n",
    "    out['trader_count'] = len(group)\n",
    "    out['orders_sent'] = len(orders.set_index('user_guid').loc[group])\n",
    "    out = out.append(trader_analysis.set_index('user_guid').loc[group][['quantity', 'notional', 'spread_profit',\n",
    "                                                                        'bias_profit',\n",
    "                                                                        'gross_pnl', 'fee', 'pnl_net_fee']].sum())\n",
    "    out['position_profit'] = out['gross_pnl'] - out['spread_profit'] - out['bias_profit']\n",
    "    out['sum_max_loss'] = behavior_analysis.loc[group, 'max_loss'].sum()\n",
    "    out['sum_max_in_pool'] = behavior_analysis.loc[group, 'max_in_pool'].sum()\n",
    "    out['gross_roi'] = out['gross_pnl'] / out['sum_max_in_pool']\n",
    "    out['net_roi'] = out['pnl_net_fee'] / out['sum_max_in_pool']\n",
    "\n",
    "    out = out.append(stats(trader_analysis.set_index('user_guid').loc[group]))\n",
    "    \n",
    "    out.name = group_name\n",
    "\n",
    "    if per_trader:\n",
    "        out2 = out / out['trader_count']\n",
    "        out2['trader_count'] = out['trader_count']\n",
    "\n",
    "        return out2[['trader_count', 'orders_sent', 'quantity', 'notional', 'spread_profit', 'bias_profit',\n",
    "               'position_profit', 'gross_pnl', 'fee', 'pnl_net_fee']].to_frame()\n",
    "    else:\n",
    "        return out[['trader_count', 'orders_sent', 'quantity', 'notional',\n",
    "                    'sum_max_loss', 'sum_max_in_pool', 'spread_profit',\n",
    "                    'bias_profit', 'position_profit', 'gross_pnl', 'fee',\n",
    "                    'pnl_net_fee', 'gross_roi', 'net_roi',  'take_pct', 'longshot_pct',\n",
    "                    'antilongshot_pct']].to_frame()\n",
    "\n",
    "def make_multi_group_stats(groups, **args):\n",
    "    return pd.concat([make_group_stats(*g, **args) for g in groups], axis=1)"
   ]
  },
  {
   "cell_type": "markdown",
   "metadata": {},
   "source": [
    "Before looking at the numbers, consider the fact that without fees these markets are zero sum games. This means that gross PnL across all the traders is a zero sum game.\n",
    "\n",
    "Now consider a hypothetical PredictIt market with no fees, spreads, or biased prices (meaning the sum of the Yes contract prices always equals $1). The only way to make money in this market is by being better at predicting future prices, ie, position profits.\n",
    "\n",
    "In such a market imagine that there is a subset of traders that are superior at information analysis and prediction. They would make better trades. Over time they would win more money than they would lose. If this was the case we would see a net flow of cash from traders that are not in this group to traders that are in the group. This net flow of cash would also be *reliable* in that we would see this across markets.\n",
    "\n",
    "Now imagine that all traders are making bets by throwing darts at the wall. In this market there would be no way to reliably segment the market such that we would see a net flow of cash between groups.\n",
    "\n",
    "What we will see below is that there are segments where money is moving from one group to another. In particular, from inefficient traders to efficient traders. And what is even more interesting is *why* that money is flowing between the two groups."
   ]
  },
  {
   "cell_type": "markdown",
   "metadata": {},
   "source": [
    "## Trader Efficiency\n",
    "\n",
    "As one might expect (or hope), as a group the efficient traders were also profitable."
   ]
  },
  {
   "cell_type": "code",
   "execution_count": null,
   "metadata": {},
   "outputs": [],
   "source": [
    "groups = [\n",
    "    ('Everyone', None),\n",
    "    ('Efficient_Traders', 'efficiency >= 0.75'),\n",
    "    ('Inefficient_Traders', 'efficiency < 0.75')\n",
    "]\n",
    "\n",
    "make_multi_group_stats(groups)"
   ]
  },
  {
   "cell_type": "markdown",
   "metadata": {},
   "source": [
    "In this market \\\\$17k flowed from inefficient traders to efficient traders. Why did \\\\$17k flow between these two groups?\n",
    "\n",
    "Only \\\\$5.7k is from position profits. This is 34%. This is one third. Compare this to the ideal market with no spreads or biased prices where position profits are the only way to make money.\n",
    "\n",
    "\\\\$9.2k (55%) is from price biases and the remaining \\\\$1.9k (11%) is from market spreads. More than half is from price biases.\n",
    "\n",
    "Also consider that the efficient traders are grouped together because they didn't trade the strictly dominated contracts but they also had positive position profits, indicating that they were better are processing information. If these two things were uncorrelated the position_profit value here would be closer to zero. It isn't. This suggests that the ability to understand how markets work and trade efficiently is correlated to the ability to pick the right candidates to back.\n",
    "\n",
    "Note I've also added a few more rows to this analysis. The \"sum_max_in_pool\" is the total of the maximum amount of money each trader had in the pool of cash any time during the life of this market. To calculate this we look for the notional exposure minus the accumulated pnl from closed out positions. It shows how big the capital pool is in the zero sum game and is critical for understanding the significance or scale of the numbers for a group. In particular, those two pnl numbers divided by the sum_max_in_pool value give the \"gross_roi\" and \"net_roi\". The efficient traders had a gross ROI of about 11%. For some groups these are rather notable. "
   ]
  },
  {
   "cell_type": "code",
   "execution_count": null,
   "metadata": {},
   "outputs": [],
   "source": [
    "[x / 16912.11 for x in [5770.22, 9225.32, 1916.57]]"
   ]
  },
  {
   "cell_type": "markdown",
   "metadata": {},
   "source": [
    "## Trader Size\n",
    "\n",
    "Next is size. Most traders were small and did not risk more than \\$50. As a group they lost money by paying the spread, trading inefficiently, and picking the wrong candidates."
   ]
  },
  {
   "cell_type": "code",
   "execution_count": null,
   "metadata": {},
   "outputs": [],
   "source": [
    "groups = [\n",
    "    ('Everyone', None),\n",
    "    ('Small_Traders', 'max_loss <= 50'),\n",
    "    ('Large_Traders', 'max_loss > 50')\n",
    "]\n",
    "\n",
    "make_multi_group_stats(groups)"
   ]
  },
  {
   "cell_type": "markdown",
   "metadata": {},
   "source": [
    "Overall there was a negligible net flow of cash from small traders to large traders.\n",
    "\n",
    "The Small Traders gross_roi is -1%. This contrasts with their performance in the DEM market."
   ]
  },
  {
   "cell_type": "markdown",
   "metadata": {},
   "source": [
    "## Trader Activity\n",
    "\n",
    "Finally, trader activity. The active traders were profitable. It seems reasonable that traders who are trading in larger sizes or more frequently would put in the effort to learn how to trade profitably. These traders earned the spread, picked the right candidates and traded efficiently."
   ]
  },
  {
   "cell_type": "code",
   "execution_count": null,
   "metadata": {},
   "outputs": [],
   "source": [
    "groups = [\n",
    "    ('Everyone', None),\n",
    "    ('Active_Traders', 'max_opened_pos > 1'),\n",
    "    ('Inactive_Traders', 'max_opened_pos == 1')\n",
    "]\n",
    "\n",
    "make_multi_group_stats(groups)"
   ]
  },
  {
   "cell_type": "markdown",
   "metadata": {},
   "source": [
    "As one might expect there was a net flow of money from inactive traders to active traders. The net flow was \\$1.5k. The active traders had positive spread and bias profit values but negative position profits."
   ]
  },
  {
   "cell_type": "markdown",
   "metadata": {},
   "source": [
    "# Trader Subgroup Breakdown\n",
    "\n",
    "Next we do the same thing but this time grouping the traders into smaller groups using multiple characteristics at the same time.\n",
    "\n",
    "The following is for half of Table 6."
   ]
  },
  {
   "cell_type": "code",
   "execution_count": null,
   "metadata": {},
   "outputs": [],
   "source": [
    "groups = [\n",
    "    ('Everyone', None),\n",
    "    ('Small_Active', 'max_opened_pos > 1 and max_loss <= 50'),\n",
    "    ('Small_Inactive', 'max_opened_pos == 1 and max_loss <= 50'),\n",
    "    ('Large_Active', 'max_opened_pos > 1 and max_loss > 50'),\n",
    "    ('Large_Inactive', 'max_opened_pos == 1 and max_loss > 50')\n",
    "]\n",
    "\n",
    "make_multi_group_stats(groups).T['trader_count']"
   ]
  },
  {
   "cell_type": "markdown",
   "metadata": {},
   "source": [
    "Now let's look at trading efficiency. How about large and small efficient traders?"
   ]
  },
  {
   "cell_type": "code",
   "execution_count": null,
   "metadata": {},
   "outputs": [],
   "source": [
    "groups = [\n",
    "    ('Everyone', None),\n",
    "    ('Efficient_Traders', 'efficiency >= 0.75'),\n",
    "    ('Efficient_Traders:Small', 'efficiency >= 0.75 and max_loss <= 50'),\n",
    "    ('Efficient_Traders:Large', 'efficiency >= 0.75 and max_loss > 50')\n",
    "]\n",
    "\n",
    "make_multi_group_stats(groups)"
   ]
  },
  {
   "cell_type": "markdown",
   "metadata": {},
   "source": [
    "The small efficient traders had position losses, indicating the backed the wrong candidates. The large and efficient traders earned more than half of their profits from the biased prices, unlike in the DEM market where it came from position profits."
   ]
  },
  {
   "cell_type": "code",
   "execution_count": null,
   "metadata": {},
   "outputs": [],
   "source": [
    "[x / 15969.92 for x in [4623.31, 9080.02, 2266.59]]"
   ]
  },
  {
   "cell_type": "markdown",
   "metadata": {},
   "source": [
    "The inefficient traders did badly regardless of whether or not they traded in large or small sizes."
   ]
  },
  {
   "cell_type": "code",
   "execution_count": null,
   "metadata": {},
   "outputs": [],
   "source": [
    "groups = [\n",
    "    ('Everyone', None),\n",
    "    ('Inefficient_Traders', 'efficiency < 0.75'),\n",
    "    ('Inefficient_Traders:Small', 'efficiency < 0.75 and max_loss <= 50'),\n",
    "    ('Inefficient_Traders:Large', 'efficiency < 0.75 and max_loss > 50')\n",
    "]\n",
    "\n",
    "make_multi_group_stats(groups)"
   ]
  },
  {
   "cell_type": "markdown",
   "metadata": {},
   "source": [
    "The Small and inefficient traders did better in this market than the DEM market. This is pretty good considering they took a lot of longshot bets."
   ]
  },
  {
   "cell_type": "markdown",
   "metadata": {},
   "source": [
    "Now, efficiency and trading activity?"
   ]
  },
  {
   "cell_type": "code",
   "execution_count": null,
   "metadata": {},
   "outputs": [],
   "source": [
    "groups = [\n",
    "    ('Everyone', None),\n",
    "    ('Efficient_Traders', 'efficiency >= 0.75'),\n",
    "    ('Efficient_Traders:Active', 'efficiency >= 0.75 and max_opened_pos > 1'),\n",
    "    ('Efficient_Traders:Inactive', 'efficiency >= 0.75 and max_opened_pos == 1')\n",
    "]\n",
    "\n",
    "make_multi_group_stats(groups)"
   ]
  },
  {
   "cell_type": "markdown",
   "metadata": {},
   "source": [
    "The efficient and active traders were profitable in spite their negative position profits, indicating they picked the wrong candidates. Their spread profits are profitable. This matches my pnl breakdown for IEM. A trader functioning as a market maker will earn the spread but lose money on position profits. The spread profits will exceed the position losses. Also observe the low take percentage.\n",
    "\n",
    "The efficient and inactivate traders were also profitable but interestingly made most of their profits from position profits. They lost money on the spread. These two groups were functioning very differently."
   ]
  },
  {
   "cell_type": "markdown",
   "metadata": {},
   "source": [
    "Now the inefficient traders. How did they do broken down by trading activity?"
   ]
  },
  {
   "cell_type": "code",
   "execution_count": null,
   "metadata": {},
   "outputs": [],
   "source": [
    "groups = [\n",
    "    ('Everyone', None),\n",
    "    ('Inefficient_Traders', 'efficiency < 0.75'),\n",
    "    ('Inefficient_Traders:Active', 'efficiency < 0.75 and max_opened_pos > 1'),\n",
    "    ('Inefficient_Traders:Inactive', 'efficiency < 0.75 and max_opened_pos == 1')\n",
    "]\n",
    "\n",
    "make_multi_group_stats(groups)"
   ]
  },
  {
   "cell_type": "markdown",
   "metadata": {},
   "source": [
    "Unlike the DEM market, the inefficient traders who traded actively had negative positive position profits. However this is small compared to the sum_max_in_pool value (the total capital employed by this group).\n",
    "\n",
    "The inefficient and inactive traders lost money on the spread, price bias and picking the wrong candidates. 59% was from the price bias, unlike the DEM market where it was mostly for position profits."
   ]
  },
  {
   "cell_type": "code",
   "execution_count": null,
   "metadata": {},
   "outputs": [],
   "source": [
    "[x / -16136.79 for x in [-2153.76, -9548.61, -4434.42]]"
   ]
  },
  {
   "cell_type": "markdown",
   "metadata": {},
   "source": [
    "Finally, grouping by all three characteristics at the same time.\n",
    "\n",
    "As the results above would suggest the large and efficient traders made the most money, regardless of if they were active or not.\n",
    "\n",
    "The \"Efficient, Large, Active\" traders had negative position profits and positive spread profits, much like a market maker. They seemed to have been employing a liquidity providing strategy.\n",
    "\n",
    "The only profitable inefficient group are the \"Inefficient, Large, Active\" traders.  They were profitable but only because of their positive position profits."
   ]
  },
  {
   "cell_type": "code",
   "execution_count": null,
   "metadata": {},
   "outputs": [],
   "source": [
    "groups = [\n",
    "    ('Efficient Small Active', 'efficiency >= 0.75 and max_loss <= 50 and max_opened_pos > 1'),\n",
    "    ('Efficient Small Inactive', 'efficiency >= 0.75 and max_loss <= 50 and max_opened_pos == 1'),\n",
    "    ('Efficient Large Active', 'efficiency >= 0.75 and max_loss > 50 and max_opened_pos > 1'),\n",
    "    ('Efficient Large Inactive', 'efficiency >= 0.75 and max_loss > 50 and max_opened_pos == 1'),\n",
    "    ('Inefficient Small Active', 'efficiency < 0.75 and max_loss <= 50 and max_opened_pos > 1'),\n",
    "    ('Inefficient Small Inactive', 'efficiency < 0.75 and max_loss <= 50 and max_opened_pos == 1'),\n",
    "    ('Inefficient Large Active', 'efficiency < 0.75 and max_loss > 50 and max_opened_pos > 1'),\n",
    "    ('Inefficient Large Inactive', 'efficiency < 0.75 and max_loss > 50 and max_opened_pos == 1')\n",
    "]\n",
    "\n",
    "group_summary = make_multi_group_stats(groups).T\n",
    "\n",
    "group_summary.sort_values('pnl_net_fee', ascending=False)"
   ]
  },
  {
   "cell_type": "markdown",
   "metadata": {},
   "source": [
    "# Trader Characterization Consistency\n",
    "\n",
    "Are the traders characterized the same way in both markets? This question only applies for traders that actually traded in both markets, of course.\n",
    "\n",
    "To answer this question we need to save the trader characterizations and compare them to similar data from the DEM Caucus market."
   ]
  },
  {
   "cell_type": "code",
   "execution_count": null,
   "metadata": {},
   "outputs": [],
   "source": [
    "trader_classifications = DataFrame(index=behavior_analysis.index, columns='category efficiency size activity'.split())\n",
    "\n",
    "for label, condition in groups:\n",
    "    indx = behavior_analysis.query(condition).index\n",
    "    trader_classifications.loc[indx, 'category'] = label\n",
    "    trader_classifications.loc[indx, 'efficiency size activity'.split()] = label.split()"
   ]
  },
  {
   "cell_type": "markdown",
   "metadata": {},
   "source": [
    "The efficiency, size, and activity columns are there to potentially help decompose the traders who are not in the same category."
   ]
  },
  {
   "cell_type": "code",
   "execution_count": null,
   "metadata": {},
   "outputs": [],
   "source": [
    "trader_classifications.head()"
   ]
  },
  {
   "cell_type": "code",
   "execution_count": null,
   "metadata": {},
   "outputs": [],
   "source": [
    "def dump_pickle(data, filename):\n",
    "    with open(os.path.join('data', filename), 'wb') as f:\n",
    "        pickle.dump(data, f)"
   ]
  },
  {
   "cell_type": "markdown",
   "metadata": {},
   "source": [
    "Also saving the trader stats summary so we can look at the correlation of trader PnL between the two markets, potentially by category."
   ]
  },
  {
   "cell_type": "code",
   "execution_count": null,
   "metadata": {},
   "outputs": [],
   "source": [
    "dump_pickle(trader_classifications, basename + '.trader_classifications.p')\n",
    "dump_pickle(trader_stats_summary, basename + '.trader_stats_summary.p')\n",
    "dump_pickle(group_summary, basename + '.group_summary.p')"
   ]
  }
 ],
 "metadata": {
  "language_info": {
   "name": "python",
   "pygments_lexer": "ipython3"
  }
 },
 "nbformat": 4,
 "nbformat_minor": 2
}
