{
 "cells": [
  {
   "cell_type": "markdown",
   "metadata": {},
   "source": [
    "# ROI Logistic Regression\n",
    "\n",
    "Do a Logistic Regression of ROI onto the Efficiency, Size, and Activity categories. This is Table 11 in the paper."
   ]
  },
  {
   "cell_type": "code",
   "execution_count": null,
   "metadata": {},
   "outputs": [],
   "source": [
    "import os\n",
    "import sys\n",
    "import re\n",
    "\n",
    "import statsmodels.api as sm\n",
    "\n",
    "from research_tools import storage\n",
    "\n",
    "pd.options.display.float_format = lambda x: '{:,.4f}'.format(x) if abs(x) < 1 else '{:,.2f}'.format(x)"
   ]
  },
  {
   "cell_type": "markdown",
   "metadata": {},
   "source": [
    "# Load Data\n",
    "\n",
    "First load the data we saved at the end of the Trader Analysis notebooks."
   ]
  },
  {
   "cell_type": "code",
   "execution_count": null,
   "metadata": {},
   "outputs": [],
   "source": [
    "def load_pickle(filename):\n",
    "    with open(os.path.join('data', filename), 'rb') as f:\n",
    "        return pickle.load(f)"
   ]
  },
  {
   "cell_type": "code",
   "execution_count": null,
   "metadata": {},
   "outputs": [],
   "source": [
    "os.chdir('..')\n",
    "\n",
    "dem_trader_classifications = load_pickle('dem.trader_classifications.p')\n",
    "dem_trader_stats_summary = load_pickle('dem.trader_stats_summary.p')\n",
    "\n",
    "rep_trader_classifications = load_pickle('gop.trader_classifications.p')\n",
    "rep_trader_stats_summary = load_pickle('gop.trader_stats_summary.p')"
   ]
  },
  {
   "cell_type": "code",
   "execution_count": null,
   "metadata": {},
   "outputs": [],
   "source": [
    "basename = 'dem'\n",
    "\n",
    "dem_behavior_analysis, = storage.retrieve_all([basename + '.behavior_analysis'])\n",
    "\n",
    "basename = 'gop'\n",
    "\n",
    "rep_behavior_analysis, = storage.retrieve_all([basename + '.behavior_analysis'])"
   ]
  },
  {
   "cell_type": "markdown",
   "metadata": {},
   "source": [
    "# What are the median PnL numbers for each market?\n",
    "\n",
    "First, the Democrat market. The median PnL after fees is -0.1950."
   ]
  },
  {
   "cell_type": "code",
   "execution_count": null,
   "metadata": {},
   "outputs": [],
   "source": [
    "dem_trader_stats_summary.pnl_net_fee.describe()"
   ]
  },
  {
   "cell_type": "markdown",
   "metadata": {},
   "source": [
    "The gross PnL (before fees) is about the same. The mean is of course zero as one would expect for a zero sum game. The median is -0.11."
   ]
  },
  {
   "cell_type": "code",
   "execution_count": null,
   "metadata": {},
   "outputs": [],
   "source": [
    "dem_trader_stats_summary.gross_pnl.describe()"
   ]
  },
  {
   "cell_type": "markdown",
   "metadata": {},
   "source": [
    "In the Republican market the mean PnL after fees is -0.25."
   ]
  },
  {
   "cell_type": "code",
   "execution_count": null,
   "metadata": {},
   "outputs": [],
   "source": [
    "rep_trader_stats_summary.pnl_net_fee.describe()"
   ]
  },
  {
   "cell_type": "markdown",
   "metadata": {},
   "source": [
    "The median gross PnL is -0.14."
   ]
  },
  {
   "cell_type": "code",
   "execution_count": null,
   "metadata": {},
   "outputs": [],
   "source": [
    "rep_trader_stats_summary.gross_pnl.describe()"
   ]
  },
  {
   "cell_type": "markdown",
   "metadata": {},
   "source": [
    "# ROI Linear Regression\n",
    "\n",
    "Next, a linear regression relating indicator variables for Efficiency, Size, and Activity with the net ROI percentages."
   ]
  },
  {
   "cell_type": "code",
   "execution_count": null,
   "metadata": {},
   "outputs": [],
   "source": [
    "dem_trader_classifications.head()"
   ]
  },
  {
   "cell_type": "markdown",
   "metadata": {},
   "source": [
    "First we must assemble the data."
   ]
  },
  {
   "cell_type": "code",
   "execution_count": null,
   "metadata": {},
   "outputs": [],
   "source": [
    "def prepare_data(trader_stats_summary, trader_classifications, behavior_analysis):\n",
    "    data = pd.merge(trader_stats_summary[['gross_pnl', 'pnl_net_fee']],\n",
    "                    behavior_analysis[['max_in_pool']],\n",
    "                    how='outer', left_index=True, right_index=True)\n",
    "    \n",
    "    data['efficient'] = (trader_classifications['efficiency'] == 'Efficient').astype('int')\n",
    "    data['size'] = (trader_classifications['size'] == 'Large').astype('int')\n",
    "    data['active'] = (trader_classifications['activity'] == 'Active').astype('int')\n",
    "\n",
    "    data['net_pnl_roi'] = data['pnl_net_fee'] / data['max_in_pool']\n",
    "    data['gross_pnl_roi'] = data['gross_pnl'] / data['max_in_pool']\n",
    "\n",
    "    data.drop(['gross_pnl', 'pnl_net_fee', 'max_in_pool'], inplace=True, axis=1)\n",
    "    \n",
    "    return data\n",
    "\n",
    "dem_data = prepare_data(dem_trader_stats_summary, dem_trader_classifications, dem_behavior_analysis)\n",
    "rep_data = prepare_data(rep_trader_stats_summary, rep_trader_classifications, rep_behavior_analysis)"
   ]
  },
  {
   "cell_type": "markdown",
   "metadata": {},
   "source": [
    "Assembly is easy because Python is awesome.\n",
    "\n",
    "The value 1 is for Efficient traders, Large traders, and Active traders. The value 0 is for Inefficient traders, Small traders, and Inactive traders.\n",
    "\n",
    "We will regress these indicator variables against the Net ROI values. These numbers are normalized by the amount of money each trader put in the pool of the zero-sum game so they are nicely comparable to each other."
   ]
  },
  {
   "cell_type": "code",
   "execution_count": null,
   "metadata": {},
   "outputs": [],
   "source": [
    "dem_data.head()"
   ]
  },
  {
   "cell_type": "code",
   "execution_count": null,
   "metadata": {},
   "outputs": [],
   "source": [
    "rep_data.head()"
   ]
  },
  {
   "cell_type": "markdown",
   "metadata": {},
   "source": [
    "Now perform the linear regression for the Democrat market using the Python stats models library.\n",
    "\n",
    "We see that the F-statistic is very good with a R-squared of 4.3%.\n",
    "\n",
    "The Efficiency, Size, and Active coefficients are 0.1435, 0.1976, and 0.1331 and are all statistically significant at the 0.01 level. The adjusted R^2 is 4.2% and the F-statistic is high.\n",
    "\n",
    "This is a good model."
   ]
  },
  {
   "cell_type": "code",
   "execution_count": null,
   "metadata": {},
   "outputs": [],
   "source": [
    "X = dem_data[['efficient', 'size', 'active']]\n",
    "y = dem_data['net_pnl_roi']\n",
    "\n",
    "X2 = sm.add_constant(X)\n",
    "est = sm.OLS(y, X2)\n",
    "est2 = est.fit()\n",
    "print(est2.summary(alpha=0.01))"
   ]
  },
  {
   "cell_type": "markdown",
   "metadata": {},
   "source": [
    "And now the Republican market.\n",
    "\n",
    "For this data the coefficients are 0.1504, 0.0148, and 0.0989 for Efficiency, Size, and Activity, respectively.\n",
    "\n",
    "At the 0.01 level only the Efficiency variable is significant. At the 0.05 level Efficiency and and Activity are.\n",
    "\n",
    "The adjusted R^2 is much lower."
   ]
  },
  {
   "cell_type": "code",
   "execution_count": null,
   "metadata": {},
   "outputs": [],
   "source": [
    "X = rep_data[['efficient', 'size', 'active']]\n",
    "y = rep_data['net_pnl_roi']\n",
    "\n",
    "X2 = sm.add_constant(X)\n",
    "est = sm.OLS(y, X2)\n",
    "est2 = est.fit()\n",
    "print(est2.summary(alpha=0.01))"
   ]
  },
  {
   "cell_type": "markdown",
   "metadata": {},
   "source": [
    "Results discussed in the paper."
   ]
  },
  {
   "cell_type": "code",
   "execution_count": null,
   "metadata": {},
   "outputs": [],
   "source": []
  }
 ],
 "metadata": {
  "language_info": {
   "name": "python",
   "pygments_lexer": "ipython3"
  }
 },
 "nbformat": 4,
 "nbformat_minor": 2
}
