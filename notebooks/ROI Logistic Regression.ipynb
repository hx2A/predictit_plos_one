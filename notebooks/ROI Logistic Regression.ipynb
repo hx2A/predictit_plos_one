{
 "cells": [
  {
   "cell_type": "markdown",
   "metadata": {},
   "source": [
    "# ROI Logistic Regression\n",
    "\n",
    "Do a Logistic Regression of ROI onto the Efficiency, Size, and Activity categories. This is Table 11 in the paper."
   ]
  },
  {
   "cell_type": "code",
   "execution_count": 1,
   "metadata": {},
   "outputs": [],
   "source": [
    "import os\n",
    "import sys\n",
    "import re\n",
    "\n",
    "import statsmodels.api as sm\n",
    "\n",
    "from research_tools import storage\n",
    "\n",
    "pd.options.display.float_format = lambda x: '{:,.4f}'.format(x) if abs(x) < 1 else '{:,.2f}'.format(x)"
   ]
  },
  {
   "cell_type": "markdown",
   "metadata": {},
   "source": [
    "# Load Data\n",
    "\n",
    "First load the data we saved at the end of the Trader Analysis notebooks."
   ]
  },
  {
   "cell_type": "code",
   "execution_count": 2,
   "metadata": {},
   "outputs": [],
   "source": [
    "def load_pickle(filename):\n",
    "    with open(os.path.join('data', filename), 'rb') as f:\n",
    "        return pickle.load(f)"
   ]
  },
  {
   "cell_type": "code",
   "execution_count": 3,
   "metadata": {},
   "outputs": [],
   "source": [
    "os.chdir('..')\n",
    "\n",
    "dem_trader_classifications = load_pickle('dem.trader_classifications.p')\n",
    "dem_trader_stats_summary = load_pickle('dem.trader_stats_summary.p')\n",
    "\n",
    "rep_trader_classifications = load_pickle('gop.trader_classifications.p')\n",
    "rep_trader_stats_summary = load_pickle('gop.trader_stats_summary.p')"
   ]
  },
  {
   "cell_type": "code",
   "execution_count": 4,
   "metadata": {},
   "outputs": [
    {
     "name": "stdout",
     "output_type": "stream",
     "text": [
      "Reading data from data/dem.behavior_analysis.p\n",
      "Reading data from data/gop.behavior_analysis.p\n"
     ]
    }
   ],
   "source": [
    "basename = 'dem'\n",
    "\n",
    "dem_behavior_analysis, = storage.retrieve_all([basename + '.behavior_analysis'])\n",
    "\n",
    "basename = 'gop'\n",
    "\n",
    "rep_behavior_analysis, = storage.retrieve_all([basename + '.behavior_analysis'])"
   ]
  },
  {
   "cell_type": "markdown",
   "metadata": {},
   "source": [
    "# What are the median PnL numbers for each market?\n",
    "\n",
    "First, the Democrat market. The median PnL after fees is -0.1950."
   ]
  },
  {
   "cell_type": "code",
   "execution_count": 5,
   "metadata": {},
   "outputs": [
    {
     "data": {
      "text/plain": [
       "count    3,750.00\n",
       "mean        -3.13\n",
       "std        162.18\n",
       "min     -1,699.58\n",
       "25%         -9.20\n",
       "50%       -0.1950\n",
       "75%          6.31\n",
       "max      1,187.54\n",
       "Name: pnl_net_fee, dtype: float64"
      ]
     },
     "execution_count": 5,
     "metadata": {},
     "output_type": "execute_result"
    }
   ],
   "source": [
    "dem_trader_stats_summary.pnl_net_fee.describe()"
   ]
  },
  {
   "cell_type": "markdown",
   "metadata": {},
   "source": [
    "The gross PnL (before fees) is about the same. The mean is of course zero as one would expect for a zero sum game. The median is -0.11."
   ]
  },
  {
   "cell_type": "code",
   "execution_count": 6,
   "metadata": {},
   "outputs": [
    {
     "data": {
      "text/plain": [
       "count    3,750.00\n",
       "mean      -0.0000\n",
       "std        168.75\n",
       "min     -1,699.58\n",
       "25%         -9.00\n",
       "50%       -0.1100\n",
       "75%          7.26\n",
       "max      1,319.49\n",
       "Name: gross_pnl, dtype: float64"
      ]
     },
     "execution_count": 6,
     "metadata": {},
     "output_type": "execute_result"
    }
   ],
   "source": [
    "dem_trader_stats_summary.gross_pnl.describe()"
   ]
  },
  {
   "cell_type": "markdown",
   "metadata": {},
   "source": [
    "In the Republican market the mean PnL after fees is -0.25."
   ]
  },
  {
   "cell_type": "code",
   "execution_count": 7,
   "metadata": {},
   "outputs": [
    {
     "data": {
      "text/plain": [
       "count    4,452.00\n",
       "mean        -5.19\n",
       "std        211.91\n",
       "min     -1,701.32\n",
       "25%        -10.54\n",
       "50%       -0.2500\n",
       "75%          7.35\n",
       "max      2,882.00\n",
       "Name: pnl_net_fee, dtype: float64"
      ]
     },
     "execution_count": 7,
     "metadata": {},
     "output_type": "execute_result"
    }
   ],
   "source": [
    "rep_trader_stats_summary.pnl_net_fee.describe()"
   ]
  },
  {
   "cell_type": "markdown",
   "metadata": {},
   "source": [
    "The median gross PnL is -0.14."
   ]
  },
  {
   "cell_type": "code",
   "execution_count": 8,
   "metadata": {},
   "outputs": [
    {
     "data": {
      "text/plain": [
       "count    4,452.00\n",
       "mean      -0.0000\n",
       "std        224.30\n",
       "min     -1,698.95\n",
       "25%        -10.30\n",
       "50%       -0.1400\n",
       "75%          8.86\n",
       "max      3,202.22\n",
       "Name: gross_pnl, dtype: float64"
      ]
     },
     "execution_count": 8,
     "metadata": {},
     "output_type": "execute_result"
    }
   ],
   "source": [
    "rep_trader_stats_summary.gross_pnl.describe()"
   ]
  },
  {
   "cell_type": "markdown",
   "metadata": {},
   "source": [
    "# ROI Linear Regression\n",
    "\n",
    "Next, a linear regression relating indicator variables for Efficiency, Size, and Activity with the net ROI percentages."
   ]
  },
  {
   "cell_type": "code",
   "execution_count": 9,
   "metadata": {},
   "outputs": [
    {
     "data": {
      "text/html": [
       "<div>\n",
       "<table border=\"1\" class=\"dataframe\">\n",
       "  <thead>\n",
       "    <tr style=\"text-align: right;\">\n",
       "      <th></th>\n",
       "      <th>category</th>\n",
       "      <th>efficiency</th>\n",
       "      <th>size</th>\n",
       "      <th>activity</th>\n",
       "    </tr>\n",
       "    <tr>\n",
       "      <th>user_guid</th>\n",
       "      <th></th>\n",
       "      <th></th>\n",
       "      <th></th>\n",
       "      <th></th>\n",
       "    </tr>\n",
       "  </thead>\n",
       "  <tbody>\n",
       "    <tr>\n",
       "      <th>0022AC92-4A31-3308-BCB9-D94C6F507A31</th>\n",
       "      <td>Efficient Small Inactive</td>\n",
       "      <td>Efficient</td>\n",
       "      <td>Small</td>\n",
       "      <td>Inactive</td>\n",
       "    </tr>\n",
       "    <tr>\n",
       "      <th>00318BA5-01FC-34A4-A4A1-3523BF5485C6</th>\n",
       "      <td>Inefficient Small Inactive</td>\n",
       "      <td>Inefficient</td>\n",
       "      <td>Small</td>\n",
       "      <td>Inactive</td>\n",
       "    </tr>\n",
       "    <tr>\n",
       "      <th>0034C80D-C854-3C60-8F01-64B48B565AA5</th>\n",
       "      <td>Efficient Small Inactive</td>\n",
       "      <td>Efficient</td>\n",
       "      <td>Small</td>\n",
       "      <td>Inactive</td>\n",
       "    </tr>\n",
       "    <tr>\n",
       "      <th>005E1296-C898-3911-A4C1-0B33FAB05A29</th>\n",
       "      <td>Inefficient Large Active</td>\n",
       "      <td>Inefficient</td>\n",
       "      <td>Large</td>\n",
       "      <td>Active</td>\n",
       "    </tr>\n",
       "    <tr>\n",
       "      <th>005E56D2-76B6-39DA-9199-366D761FE63D</th>\n",
       "      <td>Inefficient Large Inactive</td>\n",
       "      <td>Inefficient</td>\n",
       "      <td>Large</td>\n",
       "      <td>Inactive</td>\n",
       "    </tr>\n",
       "  </tbody>\n",
       "</table>\n",
       "</div>"
      ],
      "text/plain": [
       "                                                        category   efficiency   size  activity\n",
       "user_guid                                                                                     \n",
       "0022AC92-4A31-3308-BCB9-D94C6F507A31    Efficient Small Inactive    Efficient  Small  Inactive\n",
       "00318BA5-01FC-34A4-A4A1-3523BF5485C6  Inefficient Small Inactive  Inefficient  Small  Inactive\n",
       "0034C80D-C854-3C60-8F01-64B48B565AA5    Efficient Small Inactive    Efficient  Small  Inactive\n",
       "005E1296-C898-3911-A4C1-0B33FAB05A29    Inefficient Large Active  Inefficient  Large    Active\n",
       "005E56D2-76B6-39DA-9199-366D761FE63D  Inefficient Large Inactive  Inefficient  Large  Inactive"
      ]
     },
     "execution_count": 9,
     "metadata": {},
     "output_type": "execute_result"
    }
   ],
   "source": [
    "dem_trader_classifications.head()"
   ]
  },
  {
   "cell_type": "markdown",
   "metadata": {},
   "source": [
    "First we must assemble the data."
   ]
  },
  {
   "cell_type": "code",
   "execution_count": 10,
   "metadata": {},
   "outputs": [],
   "source": [
    "def prepare_data(trader_stats_summary, trader_classifications, behavior_analysis):\n",
    "    data = pd.merge(trader_stats_summary[['gross_pnl', 'pnl_net_fee']],\n",
    "                    behavior_analysis[['max_in_pool']],\n",
    "                    how='outer', left_index=True, right_index=True)\n",
    "    \n",
    "    data['efficient'] = (trader_classifications['efficiency'] == 'Efficient').astype('int')\n",
    "    data['size'] = (trader_classifications['size'] == 'Large').astype('int')\n",
    "    data['active'] = (trader_classifications['activity'] == 'Active').astype('int')\n",
    "\n",
    "    data['net_pnl_roi'] = data['pnl_net_fee'] / data['max_in_pool']\n",
    "    data['gross_pnl_roi'] = data['gross_pnl'] / data['max_in_pool']\n",
    "\n",
    "    data.drop(['gross_pnl', 'pnl_net_fee', 'max_in_pool'], inplace=True, axis=1)\n",
    "    \n",
    "    return data\n",
    "\n",
    "dem_data = prepare_data(dem_trader_stats_summary, dem_trader_classifications, dem_behavior_analysis)\n",
    "rep_data = prepare_data(rep_trader_stats_summary, rep_trader_classifications, rep_behavior_analysis)"
   ]
  },
  {
   "cell_type": "markdown",
   "metadata": {
    "collapsed": true
   },
   "source": [
    "Assembly is easy because Python is awesome.\n",
    "\n",
    "The value 1 is for Efficient traders, Large traders, and Active traders. The value 0 is for Inefficient traders, Small traders, and Inactive traders.\n",
    "\n",
    "We will regress these indicator variables against the Net ROI values. These numbers are normalized by the amount of money each trader put in the pool of the zero-sum game so they are nicely comparable to each other."
   ]
  },
  {
   "cell_type": "code",
   "execution_count": 11,
   "metadata": {},
   "outputs": [
    {
     "data": {
      "text/html": [
       "<div>\n",
       "<table border=\"1\" class=\"dataframe\">\n",
       "  <thead>\n",
       "    <tr style=\"text-align: right;\">\n",
       "      <th></th>\n",
       "      <th>efficient</th>\n",
       "      <th>size</th>\n",
       "      <th>active</th>\n",
       "      <th>net_pnl_roi</th>\n",
       "      <th>gross_pnl_roi</th>\n",
       "    </tr>\n",
       "    <tr>\n",
       "      <th>user_guid</th>\n",
       "      <th></th>\n",
       "      <th></th>\n",
       "      <th></th>\n",
       "      <th></th>\n",
       "      <th></th>\n",
       "    </tr>\n",
       "  </thead>\n",
       "  <tbody>\n",
       "    <tr>\n",
       "      <th>0022AC92-4A31-3308-BCB9-D94C6F507A31</th>\n",
       "      <td>1</td>\n",
       "      <td>0</td>\n",
       "      <td>0</td>\n",
       "      <td>0.0240</td>\n",
       "      <td>0.0267</td>\n",
       "    </tr>\n",
       "    <tr>\n",
       "      <th>00318BA5-01FC-34A4-A4A1-3523BF5485C6</th>\n",
       "      <td>0</td>\n",
       "      <td>0</td>\n",
       "      <td>0</td>\n",
       "      <td>-1.00</td>\n",
       "      <td>-1.00</td>\n",
       "    </tr>\n",
       "    <tr>\n",
       "      <th>0034C80D-C854-3C60-8F01-64B48B565AA5</th>\n",
       "      <td>1</td>\n",
       "      <td>0</td>\n",
       "      <td>0</td>\n",
       "      <td>-1.00</td>\n",
       "      <td>-1.00</td>\n",
       "    </tr>\n",
       "    <tr>\n",
       "      <th>005E1296-C898-3911-A4C1-0B33FAB05A29</th>\n",
       "      <td>0</td>\n",
       "      <td>1</td>\n",
       "      <td>1</td>\n",
       "      <td>0.4829</td>\n",
       "      <td>0.5423</td>\n",
       "    </tr>\n",
       "    <tr>\n",
       "      <th>005E56D2-76B6-39DA-9199-366D761FE63D</th>\n",
       "      <td>0</td>\n",
       "      <td>1</td>\n",
       "      <td>0</td>\n",
       "      <td>0.5795</td>\n",
       "      <td>0.6438</td>\n",
       "    </tr>\n",
       "  </tbody>\n",
       "</table>\n",
       "</div>"
      ],
      "text/plain": [
       "                                      efficient  size  active  net_pnl_roi  gross_pnl_roi\n",
       "user_guid                                                                                \n",
       "0022AC92-4A31-3308-BCB9-D94C6F507A31          1     0       0       0.0240         0.0267\n",
       "00318BA5-01FC-34A4-A4A1-3523BF5485C6          0     0       0        -1.00          -1.00\n",
       "0034C80D-C854-3C60-8F01-64B48B565AA5          1     0       0        -1.00          -1.00\n",
       "005E1296-C898-3911-A4C1-0B33FAB05A29          0     1       1       0.4829         0.5423\n",
       "005E56D2-76B6-39DA-9199-366D761FE63D          0     1       0       0.5795         0.6438"
      ]
     },
     "execution_count": 11,
     "metadata": {},
     "output_type": "execute_result"
    }
   ],
   "source": [
    "dem_data.head()"
   ]
  },
  {
   "cell_type": "code",
   "execution_count": 12,
   "metadata": {},
   "outputs": [
    {
     "data": {
      "text/html": [
       "<div>\n",
       "<table border=\"1\" class=\"dataframe\">\n",
       "  <thead>\n",
       "    <tr style=\"text-align: right;\">\n",
       "      <th></th>\n",
       "      <th>efficient</th>\n",
       "      <th>size</th>\n",
       "      <th>active</th>\n",
       "      <th>net_pnl_roi</th>\n",
       "      <th>gross_pnl_roi</th>\n",
       "    </tr>\n",
       "    <tr>\n",
       "      <th>user_guid</th>\n",
       "      <th></th>\n",
       "      <th></th>\n",
       "      <th></th>\n",
       "      <th></th>\n",
       "      <th></th>\n",
       "    </tr>\n",
       "  </thead>\n",
       "  <tbody>\n",
       "    <tr>\n",
       "      <th>000DA83C-D191-3726-A4D5-4E56F0CC7F80</th>\n",
       "      <td>0</td>\n",
       "      <td>1</td>\n",
       "      <td>1</td>\n",
       "      <td>-1.00</td>\n",
       "      <td>-0.9997</td>\n",
       "    </tr>\n",
       "    <tr>\n",
       "      <th>00140D47-5573-38BE-8E79-AA60B9D8563D</th>\n",
       "      <td>0</td>\n",
       "      <td>0</td>\n",
       "      <td>0</td>\n",
       "      <td>-1.00</td>\n",
       "      <td>-1.00</td>\n",
       "    </tr>\n",
       "    <tr>\n",
       "      <th>001AE9D0-FC38-3273-9DB1-973C0678E270</th>\n",
       "      <td>0</td>\n",
       "      <td>0</td>\n",
       "      <td>0</td>\n",
       "      <td>-1.0000</td>\n",
       "      <td>-1.0000</td>\n",
       "    </tr>\n",
       "    <tr>\n",
       "      <th>0026E24F-32BF-386C-A133-9C0061E04278</th>\n",
       "      <td>1</td>\n",
       "      <td>0</td>\n",
       "      <td>0</td>\n",
       "      <td>-0.3525</td>\n",
       "      <td>-0.3525</td>\n",
       "    </tr>\n",
       "    <tr>\n",
       "      <th>0055E87B-7662-3DC4-934F-144884375093</th>\n",
       "      <td>1</td>\n",
       "      <td>1</td>\n",
       "      <td>0</td>\n",
       "      <td>-0.1602</td>\n",
       "      <td>-0.1509</td>\n",
       "    </tr>\n",
       "  </tbody>\n",
       "</table>\n",
       "</div>"
      ],
      "text/plain": [
       "                                      efficient  size  active  net_pnl_roi  gross_pnl_roi\n",
       "user_guid                                                                                \n",
       "000DA83C-D191-3726-A4D5-4E56F0CC7F80          0     1       1        -1.00        -0.9997\n",
       "00140D47-5573-38BE-8E79-AA60B9D8563D          0     0       0        -1.00          -1.00\n",
       "001AE9D0-FC38-3273-9DB1-973C0678E270          0     0       0      -1.0000        -1.0000\n",
       "0026E24F-32BF-386C-A133-9C0061E04278          1     0       0      -0.3525        -0.3525\n",
       "0055E87B-7662-3DC4-934F-144884375093          1     1       0      -0.1602        -0.1509"
      ]
     },
     "execution_count": 12,
     "metadata": {},
     "output_type": "execute_result"
    }
   ],
   "source": [
    "rep_data.head()"
   ]
  },
  {
   "cell_type": "markdown",
   "metadata": {
    "collapsed": true
   },
   "source": [
    "Now perform the linear regression for the Democrat market using the Python stats models library.\n",
    "\n",
    "We see that the F-statistic is very good with a R-squared of 4.3%.\n",
    "\n",
    "The Efficiency, Size, and Active coefficients are 0.1435, 0.1976, and 0.1331 and are all statistically significant at the 0.01 level. The adjusted R^2 is 4.2% and the F-statistic is high.\n",
    "\n",
    "This is a good model."
   ]
  },
  {
   "cell_type": "code",
   "execution_count": 13,
   "metadata": {},
   "outputs": [
    {
     "name": "stdout",
     "output_type": "stream",
     "text": [
      "                            OLS Regression Results                            \n",
      "==============================================================================\n",
      "Dep. Variable:            net_pnl_roi   R-squared:                       0.043\n",
      "Model:                            OLS   Adj. R-squared:                  0.042\n",
      "Method:                 Least Squares   F-statistic:                     55.88\n",
      "Date:                Wed, 17 Jul 2019   Prob (F-statistic):           2.47e-35\n",
      "Time:                        19:20:17   Log-Likelihood:                -3588.2\n",
      "No. Observations:                3750   AIC:                             7184.\n",
      "Df Residuals:                    3746   BIC:                             7209.\n",
      "Df Model:                           3                                         \n",
      "Covariance Type:            nonrobust                                         \n",
      "==============================================================================\n",
      "                 coef    std err          t      P>|t|      [0.005      0.995]\n",
      "------------------------------------------------------------------------------\n",
      "const         -0.3482      0.014    -24.714      0.000      -0.385      -0.312\n",
      "efficient      0.1435      0.022      6.494      0.000       0.087       0.200\n",
      "size           0.1976      0.024      8.381      0.000       0.137       0.258\n",
      "active         0.1331      0.030      4.433      0.000       0.056       0.210\n",
      "==============================================================================\n",
      "Omnibus:                     3377.648   Durbin-Watson:                   1.935\n",
      "Prob(Omnibus):                  0.000   Jarque-Bera (JB):              232.442\n",
      "Skew:                           0.086   Prob(JB):                     3.36e-51\n",
      "Kurtosis:                       1.793   Cond. No.                         3.38\n",
      "==============================================================================\n",
      "\n",
      "Warnings:\n",
      "[1] Standard Errors assume that the covariance matrix of the errors is correctly specified.\n"
     ]
    }
   ],
   "source": [
    "X = dem_data[['efficient', 'size', 'active']]\n",
    "y = dem_data['net_pnl_roi']\n",
    "\n",
    "X2 = sm.add_constant(X)\n",
    "est = sm.OLS(y, X2)\n",
    "est2 = est.fit()\n",
    "print(est2.summary(alpha=0.01))"
   ]
  },
  {
   "cell_type": "markdown",
   "metadata": {
    "collapsed": true
   },
   "source": [
    "And now the Republican market.\n",
    "\n",
    "For this data the coefficients are 0.1504, 0.0148, and 0.0989 for Efficiency, Size, and Activity, respectively.\n",
    "\n",
    "At the 0.01 level only the Efficiency variable is significant. At the 0.05 level Efficiency and and Activity are.\n",
    "\n",
    "The adjusted R^2 is much lower."
   ]
  },
  {
   "cell_type": "code",
   "execution_count": 14,
   "metadata": {},
   "outputs": [
    {
     "name": "stdout",
     "output_type": "stream",
     "text": [
      "                            OLS Regression Results                            \n",
      "==============================================================================\n",
      "Dep. Variable:            net_pnl_roi   R-squared:                       0.007\n",
      "Model:                            OLS   Adj. R-squared:                  0.006\n",
      "Method:                 Least Squares   F-statistic:                     9.762\n",
      "Date:                Wed, 17 Jul 2019   Prob (F-statistic):           2.04e-06\n",
      "Time:                        19:20:17   Log-Likelihood:                -5898.9\n",
      "No. Observations:                4452   AIC:                         1.181e+04\n",
      "Df Residuals:                    4448   BIC:                         1.183e+04\n",
      "Df Model:                           3                                         \n",
      "Covariance Type:            nonrobust                                         \n",
      "==============================================================================\n",
      "                 coef    std err          t      P>|t|      [0.005      0.995]\n",
      "------------------------------------------------------------------------------\n",
      "const         -0.1110      0.019     -5.950      0.000      -0.159      -0.063\n",
      "efficient      0.1504      0.031      4.777      0.000       0.069       0.232\n",
      "size           0.0148      0.031      0.484      0.629      -0.064       0.093\n",
      "active         0.0989      0.039      2.519      0.012      -0.002       0.200\n",
      "==============================================================================\n",
      "Omnibus:                     1067.674   Durbin-Watson:                   1.991\n",
      "Prob(Omnibus):                  0.000   Jarque-Bera (JB):             3124.743\n",
      "Skew:                           1.240   Prob(JB):                         0.00\n",
      "Kurtosis:                       6.270   Cond. No.                         3.34\n",
      "==============================================================================\n",
      "\n",
      "Warnings:\n",
      "[1] Standard Errors assume that the covariance matrix of the errors is correctly specified.\n"
     ]
    }
   ],
   "source": [
    "X = rep_data[['efficient', 'size', 'active']]\n",
    "y = rep_data['net_pnl_roi']\n",
    "\n",
    "X2 = sm.add_constant(X)\n",
    "est = sm.OLS(y, X2)\n",
    "est2 = est.fit()\n",
    "print(est2.summary(alpha=0.01))"
   ]
  },
  {
   "cell_type": "markdown",
   "metadata": {},
   "source": [
    "Results discussed in the paper."
   ]
  },
  {
   "cell_type": "code",
   "execution_count": null,
   "metadata": {},
   "outputs": [],
   "source": []
  },
  {
   "cell_type": "code",
   "execution_count": null,
   "metadata": {},
   "outputs": [],
   "source": []
  },
  {
   "cell_type": "code",
   "execution_count": null,
   "metadata": {},
   "outputs": [],
   "source": []
  }
 ],
 "metadata": {
  "kernelspec": {
   "display_name": "Python 3",
   "language": "python",
   "name": "python3"
  },
  "language_info": {
   "codemirror_mode": {
    "name": "ipython",
    "version": 3
   },
   "file_extension": ".py",
   "mimetype": "text/x-python",
   "name": "python",
   "nbconvert_exporter": "python",
   "pygments_lexer": "ipython3",
   "version": "3.5.2"
  }
 },
 "nbformat": 4,
 "nbformat_minor": 2
}
