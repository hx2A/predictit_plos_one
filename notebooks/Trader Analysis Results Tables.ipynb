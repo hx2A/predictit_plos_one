{
 "cells": [
  {
   "cell_type": "markdown",
   "metadata": {},
   "source": [
    "# Trader Analysis Results Tables\n",
    "\n",
    "This is for Table 8, 9, and 10 in the paper. Before running this you need to run the code in the two Trader Analysis notebooks to create the necessary data files."
   ]
  },
  {
   "cell_type": "code",
   "execution_count": null,
   "metadata": {},
   "outputs": [],
   "source": [
    "import os\n",
    "import sys\n",
    "import re\n",
    "\n",
    "from itertools import *\n",
    "from operator import mul\n",
    "from functools import reduce\n",
    "import pickle\n",
    "\n",
    "import numpy as np\n",
    "import pandas as pd\n",
    "%matplotlib inline\n",
    "import matplotlib as mpl\n",
    "import matplotlib.pyplot as plt\n",
    "\n",
    "idx = pd.IndexSlice\n",
    "\n",
    "from research_tools import storage\n",
    "\n",
    "pd.options.display.float_format = lambda x: '{:,.4f}'.format(x) if abs(x) < 1 else '{:,.2f}'.format(x)"
   ]
  },
  {
   "cell_type": "markdown",
   "metadata": {},
   "source": [
    "# Load Data\n",
    "\n",
    "First load the data we saved at the end of the Trader Analysis notebooks."
   ]
  },
  {
   "cell_type": "code",
   "execution_count": null,
   "metadata": {},
   "outputs": [],
   "source": [
    "def load_pickle(filename):\n",
    "    with open(os.path.join('data', filename), 'rb') as f:\n",
    "        return pickle.load(f)"
   ]
  },
  {
   "cell_type": "code",
   "execution_count": null,
   "metadata": {},
   "outputs": [],
   "source": [
    "os.chdir('..')\n",
    "\n",
    "dem_trader_classifications = load_pickle('dem.trader_classifications.p')\n",
    "dem_trader_stats_summary = load_pickle('dem.trader_stats_summary.p')\n",
    "dem_group_summary = load_pickle('dem.group_summary.p')\n",
    "\n",
    "rep_trader_classifications = load_pickle('gop.trader_classifications.p')\n",
    "rep_trader_stats_summary = load_pickle('gop.trader_stats_summary.p')\n",
    "rep_group_summary = load_pickle('gop.group_summary.p')"
   ]
  },
  {
   "cell_type": "code",
   "execution_count": null,
   "metadata": {},
   "outputs": [],
   "source": [
    "basename = 'dem'\n",
    "\n",
    "dem_behavior_analysis, = storage.retrieve_all(\n",
    "    [basename + '.behavior_analysis'])\n",
    "\n",
    "basename = 'gop'\n",
    "\n",
    "rep_behavior_analysis, = storage.retrieve_all(\n",
    "    [basename + '.behavior_analysis'])"
   ]
  },
  {
   "cell_type": "markdown",
   "metadata": {},
   "source": [
    "Below is Table 8."
   ]
  },
  {
   "cell_type": "code",
   "execution_count": null,
   "metadata": {},
   "outputs": [],
   "source": [
    "def paper_group_summary_table(group_summary, letter):\n",
    "    out = DataFrame()\n",
    "\n",
    "    out['% of Traders'] = 100 * group_summary.trader_count / group_summary.trader_count.sum()\n",
    "    out['Avg Profit ($)'] = group_summary.pnl_net_fee / group_summary.trader_count\n",
    "    out['Avg Exposure ($)'] = group_summary.sum_max_in_pool / group_summary.trader_count\n",
    "    out['ROI'] = 100 * group_summary.net_roi\n",
    "    \n",
    "    out.columns = pd.MultiIndex.from_tuples([(x, letter) for x in out.columns])\n",
    "\n",
    "    return out\n",
    "\n",
    "dem = paper_group_summary_table(dem_group_summary, 'D')\n",
    "rep = paper_group_summary_table(rep_group_summary, 'R')\n",
    "\n",
    "\n",
    "table8 = pd.concat([dem, rep], axis=1).sort_index(axis=1, level=0)\n",
    "\n",
    "table8"
   ]
  },
  {
   "cell_type": "code",
   "execution_count": null,
   "metadata": {},
   "outputs": [],
   "source": [
    "print(table8.to_latex())"
   ]
  },
  {
   "cell_type": "code",
   "execution_count": null,
   "metadata": {},
   "outputs": [],
   "source": [
    "dem_group_summary.trader_count.sum()"
   ]
  },
  {
   "cell_type": "code",
   "execution_count": null,
   "metadata": {},
   "outputs": [],
   "source": [
    "rep_group_summary.trader_count.sum()"
   ]
  },
  {
   "cell_type": "markdown",
   "metadata": {},
   "source": [
    "Below is Table 9."
   ]
  },
  {
   "cell_type": "code",
   "execution_count": null,
   "metadata": {},
   "outputs": [],
   "source": [
    "def paper_group_summary_exposure_table(group_summary, letter):\n",
    "    out = DataFrame()\n",
    "\n",
    "    # number prefixes to simplify column ordering\n",
    "    out['1-Net Profit'] = group_summary.eval('pnl_net_fee / sum_max_in_pool')\n",
    "    out['2-Spread'] = group_summary.eval('spread_profit / sum_max_in_pool')\n",
    "    out['3-Bias'] = group_summary.eval('bias_profit / sum_max_in_pool')\n",
    "    out['4-Position'] = group_summary.eval('position_profit / sum_max_in_pool')\n",
    "    out['5-Fee'] = -group_summary.eval('fee / sum_max_in_pool')\n",
    "    \n",
    "    out *= 100\n",
    "    \n",
    "    out.columns = pd.MultiIndex.from_tuples([(x, letter) for x in out.columns])\n",
    "\n",
    "    return out\n",
    "\n",
    "pd.options.display.float_format = lambda x: '{:,.1f}'.format(x)\n",
    "\n",
    "dem = paper_group_summary_exposure_table(dem_group_summary, 'D')\n",
    "rep = paper_group_summary_exposure_table(rep_group_summary, 'R')\n",
    "\n",
    "table9 = pd.concat([dem, rep], axis=1).sort_index(axis=1, level=0)\n",
    "\n",
    "table9"
   ]
  },
  {
   "cell_type": "code",
   "execution_count": null,
   "metadata": {},
   "outputs": [],
   "source": [
    "# use some Python-foo to remove the excess spacing\n",
    "def remove_spacing(latex):\n",
    "    return '\\n'.join([re.sub('\\s+', ' ', l) for l in latex.split('\\n')])\n",
    "\n",
    "print(remove_spacing(table9.to_latex()))"
   ]
  },
  {
   "cell_type": "markdown",
   "metadata": {},
   "source": [
    "The following is for Table 10."
   ]
  },
  {
   "cell_type": "code",
   "execution_count": null,
   "metadata": {},
   "outputs": [],
   "source": [
    "def group_differences(index1, index2):\n",
    "    # check that the group indexes are correct\n",
    "    # the following should all be the same\n",
    "    diff = set()\n",
    "    for g1, g2 in zip(table9.iloc[index1].index, table9.iloc[index2].index):\n",
    "        s1 = set(g1.split())\n",
    "        s2 = set(g2.split())\n",
    "        diff.add((tuple(s1 - s2), tuple(s2 - s1)))\n",
    "    assert len(diff) == 1\n",
    "\n",
    "    (op1,), (op2,) = diff.pop()\n",
    "    print('calculating {0} - {1}'.format(op1, op2))\n",
    "    groupings = [g.replace(op1, '').strip() for g in table9.iloc[index1].index]\n",
    "    \n",
    "    diff1 = table8.iloc[index1, -2:].reset_index(drop=True) - table8.iloc[index2, -2:].reset_index(drop=True)\n",
    "    diff1.index = groupings\n",
    "    diff1 = diff1.T.unstack(1)\n",
    "\n",
    "    diff2 = table9.iloc[index1, 2:-2].reset_index(drop=True) - table9.iloc[index2, 2:-2].reset_index(drop=True)\n",
    "    diff2.index = groupings\n",
    "    diff2 = diff2.T.unstack(1)\n",
    "\n",
    "    diff2 = pd.concat([diff2.iloc[0] + diff2.iloc[1], diff2.iloc[2]], axis=1).T\n",
    "    diff2.index = ['Spread + Bias', 'Position']\n",
    "\n",
    "    return pd.concat([diff2, diff1], axis=0)"
   ]
  },
  {
   "cell_type": "code",
   "execution_count": null,
   "metadata": {},
   "outputs": [],
   "source": [
    "# Efficient - Inefficient\n",
    "index1 = [2, 0, 3, 1]\n",
    "index2 = [6, 4, 7, 5]\n",
    "\n",
    "out = group_differences(index1, index2)\n",
    "\n",
    "out"
   ]
  },
  {
   "cell_type": "code",
   "execution_count": null,
   "metadata": {},
   "outputs": [],
   "source": [
    "print(remove_spacing(out.to_latex()))"
   ]
  },
  {
   "cell_type": "code",
   "execution_count": null,
   "metadata": {},
   "outputs": [],
   "source": [
    "# Active - Inactive\n",
    "index1 = [2, 0, 6, 4]\n",
    "index2 = [3, 1, 7, 5]\n",
    "\n",
    "out = group_differences(index1, index2)\n",
    "\n",
    "out"
   ]
  },
  {
   "cell_type": "code",
   "execution_count": null,
   "metadata": {},
   "outputs": [],
   "source": [
    "print(remove_spacing(out.to_latex()))"
   ]
  },
  {
   "cell_type": "code",
   "execution_count": null,
   "metadata": {},
   "outputs": [],
   "source": [
    "# Large - Small\n",
    "index1 = [2, 3, 6, 7]\n",
    "index2 = [0, 1, 4, 5]\n",
    "\n",
    "out = group_differences(index1, index2)\n",
    "\n",
    "out"
   ]
  },
  {
   "cell_type": "code",
   "execution_count": null,
   "metadata": {},
   "outputs": [],
   "source": [
    "print(remove_spacing(out.to_latex()))"
   ]
  },
  {
   "cell_type": "code",
   "execution_count": null,
   "metadata": {},
   "outputs": [],
   "source": []
  },
  {
   "cell_type": "code",
   "execution_count": null,
   "metadata": {},
   "outputs": [],
   "source": []
  }
 ],
 "metadata": {
  "language_info": {
   "name": "python",
   "pygments_lexer": "ipython3"
  }
 },
 "nbformat": 4,
 "nbformat_minor": 2
}
