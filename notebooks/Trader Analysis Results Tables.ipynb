{
 "cells": [
  {
   "cell_type": "markdown",
   "metadata": {},
   "source": [
    "# Trader Analysis Results Tables\n",
    "\n",
    "This is for Table 8, 9, and 10 in the paper. Before running this you need to run the code in the two Trader Analysis notebooks to create the necessary data files."
   ]
  },
  {
   "cell_type": "code",
   "execution_count": 1,
   "metadata": {},
   "outputs": [],
   "source": [
    "import os\n",
    "import sys\n",
    "import re\n",
    "\n",
    "from itertools import *\n",
    "from operator import mul\n",
    "from functools import reduce\n",
    "import pickle\n",
    "\n",
    "import numpy as np\n",
    "import pandas as pd\n",
    "%matplotlib inline\n",
    "import matplotlib as mpl\n",
    "import matplotlib.pyplot as plt\n",
    "\n",
    "idx = pd.IndexSlice\n",
    "\n",
    "from research_tools import storage\n",
    "\n",
    "pd.options.display.float_format = lambda x: '{:,.4f}'.format(x) if abs(x) < 1 else '{:,.2f}'.format(x)"
   ]
  },
  {
   "cell_type": "markdown",
   "metadata": {},
   "source": [
    "# Load Data\n",
    "\n",
    "First load the data we saved at the end of the Trader Analysis notebooks."
   ]
  },
  {
   "cell_type": "code",
   "execution_count": 2,
   "metadata": {},
   "outputs": [],
   "source": [
    "def load_pickle(filename):\n",
    "    with open(os.path.join('data', filename), 'rb') as f:\n",
    "        return pickle.load(f)"
   ]
  },
  {
   "cell_type": "code",
   "execution_count": 3,
   "metadata": {},
   "outputs": [],
   "source": [
    "os.chdir('..')\n",
    "\n",
    "dem_trader_classifications = load_pickle('dem.trader_classifications.p')\n",
    "dem_trader_stats_summary = load_pickle('dem.trader_stats_summary.p')\n",
    "dem_group_summary = load_pickle('dem.group_summary.p')\n",
    "\n",
    "rep_trader_classifications = load_pickle('gop.trader_classifications.p')\n",
    "rep_trader_stats_summary = load_pickle('gop.trader_stats_summary.p')\n",
    "rep_group_summary = load_pickle('gop.group_summary.p')"
   ]
  },
  {
   "cell_type": "code",
   "execution_count": 4,
   "metadata": {},
   "outputs": [
    {
     "name": "stdout",
     "output_type": "stream",
     "text": [
      "Reading data from data/dem.behavior_analysis.p\n",
      "Reading data from data/gop.behavior_analysis.p\n"
     ]
    }
   ],
   "source": [
    "basename = 'dem'\n",
    "\n",
    "dem_behavior_analysis, = storage.retrieve_all(\n",
    "    [basename + '.behavior_analysis'])\n",
    "\n",
    "basename = 'gop'\n",
    "\n",
    "rep_behavior_analysis, = storage.retrieve_all(\n",
    "    [basename + '.behavior_analysis'])"
   ]
  },
  {
   "cell_type": "markdown",
   "metadata": {},
   "source": [
    "Below is Table 8."
   ]
  },
  {
   "cell_type": "code",
   "execution_count": 5,
   "metadata": {},
   "outputs": [
    {
     "data": {
      "text/html": [
       "<div>\n",
       "<table border=\"1\" class=\"dataframe\">\n",
       "  <thead>\n",
       "    <tr>\n",
       "      <th></th>\n",
       "      <th colspan=\"2\" halign=\"left\">% of Traders</th>\n",
       "      <th colspan=\"2\" halign=\"left\">Avg Exposure ($)</th>\n",
       "      <th colspan=\"2\" halign=\"left\">Avg Profit ($)</th>\n",
       "      <th colspan=\"2\" halign=\"left\">ROI</th>\n",
       "    </tr>\n",
       "    <tr>\n",
       "      <th></th>\n",
       "      <th>D</th>\n",
       "      <th>R</th>\n",
       "      <th>D</th>\n",
       "      <th>R</th>\n",
       "      <th>D</th>\n",
       "      <th>R</th>\n",
       "      <th>D</th>\n",
       "      <th>R</th>\n",
       "    </tr>\n",
       "  </thead>\n",
       "  <tbody>\n",
       "    <tr>\n",
       "      <th>Efficient Small Active</th>\n",
       "      <td>2.21</td>\n",
       "      <td>0.8760</td>\n",
       "      <td>19.20</td>\n",
       "      <td>19.78</td>\n",
       "      <td>0.6285</td>\n",
       "      <td>4.65</td>\n",
       "      <td>3.27</td>\n",
       "      <td>23.49</td>\n",
       "    </tr>\n",
       "    <tr>\n",
       "      <th>Efficient Small Inactive</th>\n",
       "      <td>19.33</td>\n",
       "      <td>16.13</td>\n",
       "      <td>13.16</td>\n",
       "      <td>12.62</td>\n",
       "      <td>-2.12</td>\n",
       "      <td>0.5114</td>\n",
       "      <td>-16.15</td>\n",
       "      <td>4.05</td>\n",
       "    </tr>\n",
       "    <tr>\n",
       "      <th>Efficient Large Active</th>\n",
       "      <td>3.23</td>\n",
       "      <td>2.07</td>\n",
       "      <td>463.66</td>\n",
       "      <td>519.13</td>\n",
       "      <td>24.87</td>\n",
       "      <td>-1.28</td>\n",
       "      <td>5.36</td>\n",
       "      <td>-0.2468</td>\n",
       "    </tr>\n",
       "    <tr>\n",
       "      <th>Efficient Large Inactive</th>\n",
       "      <td>7.44</td>\n",
       "      <td>6.22</td>\n",
       "      <td>298.55</td>\n",
       "      <td>338.21</td>\n",
       "      <td>37.16</td>\n",
       "      <td>36.70</td>\n",
       "      <td>12.45</td>\n",
       "      <td>10.85</td>\n",
       "    </tr>\n",
       "    <tr>\n",
       "      <th>Inefficient Small Active</th>\n",
       "      <td>4.51</td>\n",
       "      <td>5.30</td>\n",
       "      <td>17.66</td>\n",
       "      <td>18.11</td>\n",
       "      <td>-4.21</td>\n",
       "      <td>0.9762</td>\n",
       "      <td>-23.82</td>\n",
       "      <td>5.39</td>\n",
       "    </tr>\n",
       "    <tr>\n",
       "      <th>Inefficient Small Inactive</th>\n",
       "      <td>45.71</td>\n",
       "      <td>46.41</td>\n",
       "      <td>12.81</td>\n",
       "      <td>12.94</td>\n",
       "      <td>-4.04</td>\n",
       "      <td>-1.41</td>\n",
       "      <td>-31.52</td>\n",
       "      <td>-10.88</td>\n",
       "    </tr>\n",
       "    <tr>\n",
       "      <th>Inefficient Large Active</th>\n",
       "      <td>4.64</td>\n",
       "      <td>7.21</td>\n",
       "      <td>455.57</td>\n",
       "      <td>448.94</td>\n",
       "      <td>9.46</td>\n",
       "      <td>-25.56</td>\n",
       "      <td>2.08</td>\n",
       "      <td>-5.69</td>\n",
       "    </tr>\n",
       "    <tr>\n",
       "      <th>Inefficient Large Inactive</th>\n",
       "      <td>12.93</td>\n",
       "      <td>15.79</td>\n",
       "      <td>335.07</td>\n",
       "      <td>309.84</td>\n",
       "      <td>-36.33</td>\n",
       "      <td>-32.45</td>\n",
       "      <td>-10.84</td>\n",
       "      <td>-10.47</td>\n",
       "    </tr>\n",
       "  </tbody>\n",
       "</table>\n",
       "</div>"
      ],
      "text/plain": [
       "                           % of Traders        Avg Exposure ($)        Avg Profit ($)           ROI        \n",
       "                                      D      R                D      R              D      R      D       R\n",
       "Efficient Small Active             2.21 0.8760            19.20  19.78         0.6285   4.65   3.27   23.49\n",
       "Efficient Small Inactive          19.33  16.13            13.16  12.62          -2.12 0.5114 -16.15    4.05\n",
       "Efficient Large Active             3.23   2.07           463.66 519.13          24.87  -1.28   5.36 -0.2468\n",
       "Efficient Large Inactive           7.44   6.22           298.55 338.21          37.16  36.70  12.45   10.85\n",
       "Inefficient Small Active           4.51   5.30            17.66  18.11          -4.21 0.9762 -23.82    5.39\n",
       "Inefficient Small Inactive        45.71  46.41            12.81  12.94          -4.04  -1.41 -31.52  -10.88\n",
       "Inefficient Large Active           4.64   7.21           455.57 448.94           9.46 -25.56   2.08   -5.69\n",
       "Inefficient Large Inactive        12.93  15.79           335.07 309.84         -36.33 -32.45 -10.84  -10.47"
      ]
     },
     "execution_count": 5,
     "metadata": {},
     "output_type": "execute_result"
    }
   ],
   "source": [
    "def paper_group_summary_table(group_summary, letter):\n",
    "    out = DataFrame()\n",
    "\n",
    "    out['% of Traders'] = 100 * group_summary.trader_count / group_summary.trader_count.sum()\n",
    "    out['Avg Profit ($)'] = group_summary.pnl_net_fee / group_summary.trader_count\n",
    "    out['Avg Exposure ($)'] = group_summary.sum_max_in_pool / group_summary.trader_count\n",
    "    out['ROI'] = 100 * group_summary.net_roi\n",
    "    \n",
    "    out.columns = pd.MultiIndex.from_tuples([(x, letter) for x in out.columns])\n",
    "\n",
    "    return out\n",
    "\n",
    "dem = paper_group_summary_table(dem_group_summary, 'D')\n",
    "rep = paper_group_summary_table(rep_group_summary, 'R')\n",
    "\n",
    "\n",
    "table8 = pd.concat([dem, rep], axis=1).sort_index(axis=1, level=0)\n",
    "\n",
    "table8"
   ]
  },
  {
   "cell_type": "code",
   "execution_count": 6,
   "metadata": {},
   "outputs": [
    {
     "name": "stdout",
     "output_type": "stream",
     "text": [
      "\\begin{tabular}{lrrrrrrrr}\n",
      "\\toprule\n",
      "{} & \\% of Traders &        & Avg Exposure (\\$) &        & Avg Profit (\\$) &        &    ROI &         \\\\\n",
      "{} &            D &      R &                D &      R &              D &      R &      D &       R \\\\\n",
      "\\midrule\n",
      "Efficient Small Active     &         2.21 & 0.8760 &            19.20 &  19.78 &         0.6285 &   4.65 &   3.27 &   23.49 \\\\\n",
      "Efficient Small Inactive   &        19.33 &  16.13 &            13.16 &  12.62 &          -2.12 & 0.5114 & -16.15 &    4.05 \\\\\n",
      "Efficient Large Active     &         3.23 &   2.07 &           463.66 & 519.13 &          24.87 &  -1.28 &   5.36 & -0.2468 \\\\\n",
      "Efficient Large Inactive   &         7.44 &   6.22 &           298.55 & 338.21 &          37.16 &  36.70 &  12.45 &   10.85 \\\\\n",
      "Inefficient Small Active   &         4.51 &   5.30 &            17.66 &  18.11 &          -4.21 & 0.9762 & -23.82 &    5.39 \\\\\n",
      "Inefficient Small Inactive &        45.71 &  46.41 &            12.81 &  12.94 &          -4.04 &  -1.41 & -31.52 &  -10.88 \\\\\n",
      "Inefficient Large Active   &         4.64 &   7.21 &           455.57 & 448.94 &           9.46 & -25.56 &   2.08 &   -5.69 \\\\\n",
      "Inefficient Large Inactive &        12.93 &  15.79 &           335.07 & 309.84 &         -36.33 & -32.45 & -10.84 &  -10.47 \\\\\n",
      "\\bottomrule\n",
      "\\end{tabular}\n",
      "\n"
     ]
    }
   ],
   "source": [
    "print(table8.to_latex())"
   ]
  },
  {
   "cell_type": "code",
   "execution_count": 7,
   "metadata": {},
   "outputs": [
    {
     "data": {
      "text/plain": [
       "3750.0"
      ]
     },
     "execution_count": 7,
     "metadata": {},
     "output_type": "execute_result"
    }
   ],
   "source": [
    "dem_group_summary.trader_count.sum()"
   ]
  },
  {
   "cell_type": "code",
   "execution_count": 8,
   "metadata": {},
   "outputs": [
    {
     "data": {
      "text/plain": [
       "4452.0"
      ]
     },
     "execution_count": 8,
     "metadata": {},
     "output_type": "execute_result"
    }
   ],
   "source": [
    "rep_group_summary.trader_count.sum()"
   ]
  },
  {
   "cell_type": "markdown",
   "metadata": {},
   "source": [
    "Below is Table 9."
   ]
  },
  {
   "cell_type": "code",
   "execution_count": 9,
   "metadata": {},
   "outputs": [
    {
     "data": {
      "text/html": [
       "<div>\n",
       "<table border=\"1\" class=\"dataframe\">\n",
       "  <thead>\n",
       "    <tr>\n",
       "      <th></th>\n",
       "      <th colspan=\"2\" halign=\"left\">1-Net Profit</th>\n",
       "      <th colspan=\"2\" halign=\"left\">2-Spread</th>\n",
       "      <th colspan=\"2\" halign=\"left\">3-Bias</th>\n",
       "      <th colspan=\"2\" halign=\"left\">4-Position</th>\n",
       "      <th colspan=\"2\" halign=\"left\">5-Fee</th>\n",
       "    </tr>\n",
       "    <tr>\n",
       "      <th></th>\n",
       "      <th>D</th>\n",
       "      <th>R</th>\n",
       "      <th>D</th>\n",
       "      <th>R</th>\n",
       "      <th>D</th>\n",
       "      <th>R</th>\n",
       "      <th>D</th>\n",
       "      <th>R</th>\n",
       "      <th>D</th>\n",
       "      <th>R</th>\n",
       "    </tr>\n",
       "  </thead>\n",
       "  <tbody>\n",
       "    <tr>\n",
       "      <th>Efficient Small Active</th>\n",
       "      <td>3.3</td>\n",
       "      <td>23.5</td>\n",
       "      <td>3.5</td>\n",
       "      <td>0.7</td>\n",
       "      <td>5.0</td>\n",
       "      <td>0.7</td>\n",
       "      <td>-2.1</td>\n",
       "      <td>27.0</td>\n",
       "      <td>-3.1</td>\n",
       "      <td>-4.9</td>\n",
       "    </tr>\n",
       "    <tr>\n",
       "      <th>Efficient Small Inactive</th>\n",
       "      <td>-16.1</td>\n",
       "      <td>4.1</td>\n",
       "      <td>-1.0</td>\n",
       "      <td>-3.9</td>\n",
       "      <td>4.6</td>\n",
       "      <td>1.5</td>\n",
       "      <td>-17.4</td>\n",
       "      <td>10.4</td>\n",
       "      <td>-2.3</td>\n",
       "      <td>-3.9</td>\n",
       "    </tr>\n",
       "    <tr>\n",
       "      <th>Efficient Large Active</th>\n",
       "      <td>5.4</td>\n",
       "      <td>-0.2</td>\n",
       "      <td>7.3</td>\n",
       "      <td>8.1</td>\n",
       "      <td>4.4</td>\n",
       "      <td>5.9</td>\n",
       "      <td>-2.6</td>\n",
       "      <td>-9.7</td>\n",
       "      <td>-3.8</td>\n",
       "      <td>-4.6</td>\n",
       "    </tr>\n",
       "    <tr>\n",
       "      <th>Efficient Large Inactive</th>\n",
       "      <td>12.4</td>\n",
       "      <td>10.9</td>\n",
       "      <td>-0.7</td>\n",
       "      <td>-1.7</td>\n",
       "      <td>2.9</td>\n",
       "      <td>6.7</td>\n",
       "      <td>13.6</td>\n",
       "      <td>9.9</td>\n",
       "      <td>-3.3</td>\n",
       "      <td>-4.0</td>\n",
       "    </tr>\n",
       "    <tr>\n",
       "      <th>Inefficient Small Active</th>\n",
       "      <td>-23.8</td>\n",
       "      <td>5.4</td>\n",
       "      <td>0.5</td>\n",
       "      <td>-0.3</td>\n",
       "      <td>-3.2</td>\n",
       "      <td>-2.8</td>\n",
       "      <td>-18.9</td>\n",
       "      <td>13.6</td>\n",
       "      <td>-2.2</td>\n",
       "      <td>-5.1</td>\n",
       "    </tr>\n",
       "    <tr>\n",
       "      <th>Inefficient Small Inactive</th>\n",
       "      <td>-31.5</td>\n",
       "      <td>-10.9</td>\n",
       "      <td>-2.3</td>\n",
       "      <td>-2.9</td>\n",
       "      <td>-5.2</td>\n",
       "      <td>-9.4</td>\n",
       "      <td>-22.0</td>\n",
       "      <td>5.6</td>\n",
       "      <td>-1.9</td>\n",
       "      <td>-4.2</td>\n",
       "    </tr>\n",
       "    <tr>\n",
       "      <th>Inefficient Large Active</th>\n",
       "      <td>2.1</td>\n",
       "      <td>-5.7</td>\n",
       "      <td>-0.2</td>\n",
       "      <td>1.8</td>\n",
       "      <td>-0.9</td>\n",
       "      <td>0.3</td>\n",
       "      <td>5.9</td>\n",
       "      <td>-2.9</td>\n",
       "      <td>-2.7</td>\n",
       "      <td>-4.8</td>\n",
       "    </tr>\n",
       "    <tr>\n",
       "      <th>Inefficient Large Inactive</th>\n",
       "      <td>-10.8</td>\n",
       "      <td>-10.5</td>\n",
       "      <td>-1.7</td>\n",
       "      <td>-1.7</td>\n",
       "      <td>-2.1</td>\n",
       "      <td>-3.2</td>\n",
       "      <td>-4.6</td>\n",
       "      <td>-1.7</td>\n",
       "      <td>-2.4</td>\n",
       "      <td>-3.9</td>\n",
       "    </tr>\n",
       "  </tbody>\n",
       "</table>\n",
       "</div>"
      ],
      "text/plain": [
       "                           1-Net Profit       2-Spread      3-Bias      4-Position      5-Fee     \n",
       "                                      D     R        D    R      D    R          D    R     D    R\n",
       "Efficient Small Active              3.3  23.5      3.5  0.7    5.0  0.7       -2.1 27.0  -3.1 -4.9\n",
       "Efficient Small Inactive          -16.1   4.1     -1.0 -3.9    4.6  1.5      -17.4 10.4  -2.3 -3.9\n",
       "Efficient Large Active              5.4  -0.2      7.3  8.1    4.4  5.9       -2.6 -9.7  -3.8 -4.6\n",
       "Efficient Large Inactive           12.4  10.9     -0.7 -1.7    2.9  6.7       13.6  9.9  -3.3 -4.0\n",
       "Inefficient Small Active          -23.8   5.4      0.5 -0.3   -3.2 -2.8      -18.9 13.6  -2.2 -5.1\n",
       "Inefficient Small Inactive        -31.5 -10.9     -2.3 -2.9   -5.2 -9.4      -22.0  5.6  -1.9 -4.2\n",
       "Inefficient Large Active            2.1  -5.7     -0.2  1.8   -0.9  0.3        5.9 -2.9  -2.7 -4.8\n",
       "Inefficient Large Inactive        -10.8 -10.5     -1.7 -1.7   -2.1 -3.2       -4.6 -1.7  -2.4 -3.9"
      ]
     },
     "execution_count": 9,
     "metadata": {},
     "output_type": "execute_result"
    }
   ],
   "source": [
    "def paper_group_summary_exposure_table(group_summary, letter):\n",
    "    out = DataFrame()\n",
    "\n",
    "    # number prefixes to simplify column ordering\n",
    "    out['1-Net Profit'] = group_summary.eval('pnl_net_fee / sum_max_in_pool')\n",
    "    out['2-Spread'] = group_summary.eval('spread_profit / sum_max_in_pool')\n",
    "    out['3-Bias'] = group_summary.eval('bias_profit / sum_max_in_pool')\n",
    "    out['4-Position'] = group_summary.eval('position_profit / sum_max_in_pool')\n",
    "    out['5-Fee'] = -group_summary.eval('fee / sum_max_in_pool')\n",
    "    \n",
    "    out *= 100\n",
    "    \n",
    "    out.columns = pd.MultiIndex.from_tuples([(x, letter) for x in out.columns])\n",
    "\n",
    "    return out\n",
    "\n",
    "pd.options.display.float_format = lambda x: '{:,.1f}'.format(x)\n",
    "\n",
    "dem = paper_group_summary_exposure_table(dem_group_summary, 'D')\n",
    "rep = paper_group_summary_exposure_table(rep_group_summary, 'R')\n",
    "\n",
    "table9 = pd.concat([dem, rep], axis=1).sort_index(axis=1, level=0)\n",
    "\n",
    "table9"
   ]
  },
  {
   "cell_type": "code",
   "execution_count": 10,
   "metadata": {},
   "outputs": [
    {
     "name": "stdout",
     "output_type": "stream",
     "text": [
      "\\begin{tabular}{lrrrrrrrrrr}\n",
      "\\toprule\n",
      "{} & 1-Net Profit & & 2-Spread & & 3-Bias & & 4-Position & & 5-Fee & \\\\\n",
      "{} & D & R & D & R & D & R & D & R & D & R \\\\\n",
      "\\midrule\n",
      "Efficient Small Active & 3.3 & 23.5 & 3.5 & 0.7 & 5.0 & 0.7 & -2.1 & 27.0 & -3.1 & -4.9 \\\\\n",
      "Efficient Small Inactive & -16.1 & 4.1 & -1.0 & -3.9 & 4.6 & 1.5 & -17.4 & 10.4 & -2.3 & -3.9 \\\\\n",
      "Efficient Large Active & 5.4 & -0.2 & 7.3 & 8.1 & 4.4 & 5.9 & -2.6 & -9.7 & -3.8 & -4.6 \\\\\n",
      "Efficient Large Inactive & 12.4 & 10.9 & -0.7 & -1.7 & 2.9 & 6.7 & 13.6 & 9.9 & -3.3 & -4.0 \\\\\n",
      "Inefficient Small Active & -23.8 & 5.4 & 0.5 & -0.3 & -3.2 & -2.8 & -18.9 & 13.6 & -2.2 & -5.1 \\\\\n",
      "Inefficient Small Inactive & -31.5 & -10.9 & -2.3 & -2.9 & -5.2 & -9.4 & -22.0 & 5.6 & -1.9 & -4.2 \\\\\n",
      "Inefficient Large Active & 2.1 & -5.7 & -0.2 & 1.8 & -0.9 & 0.3 & 5.9 & -2.9 & -2.7 & -4.8 \\\\\n",
      "Inefficient Large Inactive & -10.8 & -10.5 & -1.7 & -1.7 & -2.1 & -3.2 & -4.6 & -1.7 & -2.4 & -3.9 \\\\\n",
      "\\bottomrule\n",
      "\\end{tabular}\n",
      "\n"
     ]
    }
   ],
   "source": [
    "# use some Python-foo to remove the excess spacing\n",
    "def remove_spacing(latex):\n",
    "    return '\\n'.join([re.sub('\\s+', ' ', l) for l in latex.split('\\n')])\n",
    "\n",
    "print(remove_spacing(table9.to_latex()))"
   ]
  },
  {
   "cell_type": "markdown",
   "metadata": {},
   "source": [
    "The following is for Table 10."
   ]
  },
  {
   "cell_type": "code",
   "execution_count": 11,
   "metadata": {},
   "outputs": [],
   "source": [
    "def group_differences(index1, index2):\n",
    "    # check that the group indexes are correct\n",
    "    # the following should all be the same\n",
    "    diff = set()\n",
    "    for g1, g2 in zip(table9.iloc[index1].index, table9.iloc[index2].index):\n",
    "        s1 = set(g1.split())\n",
    "        s2 = set(g2.split())\n",
    "        diff.add((tuple(s1 - s2), tuple(s2 - s1)))\n",
    "    assert len(diff) == 1\n",
    "\n",
    "    (op1,), (op2,) = diff.pop()\n",
    "    print('calculating {0} - {1}'.format(op1, op2))\n",
    "    groupings = [g.replace(op1, '').strip() for g in table9.iloc[index1].index]\n",
    "    \n",
    "    diff1 = table8.iloc[index1, -2:].reset_index(drop=True) - table8.iloc[index2, -2:].reset_index(drop=True)\n",
    "    diff1.index = groupings\n",
    "    diff1 = diff1.T.unstack(1)\n",
    "\n",
    "    diff2 = table9.iloc[index1, 2:-2].reset_index(drop=True) - table9.iloc[index2, 2:-2].reset_index(drop=True)\n",
    "    diff2.index = groupings\n",
    "    diff2 = diff2.T.unstack(1)\n",
    "\n",
    "    diff2 = pd.concat([diff2.iloc[0] + diff2.iloc[1], diff2.iloc[2]], axis=1).T\n",
    "    diff2.index = ['Spread + Bias', 'Position']\n",
    "\n",
    "    return pd.concat([diff2, diff1], axis=0)"
   ]
  },
  {
   "cell_type": "code",
   "execution_count": 12,
   "metadata": {},
   "outputs": [
    {
     "name": "stdout",
     "output_type": "stream",
     "text": [
      "calculating Efficient - Inefficient\n"
     ]
    },
    {
     "data": {
      "text/html": [
       "<div>\n",
       "<table border=\"1\" class=\"dataframe\">\n",
       "  <thead>\n",
       "    <tr>\n",
       "      <th></th>\n",
       "      <th colspan=\"2\" halign=\"left\">Large Active</th>\n",
       "      <th colspan=\"2\" halign=\"left\">Small Active</th>\n",
       "      <th colspan=\"2\" halign=\"left\">Large Inactive</th>\n",
       "      <th colspan=\"2\" halign=\"left\">Small Inactive</th>\n",
       "    </tr>\n",
       "    <tr>\n",
       "      <th></th>\n",
       "      <th>D</th>\n",
       "      <th>R</th>\n",
       "      <th>D</th>\n",
       "      <th>R</th>\n",
       "      <th>D</th>\n",
       "      <th>R</th>\n",
       "      <th>D</th>\n",
       "      <th>R</th>\n",
       "    </tr>\n",
       "  </thead>\n",
       "  <tbody>\n",
       "    <tr>\n",
       "      <th>Spread + Bias</th>\n",
       "      <td>12.8</td>\n",
       "      <td>12.0</td>\n",
       "      <td>11.2</td>\n",
       "      <td>4.6</td>\n",
       "      <td>6.0</td>\n",
       "      <td>9.8</td>\n",
       "      <td>11.1</td>\n",
       "      <td>9.9</td>\n",
       "    </tr>\n",
       "    <tr>\n",
       "      <th>Position</th>\n",
       "      <td>-8.5</td>\n",
       "      <td>-6.8</td>\n",
       "      <td>16.8</td>\n",
       "      <td>13.4</td>\n",
       "      <td>18.2</td>\n",
       "      <td>11.6</td>\n",
       "      <td>4.7</td>\n",
       "      <td>4.8</td>\n",
       "    </tr>\n",
       "    <tr>\n",
       "      <th>ROI</th>\n",
       "      <td>3.3</td>\n",
       "      <td>5.4</td>\n",
       "      <td>27.1</td>\n",
       "      <td>18.1</td>\n",
       "      <td>23.3</td>\n",
       "      <td>21.3</td>\n",
       "      <td>15.4</td>\n",
       "      <td>14.9</td>\n",
       "    </tr>\n",
       "  </tbody>\n",
       "</table>\n",
       "</div>"
      ],
      "text/plain": [
       "              Large Active      Small Active      Large Inactive      Small Inactive     \n",
       "                         D    R            D    R              D    R              D    R\n",
       "Spread + Bias         12.8 12.0         11.2  4.6            6.0  9.8           11.1  9.9\n",
       "Position              -8.5 -6.8         16.8 13.4           18.2 11.6            4.7  4.8\n",
       "ROI                    3.3  5.4         27.1 18.1           23.3 21.3           15.4 14.9"
      ]
     },
     "execution_count": 12,
     "metadata": {},
     "output_type": "execute_result"
    }
   ],
   "source": [
    "# Efficient - Inefficient\n",
    "index1 = [2, 0, 3, 1]\n",
    "index2 = [6, 4, 7, 5]\n",
    "\n",
    "out = group_differences(index1, index2)\n",
    "\n",
    "out"
   ]
  },
  {
   "cell_type": "code",
   "execution_count": 13,
   "metadata": {},
   "outputs": [
    {
     "name": "stdout",
     "output_type": "stream",
     "text": [
      "\\begin{tabular}{lrrrrrrrr}\n",
      "\\toprule\n",
      "{} & Large Active & & Small Active & & Large Inactive & & Small Inactive & \\\\\n",
      "{} & D & R & D & R & D & R & D & R \\\\\n",
      "\\midrule\n",
      "Spread + Bias & 12.8 & 12.0 & 11.2 & 4.6 & 6.0 & 9.8 & 11.1 & 9.9 \\\\\n",
      "Position & -8.5 & -6.8 & 16.8 & 13.4 & 18.2 & 11.6 & 4.7 & 4.8 \\\\\n",
      "ROI & 3.3 & 5.4 & 27.1 & 18.1 & 23.3 & 21.3 & 15.4 & 14.9 \\\\\n",
      "\\bottomrule\n",
      "\\end{tabular}\n",
      "\n"
     ]
    }
   ],
   "source": [
    "print(remove_spacing(out.to_latex()))"
   ]
  },
  {
   "cell_type": "code",
   "execution_count": 14,
   "metadata": {},
   "outputs": [
    {
     "name": "stdout",
     "output_type": "stream",
     "text": [
      "calculating Active - Inactive\n"
     ]
    },
    {
     "data": {
      "text/html": [
       "<div>\n",
       "<table border=\"1\" class=\"dataframe\">\n",
       "  <thead>\n",
       "    <tr>\n",
       "      <th></th>\n",
       "      <th colspan=\"2\" halign=\"left\">Efficient Large</th>\n",
       "      <th colspan=\"2\" halign=\"left\">Efficient Small</th>\n",
       "      <th colspan=\"2\" halign=\"left\">Inefficient Large</th>\n",
       "      <th colspan=\"2\" halign=\"left\">Inefficient Small</th>\n",
       "    </tr>\n",
       "    <tr>\n",
       "      <th></th>\n",
       "      <th>D</th>\n",
       "      <th>R</th>\n",
       "      <th>D</th>\n",
       "      <th>R</th>\n",
       "      <th>D</th>\n",
       "      <th>R</th>\n",
       "      <th>D</th>\n",
       "      <th>R</th>\n",
       "    </tr>\n",
       "  </thead>\n",
       "  <tbody>\n",
       "    <tr>\n",
       "      <th>Spread + Bias</th>\n",
       "      <td>9.5</td>\n",
       "      <td>9.2</td>\n",
       "      <td>5.0</td>\n",
       "      <td>3.8</td>\n",
       "      <td>2.7</td>\n",
       "      <td>7.0</td>\n",
       "      <td>4.9</td>\n",
       "      <td>9.1</td>\n",
       "    </tr>\n",
       "    <tr>\n",
       "      <th>Position</th>\n",
       "      <td>-16.2</td>\n",
       "      <td>-19.6</td>\n",
       "      <td>15.3</td>\n",
       "      <td>16.6</td>\n",
       "      <td>10.5</td>\n",
       "      <td>-1.2</td>\n",
       "      <td>3.1</td>\n",
       "      <td>8.1</td>\n",
       "    </tr>\n",
       "    <tr>\n",
       "      <th>ROI</th>\n",
       "      <td>-7.1</td>\n",
       "      <td>-11.1</td>\n",
       "      <td>19.4</td>\n",
       "      <td>19.4</td>\n",
       "      <td>12.9</td>\n",
       "      <td>4.8</td>\n",
       "      <td>7.7</td>\n",
       "      <td>16.3</td>\n",
       "    </tr>\n",
       "  </tbody>\n",
       "</table>\n",
       "</div>"
      ],
      "text/plain": [
       "              Efficient Large       Efficient Small      Inefficient Large      Inefficient Small     \n",
       "                            D     R               D    R                 D    R                 D    R\n",
       "Spread + Bias             9.5   9.2             5.0  3.8               2.7  7.0               4.9  9.1\n",
       "Position                -16.2 -19.6            15.3 16.6              10.5 -1.2               3.1  8.1\n",
       "ROI                      -7.1 -11.1            19.4 19.4              12.9  4.8               7.7 16.3"
      ]
     },
     "execution_count": 14,
     "metadata": {},
     "output_type": "execute_result"
    }
   ],
   "source": [
    "# Active - Inactive\n",
    "index1 = [2, 0, 6, 4]\n",
    "index2 = [3, 1, 7, 5]\n",
    "\n",
    "out = group_differences(index1, index2)\n",
    "\n",
    "out"
   ]
  },
  {
   "cell_type": "code",
   "execution_count": 15,
   "metadata": {},
   "outputs": [
    {
     "name": "stdout",
     "output_type": "stream",
     "text": [
      "\\begin{tabular}{lrrrrrrrr}\n",
      "\\toprule\n",
      "{} & Efficient Large & & Efficient Small & & Inefficient Large & & Inefficient Small & \\\\\n",
      "{} & D & R & D & R & D & R & D & R \\\\\n",
      "\\midrule\n",
      "Spread + Bias & 9.5 & 9.2 & 5.0 & 3.8 & 2.7 & 7.0 & 4.9 & 9.1 \\\\\n",
      "Position & -16.2 & -19.6 & 15.3 & 16.6 & 10.5 & -1.2 & 3.1 & 8.1 \\\\\n",
      "ROI & -7.1 & -11.1 & 19.4 & 19.4 & 12.9 & 4.8 & 7.7 & 16.3 \\\\\n",
      "\\bottomrule\n",
      "\\end{tabular}\n",
      "\n"
     ]
    }
   ],
   "source": [
    "print(remove_spacing(out.to_latex()))"
   ]
  },
  {
   "cell_type": "code",
   "execution_count": 16,
   "metadata": {},
   "outputs": [
    {
     "name": "stdout",
     "output_type": "stream",
     "text": [
      "calculating Large - Small\n"
     ]
    },
    {
     "data": {
      "text/html": [
       "<div>\n",
       "<table border=\"1\" class=\"dataframe\">\n",
       "  <thead>\n",
       "    <tr>\n",
       "      <th></th>\n",
       "      <th colspan=\"2\" halign=\"left\">Efficient  Active</th>\n",
       "      <th colspan=\"2\" halign=\"left\">Efficient  Inactive</th>\n",
       "      <th colspan=\"2\" halign=\"left\">Inefficient  Active</th>\n",
       "      <th colspan=\"2\" halign=\"left\">Inefficient  Inactive</th>\n",
       "    </tr>\n",
       "    <tr>\n",
       "      <th></th>\n",
       "      <th>D</th>\n",
       "      <th>R</th>\n",
       "      <th>D</th>\n",
       "      <th>R</th>\n",
       "      <th>D</th>\n",
       "      <th>R</th>\n",
       "      <th>D</th>\n",
       "      <th>R</th>\n",
       "    </tr>\n",
       "  </thead>\n",
       "  <tbody>\n",
       "    <tr>\n",
       "      <th>Spread + Bias</th>\n",
       "      <td>3.2</td>\n",
       "      <td>12.7</td>\n",
       "      <td>-1.4</td>\n",
       "      <td>7.3</td>\n",
       "      <td>1.5</td>\n",
       "      <td>5.2</td>\n",
       "      <td>3.7</td>\n",
       "      <td>7.3</td>\n",
       "    </tr>\n",
       "    <tr>\n",
       "      <th>Position</th>\n",
       "      <td>-0.5</td>\n",
       "      <td>-36.7</td>\n",
       "      <td>31.0</td>\n",
       "      <td>-0.5</td>\n",
       "      <td>24.9</td>\n",
       "      <td>-16.5</td>\n",
       "      <td>17.4</td>\n",
       "      <td>-7.2</td>\n",
       "    </tr>\n",
       "    <tr>\n",
       "      <th>ROI</th>\n",
       "      <td>2.1</td>\n",
       "      <td>-23.7</td>\n",
       "      <td>28.6</td>\n",
       "      <td>6.8</td>\n",
       "      <td>25.9</td>\n",
       "      <td>-11.1</td>\n",
       "      <td>20.7</td>\n",
       "      <td>0.4</td>\n",
       "    </tr>\n",
       "  </tbody>\n",
       "</table>\n",
       "</div>"
      ],
      "text/plain": [
       "              Efficient  Active       Efficient  Inactive      Inefficient  Active       Inefficient  Inactive     \n",
       "                              D     R                   D    R                   D     R                     D    R\n",
       "Spread + Bias               3.2  12.7                -1.4  7.3                 1.5   5.2                   3.7  7.3\n",
       "Position                   -0.5 -36.7                31.0 -0.5                24.9 -16.5                  17.4 -7.2\n",
       "ROI                         2.1 -23.7                28.6  6.8                25.9 -11.1                  20.7  0.4"
      ]
     },
     "execution_count": 16,
     "metadata": {},
     "output_type": "execute_result"
    }
   ],
   "source": [
    "# Large - Small\n",
    "index1 = [2, 3, 6, 7]\n",
    "index2 = [0, 1, 4, 5]\n",
    "\n",
    "out = group_differences(index1, index2)\n",
    "\n",
    "out"
   ]
  },
  {
   "cell_type": "code",
   "execution_count": 17,
   "metadata": {},
   "outputs": [
    {
     "name": "stdout",
     "output_type": "stream",
     "text": [
      "\\begin{tabular}{lrrrrrrrr}\n",
      "\\toprule\n",
      "{} & Efficient Active & & Efficient Inactive & & Inefficient Active & & Inefficient Inactive & \\\\\n",
      "{} & D & R & D & R & D & R & D & R \\\\\n",
      "\\midrule\n",
      "Spread + Bias & 3.2 & 12.7 & -1.4 & 7.3 & 1.5 & 5.2 & 3.7 & 7.3 \\\\\n",
      "Position & -0.5 & -36.7 & 31.0 & -0.5 & 24.9 & -16.5 & 17.4 & -7.2 \\\\\n",
      "ROI & 2.1 & -23.7 & 28.6 & 6.8 & 25.9 & -11.1 & 20.7 & 0.4 \\\\\n",
      "\\bottomrule\n",
      "\\end{tabular}\n",
      "\n"
     ]
    }
   ],
   "source": [
    "print(remove_spacing(out.to_latex()))"
   ]
  },
  {
   "cell_type": "code",
   "execution_count": null,
   "metadata": {},
   "outputs": [],
   "source": []
  },
  {
   "cell_type": "code",
   "execution_count": null,
   "metadata": {},
   "outputs": [],
   "source": []
  }
 ],
 "metadata": {
  "kernelspec": {
   "display_name": "Python 3",
   "language": "python",
   "name": "python3"
  },
  "language_info": {
   "codemirror_mode": {
    "name": "ipython",
    "version": 3
   },
   "file_extension": ".py",
   "mimetype": "text/x-python",
   "name": "python",
   "nbconvert_exporter": "python",
   "pygments_lexer": "ipython3",
   "version": "3.5.2"
  }
 },
 "nbformat": 4,
 "nbformat_minor": 2
}
