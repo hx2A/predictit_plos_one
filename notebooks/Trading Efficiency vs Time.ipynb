{
 "cells": [
  {
   "cell_type": "markdown",
   "metadata": {},
   "source": [
    "# Trading Efficiency vs Time\n",
    "\n",
    "This notebook creates the supplimental charts at the end of the paper."
   ]
  },
  {
   "cell_type": "code",
   "execution_count": 1,
   "metadata": {},
   "outputs": [],
   "source": [
    "import os\n",
    "import sys\n",
    "\n",
    "import numpy as np\n",
    "import pandas as pd\n",
    "%matplotlib inline\n",
    "import matplotlib as mpl\n",
    "import matplotlib.pyplot as plt\n",
    "from matplotlib.lines import Line2D\n",
    "\n",
    "from research_tools import storage\n",
    "\n",
    "pd.options.display.float_format = lambda x: '{:,.4f}'.format(x) if abs(x) < 1 else '{:,.2f}'.format(x)"
   ]
  },
  {
   "cell_type": "markdown",
   "metadata": {},
   "source": [
    "# Load Data"
   ]
  },
  {
   "cell_type": "code",
   "execution_count": 2,
   "metadata": {},
   "outputs": [
    {
     "name": "stdout",
     "output_type": "stream",
     "text": [
      "Reading data from data/dem.replicating_contracts.p\n",
      "Reading data from data/dem.trader_efficiency.p\n",
      "Reading data from data/gop.replicating_contracts.p\n",
      "Reading data from data/gop.trader_efficiency.p\n"
     ]
    }
   ],
   "source": [
    "os.chdir('..')\n",
    "\n",
    "basename = 'dem'\n",
    "\n",
    "dem_replicating_contracts, dem_trader_efficiency = storage.retrieve_all(\n",
    "    [basename + '.replicating_contracts',\n",
    "     basename + '.trader_efficiency'])\n",
    "\n",
    "basename = 'gop'\n",
    "\n",
    "rep_replicating_contracts, rep_trader_efficiency = storage.retrieve_all(\n",
    "    [basename + '.replicating_contracts',\n",
    "     basename + '.trader_efficiency'])"
   ]
  },
  {
   "cell_type": "code",
   "execution_count": 3,
   "metadata": {},
   "outputs": [],
   "source": [
    "dem_trader_analysis3_yes = dem_replicating_contracts['yes contracts spreads and fees']\n",
    "dem_trader_analysis3_no = dem_replicating_contracts['no contracts spreads and fees']\n",
    "\n",
    "rep_trader_analysis3_yes = rep_replicating_contracts['yes contracts spreads and fees']\n",
    "rep_trader_analysis3_no = rep_replicating_contracts['no contracts spreads and fees']"
   ]
  },
  {
   "cell_type": "markdown",
   "metadata": {},
   "source": [
    "# Determine Trading Efficiency\n",
    "\n",
    "For each trade, determine if it is considered an efficient trade or not."
   ]
  },
  {
   "cell_type": "code",
   "execution_count": 4,
   "metadata": {},
   "outputs": [],
   "source": [
    "dem_trader_analysis3_yes[('replication', 'dominated')] = (\n",
    "    dem_trader_analysis3_yes[('_trades', 'price_per_share')] > dem_trader_analysis3_yes[('replication', 'max_loss')]\n",
    ")\n",
    "\n",
    "rep_trader_analysis3_yes[('replication', 'dominated')] = (\n",
    "    rep_trader_analysis3_yes[('_trades', 'price_per_share')] > rep_trader_analysis3_yes[('replication', 'max_loss')]\n",
    ")\n",
    "\n",
    "dem_trader_analysis3_yes[('_trades', 'day_of_trade')] = (\n",
    "    dem_trader_analysis3_yes[('_trades', 'date_executed')].dt.date\n",
    ")\n",
    "\n",
    "rep_trader_analysis3_yes[('_trades', 'day_of_trade')] = (\n",
    "    rep_trader_analysis3_yes[('_trades', 'date_executed')].dt.date\n",
    ")"
   ]
  },
  {
   "cell_type": "code",
   "execution_count": 5,
   "metadata": {},
   "outputs": [],
   "source": [
    "replication_share_qty_cutoff = 10\n",
    "\n",
    "def get_max_value(d_dict):\n",
    "    try:\n",
    "        d_dict = eval(d_dict)\n",
    "        d_dict.pop('contracts')\n",
    "        return max(d_dict.values())\n",
    "    except:\n",
    "        return np.nan\n",
    "\n",
    "def get_contract_type(d_dict):\n",
    "    try:\n",
    "        d_dict = eval(d_dict)\n",
    "        return d_dict.pop('contracts')\n",
    "    except:\n",
    "        return 'NEITHER'\n",
    "\n",
    "dem_trader_analysis3_no[('replication', 'dominated_yes')] = (\n",
    "    (dem_trader_analysis3_no[('_trades', 'price_per_share')] > dem_trader_analysis3_no[('replication', 'max_loss')]) &\n",
    "    (dem_trader_analysis3_no[('replication', 'd')].apply(get_max_value) < replication_share_qty_cutoff) &\n",
    "    (dem_trader_analysis3_no[('replication', 'd')].apply(get_contract_type) == 'YES')\n",
    ")\n",
    "\n",
    "dem_trader_analysis3_no[('replication', 'dominated_no')] = (\n",
    "    (dem_trader_analysis3_no[('_trades', 'price_per_share')] > dem_trader_analysis3_no[('replication', 'max_loss')]) &\n",
    "    (dem_trader_analysis3_no[('replication', 'd')].apply(get_max_value) < replication_share_qty_cutoff) &\n",
    "    (dem_trader_analysis3_no[('replication', 'd')].apply(get_contract_type) == 'NO')\n",
    ")"
   ]
  },
  {
   "cell_type": "code",
   "execution_count": 6,
   "metadata": {},
   "outputs": [
    {
     "data": {
      "text/html": [
       "<div>\n",
       "<table border=\"1\" class=\"dataframe\">\n",
       "  <thead>\n",
       "    <tr style=\"text-align: right;\">\n",
       "      <th></th>\n",
       "      <th></th>\n",
       "      <th>day_of_trade</th>\n",
       "      <th>dominated</th>\n",
       "      <th>quantity</th>\n",
       "    </tr>\n",
       "    <tr>\n",
       "      <th>contract_id</th>\n",
       "      <th>user_guid</th>\n",
       "      <th></th>\n",
       "      <th></th>\n",
       "      <th></th>\n",
       "    </tr>\n",
       "  </thead>\n",
       "  <tbody>\n",
       "    <tr>\n",
       "      <th rowspan=\"5\" valign=\"top\">840</th>\n",
       "      <th>005E56D2-76B6-39DA-9199-366D761FE63D</th>\n",
       "      <td>2015-09-07</td>\n",
       "      <td>True</td>\n",
       "      <td>30</td>\n",
       "    </tr>\n",
       "    <tr>\n",
       "      <th>005E56D2-76B6-39DA-9199-366D761FE63D</th>\n",
       "      <td>2015-09-07</td>\n",
       "      <td>True</td>\n",
       "      <td>10</td>\n",
       "    </tr>\n",
       "    <tr>\n",
       "      <th>005E56D2-76B6-39DA-9199-366D761FE63D</th>\n",
       "      <td>2015-09-07</td>\n",
       "      <td>True</td>\n",
       "      <td>100</td>\n",
       "    </tr>\n",
       "    <tr>\n",
       "      <th>005E56D2-76B6-39DA-9199-366D761FE63D</th>\n",
       "      <td>2015-09-07</td>\n",
       "      <td>True</td>\n",
       "      <td>100</td>\n",
       "    </tr>\n",
       "    <tr>\n",
       "      <th>006963F5-467A-3331-B78D-B1152A3EA9BD</th>\n",
       "      <td>2015-09-17</td>\n",
       "      <td>True</td>\n",
       "      <td>10</td>\n",
       "    </tr>\n",
       "  </tbody>\n",
       "</table>\n",
       "</div>"
      ],
      "text/plain": [
       "                                                 day_of_trade dominated  quantity\n",
       "contract_id user_guid                                                            \n",
       "840         005E56D2-76B6-39DA-9199-366D761FE63D   2015-09-07      True        30\n",
       "            005E56D2-76B6-39DA-9199-366D761FE63D   2015-09-07      True        10\n",
       "            005E56D2-76B6-39DA-9199-366D761FE63D   2015-09-07      True       100\n",
       "            005E56D2-76B6-39DA-9199-366D761FE63D   2015-09-07      True       100\n",
       "            006963F5-467A-3331-B78D-B1152A3EA9BD   2015-09-17      True        10"
      ]
     },
     "execution_count": 6,
     "metadata": {},
     "output_type": "execute_result"
    }
   ],
   "source": [
    "dem_trader_analysis3_yes_subset = dem_trader_analysis3_yes[[('_trades', 'day_of_trade'), ('replication', 'dominated'), ('_trades', 'quantity')]]\n",
    "rep_trader_analysis3_yes_subset = rep_trader_analysis3_yes[[('_trades', 'day_of_trade'), ('replication', 'dominated'), ('_trades', 'quantity')]]\n",
    "\n",
    "dem_trader_analysis3_yes_subset.columns = 'day_of_trade dominated quantity'.split()\n",
    "rep_trader_analysis3_yes_subset.columns = 'day_of_trade dominated quantity'.split()\n",
    "\n",
    "dem_trader_analysis3_yes_subset.head()"
   ]
  },
  {
   "cell_type": "markdown",
   "metadata": {},
   "source": [
    "# Volume per day by Efficiency Designation of Trader\n",
    "\n",
    "For each market, how much volume was executed each day by traders designated as efficient or inefficient in the final analysis?"
   ]
  },
  {
   "cell_type": "code",
   "execution_count": 7,
   "metadata": {},
   "outputs": [
    {
     "data": {
      "text/html": [
       "<div>\n",
       "<table border=\"1\" class=\"dataframe\">\n",
       "  <thead>\n",
       "    <tr style=\"text-align: right;\">\n",
       "      <th></th>\n",
       "      <th>inefficient_trader_volume</th>\n",
       "      <th>efficient_trader_volume</th>\n",
       "    </tr>\n",
       "    <tr>\n",
       "      <th>day_of_trade</th>\n",
       "      <th></th>\n",
       "      <th></th>\n",
       "    </tr>\n",
       "  </thead>\n",
       "  <tbody>\n",
       "    <tr>\n",
       "      <th>2015-06-17</th>\n",
       "      <td>11.00</td>\n",
       "      <td>113.00</td>\n",
       "    </tr>\n",
       "    <tr>\n",
       "      <th>2015-06-18</th>\n",
       "      <td>51.00</td>\n",
       "      <td>158.00</td>\n",
       "    </tr>\n",
       "    <tr>\n",
       "      <th>2015-06-19</th>\n",
       "      <td>125.00</td>\n",
       "      <td>5.00</td>\n",
       "    </tr>\n",
       "    <tr>\n",
       "      <th>2015-06-20</th>\n",
       "      <td>0.0000</td>\n",
       "      <td>145.00</td>\n",
       "    </tr>\n",
       "    <tr>\n",
       "      <th>2015-06-21</th>\n",
       "      <td>0.0000</td>\n",
       "      <td>37.00</td>\n",
       "    </tr>\n",
       "  </tbody>\n",
       "</table>\n",
       "</div>"
      ],
      "text/plain": [
       "              inefficient_trader_volume  efficient_trader_volume\n",
       "day_of_trade                                                    \n",
       "2015-06-17                        11.00                   113.00\n",
       "2015-06-18                        51.00                   158.00\n",
       "2015-06-19                       125.00                     5.00\n",
       "2015-06-20                       0.0000                   145.00\n",
       "2015-06-21                       0.0000                    37.00"
      ]
     },
     "execution_count": 7,
     "metadata": {},
     "output_type": "execute_result"
    }
   ],
   "source": [
    "dem_efficiency_by_day = (\n",
    "    dem_trader_analysis3_yes_subset.join((dem_trader_efficiency > 0.75).to_frame('efficient_trader'))\n",
    "    .groupby(['day_of_trade', 'efficient_trader'])['quantity']\n",
    "    .sum().unstack().fillna(0)\n",
    ")\n",
    "\n",
    "rep_efficiency_by_day = (\n",
    "    rep_trader_analysis3_yes_subset.join((dem_trader_efficiency > 0.75).to_frame('efficient_trader'))\n",
    "    .groupby(['day_of_trade', 'efficient_trader'])['quantity']\n",
    "    .sum().unstack().fillna(0)\n",
    ")\n",
    "\n",
    "dem_efficiency_by_day.columns = 'inefficient_trader_volume efficient_trader_volume'.split()\n",
    "rep_efficiency_by_day.columns = 'inefficient_trader_volume efficient_trader_volume'.split()\n",
    "dem_efficiency_by_day.index = pd.to_datetime(dem_efficiency_by_day.index)\n",
    "rep_efficiency_by_day.index = pd.to_datetime(rep_efficiency_by_day.index)\n",
    "\n",
    "dem_efficiency_by_day.head()"
   ]
  },
  {
   "cell_type": "code",
   "execution_count": 8,
   "metadata": {},
   "outputs": [
    {
     "data": {
      "image/png": "[encoded data removed]",
      "text/plain": [
       "<matplotlib.figure.Figure at 0x7f86a9e812b0>"
      ]
     },
     "metadata": {
      "needs_background": "light"
     },
     "output_type": "display_data"
    }
   ],
   "source": [
    "font = {'family' : 'Arial',\n",
    "        'weight' : 'bold',\n",
    "        'size'   : 10}\n",
    "\n",
    "mpl.rc('font', **font)\n",
    "\n",
    "legend_elements = [\n",
    "    Line2D([0], [0], linestyle='-', color='black', label='Efficient Trader Volume'),\n",
    "    Line2D([0], [0], linestyle='--', color='gray', label='Inefficient Trader Volume')\n",
    "]\n",
    "\n",
    "fig = plt.figure(figsize=(7.5, 7.5))\n",
    "\n",
    "ax1 = plt.subplot(211)\n",
    "plt.suptitle('Volume per Day by Efficiency Designation of Trader')\n",
    "plt.title('Democrat')\n",
    "\n",
    "dem_efficiency_by_day.loc['2015-11-01':, 'efficient_trader_volume'].plot(ax=ax1, c='black')\n",
    "dem_efficiency_by_day.loc['2015-11-01':, 'inefficient_trader_volume'].plot(ax=ax1, c='gray', linestyle='--')\n",
    "\n",
    "plt.ylabel('Volume')\n",
    "plt.legend(handles=legend_elements)\n",
    "\n",
    "ax2 = plt.subplot(212)\n",
    "plt.title('Republican')\n",
    "\n",
    "rep_efficiency_by_day.loc['2015-11-01':, 'efficient_trader_volume'].plot(ax=ax2, sharex=ax1, c='black')\n",
    "rep_efficiency_by_day.loc['2015-11-01':, 'inefficient_trader_volume'].plot(ax=ax2, sharex=ax1, c='gray', linestyle='--')\n",
    "\n",
    "plt.xlabel('Date')\n",
    "plt.ylabel('Volume')\n",
    "plt.legend(handles=legend_elements)\n",
    "\n",
    "plt.tight_layout(rect=(0, 0, 1, 0.96))\n",
    "\n",
    "plt.savefig('charts/volume_by_efficiency_designation_of_trader.png', dpi=300)"
   ]
  },
  {
   "cell_type": "code",
   "execution_count": null,
   "metadata": {},
   "outputs": [],
   "source": []
  },
  {
   "cell_type": "code",
   "execution_count": null,
   "metadata": {},
   "outputs": [],
   "source": []
  },
  {
   "cell_type": "code",
   "execution_count": null,
   "metadata": {},
   "outputs": [],
   "source": []
  }
 ],
 "metadata": {
  "kernelspec": {
   "display_name": "Python 3",
   "language": "python",
   "name": "python3"
  },
  "language_info": {
   "codemirror_mode": {
    "name": "ipython",
    "version": 3
   },
   "file_extension": ".py",
   "mimetype": "text/x-python",
   "name": "python",
   "nbconvert_exporter": "python",
   "pygments_lexer": "ipython3",
   "version": "3.5.2"
  }
 },
 "nbformat": 4,
 "nbformat_minor": 2
}
